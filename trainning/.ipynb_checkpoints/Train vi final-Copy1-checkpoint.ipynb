{
 "cells": [
  {
   "cell_type": "code",
   "execution_count": 1,
   "metadata": {},
   "outputs": [],
   "source": [
    "import pandas as pd\n",
    "import matplotlib.pyplot as plt\n",
    "import numpy as np\n",
    "df_col = [\"sentence\",\"brand_name\",\"info\",\"index\",\"content\",\"total\",\"thank_you\"]\n",
    "y_col = [\"brand_name\",\"info\",\"index\",\"content\",\"total\",\"thank_you\"]\n"
   ]
  },
  {
   "cell_type": "code",
   "execution_count": 2,
   "metadata": {},
   "outputs": [
    {
     "data": {
      "text/html": [
       "<div>\n",
       "<style scoped>\n",
       "    .dataframe tbody tr th:only-of-type {\n",
       "        vertical-align: middle;\n",
       "    }\n",
       "\n",
       "    .dataframe tbody tr th {\n",
       "        vertical-align: top;\n",
       "    }\n",
       "\n",
       "    .dataframe thead th {\n",
       "        text-align: right;\n",
       "    }\n",
       "</style>\n",
       "<table border=\"1\" class=\"dataframe\">\n",
       "  <thead>\n",
       "    <tr style=\"text-align: right;\">\n",
       "      <th></th>\n",
       "      <th>sentence</th>\n",
       "      <th>brand_name</th>\n",
       "      <th>info</th>\n",
       "      <th>index</th>\n",
       "      <th>content</th>\n",
       "      <th>total</th>\n",
       "      <th>thank_you</th>\n",
       "    </tr>\n",
       "  </thead>\n",
       "  <tbody>\n",
       "    <tr>\n",
       "      <th>0</th>\n",
       "      <td>DT: 0903915144</td>\n",
       "      <td>0</td>\n",
       "      <td>1</td>\n",
       "      <td>0</td>\n",
       "      <td>0</td>\n",
       "      <td>0</td>\n",
       "      <td>0</td>\n",
       "    </tr>\n",
       "    <tr>\n",
       "      <th>1</th>\n",
       "      <td>FC GOOD COFEE</td>\n",
       "      <td>1</td>\n",
       "      <td>0</td>\n",
       "      <td>0</td>\n",
       "      <td>0</td>\n",
       "      <td>0</td>\n",
       "      <td>0</td>\n",
       "    </tr>\n",
       "    <tr>\n",
       "      <th>2</th>\n",
       "      <td>ĐC: 126 Lai Hùng Cường, Vĩnh Lọc B,</td>\n",
       "      <td>0</td>\n",
       "      <td>1</td>\n",
       "      <td>0</td>\n",
       "      <td>0</td>\n",
       "      <td>0</td>\n",
       "      <td>0</td>\n",
       "    </tr>\n",
       "    <tr>\n",
       "      <th>3</th>\n",
       "      <td>Bình Chánh, TpHCM</td>\n",
       "      <td>0</td>\n",
       "      <td>1</td>\n",
       "      <td>0</td>\n",
       "      <td>0</td>\n",
       "      <td>0</td>\n",
       "      <td>0</td>\n",
       "    </tr>\n",
       "    <tr>\n",
       "      <th>4</th>\n",
       "      <td>ĐT: 0934145879</td>\n",
       "      <td>0</td>\n",
       "      <td>1</td>\n",
       "      <td>0</td>\n",
       "      <td>0</td>\n",
       "      <td>0</td>\n",
       "      <td>0</td>\n",
       "    </tr>\n",
       "  </tbody>\n",
       "</table>\n",
       "</div>"
      ],
      "text/plain": [
       "                              sentence  brand_name  info  index  content  \\\n",
       "0                       DT: 0903915144           0     1      0        0   \n",
       "1                        FC GOOD COFEE           1     0      0        0   \n",
       "2  ĐC: 126 Lai Hùng Cường, Vĩnh Lọc B,           0     1      0        0   \n",
       "3                    Bình Chánh, TpHCM           0     1      0        0   \n",
       "4                       ĐT: 0934145879           0     1      0        0   \n",
       "\n",
       "   total  thank_you  \n",
       "0      0          0  \n",
       "1      0          0  \n",
       "2      0          0  \n",
       "3      0          0  \n",
       "4      0          0  "
      ]
     },
     "execution_count": 2,
     "metadata": {},
     "output_type": "execute_result"
    }
   ],
   "source": [
    "train_df = pd.read_csv('31-07-vigroupped.csv',   encoding='utf-8')\n",
    "train_df.head()"
   ]
  },
  {
   "cell_type": "code",
   "execution_count": 3,
   "metadata": {},
   "outputs": [],
   "source": [
    "def count_pandas(df,row):\n",
    "    new_pandas = df.query(row+\">0\")\n",
    "    return new_pandas.shape[0]\n",
    "\n",
    "# count_pandas(train_df,\"info\")"
   ]
  },
  {
   "cell_type": "code",
   "execution_count": 300,
   "metadata": {},
   "outputs": [],
   "source": [
    "# Delete same data\n",
    "# delete_data = []\n",
    "# for index, row in train_df.iterrows():\n",
    "#     sentence = row['sentence']\n",
    "#     for i,r in train_df.iterrows():\n",
    "#         if i!= index:\n",
    "#             if r['sentence'] == sentence:\n",
    "#                 delete_data.append(i)\n",
    "#                 print(\"=====\")\n",
    "#                 print(row['sentence'])\n",
    "#                 print(r['sentence'])"
   ]
  },
  {
   "cell_type": "code",
   "execution_count": 301,
   "metadata": {},
   "outputs": [],
   "source": [
    "# # delete data\n",
    "# delete_data = list(set(delete_data))\n",
    "\n",
    "# org_train_df = train_df\n",
    "# org_delete_data = delete_data\n",
    "# delete_data = []\n",
    "# for i in org_delete_data:\n",
    "#     delete_data.append(int(i))\n",
    "# # for index in delete_data:\n",
    "# #     train_df.drop[train_df.loc(int(index))]\n",
    "# # print(len(delete_data))\n",
    "# # print(delete_data)\n",
    "# train_df = train_df.drop(delete_data)"
   ]
  },
  {
   "cell_type": "code",
   "execution_count": 302,
   "metadata": {},
   "outputs": [],
   "source": [
    "# train_df.to_csv(\"31-07-vigroupped.csv\", index = False,  encoding='utf-8')"
   ]
  },
  {
   "cell_type": "code",
   "execution_count": 303,
   "metadata": {},
   "outputs": [],
   "source": [
    "# df.query(\"brand_name>0\")"
   ]
  },
  {
   "cell_type": "code",
   "execution_count": 4,
   "metadata": {},
   "outputs": [
    {
     "name": "stdout",
     "output_type": "stream",
     "text": [
      "[31, 172, 59, 214, 129, 39]\n"
     ]
    },
    {
     "data": {
      "image/png": "[encoded data removed]",
      "text/plain": [
       "<Figure size 640x480 with 1 Axes>"
      ]
     },
     "metadata": {},
     "output_type": "display_data"
    }
   ],
   "source": [
    "# Explore data\n",
    "plt.rcdefaults()\n",
    "fig, ax = plt.subplots()\n",
    "# Example data\n",
    "\n",
    "y_pos = np.arange(len(y_col))\n",
    "performance = []\n",
    "\n",
    "for col in y_col:\n",
    "    performance.append(count_pandas(train_df,col))\n",
    "\n",
    "print(performance)\n",
    "error = np.random.rand(len(y_col))\n",
    "\n",
    "ax.barh(y_col, performance, align='center')\n",
    "ax.set_yticks(y_pos)\n",
    "ax.set_yticklabels(y_col)\n",
    "ax.invert_yaxis()  # labels read top-to-bottom\n",
    "ax.set_xlabel('Number of appear')\n",
    "ax.set_title('Bla bla bla')\n",
    "\n",
    "plt.show()"
   ]
  },
  {
   "cell_type": "code",
   "execution_count": 5,
   "metadata": {},
   "outputs": [
    {
     "name": "stderr",
     "output_type": "stream",
     "text": [
      "Using TensorFlow backend.\n"
     ]
    }
   ],
   "source": [
    "import numpy as np\n",
    "import os\n",
    "import pickle\n",
    "from keras.optimizers import SGD, Adam, Nadam, RMSprop\n",
    "from keras.preprocessing.text import Tokenizer\n",
    "from keras.preprocessing.sequence import pad_sequences\n",
    "from keras.utils.np_utils import to_categorical\n",
    "from keras.preprocessing import sequence\n",
    "from keras.models import Sequential,Model,load_model\n",
    "from keras.layers import Embedding,Conv1D,MaxPooling1D\n",
    "from keras.layers.core import Dense, Activation,Dropout ,Flatten\n",
    "from keras.layers.recurrent import LSTM\n",
    "from keras.utils import np_utils\n",
    "from keras.preprocessing.image import ImageDataGenerator\n",
    "from keras.preprocessing import sequence\n",
    "from keras.preprocessing.text import text_to_word_sequence,one_hot,Tokenizer\n",
    "from keras.constraints import maxnorm\n",
    "from keras.callbacks import ModelCheckpoint,TensorBoard, ReduceLROnPlateau,EarlyStopping\n",
    "from keras.applications import Xception\n",
    "from keras import regularizers\n",
    "from keras import backend as K\n",
    "import keras\n",
    "import numpy as np\n",
    "import pandas as pd\n",
    "import cv2\n",
    "import os\n",
    "import glob\n",
    "import math\n",
    "import matplotlib.pyplot as plt\n",
    "from sklearn.utils import shuffle\n",
    "from sklearn.model_selection import train_test_split"
   ]
  },
  {
   "cell_type": "code",
   "execution_count": 6,
   "metadata": {},
   "outputs": [
    {
     "data": {
      "text/html": [
       "<div>\n",
       "<style scoped>\n",
       "    .dataframe tbody tr th:only-of-type {\n",
       "        vertical-align: middle;\n",
       "    }\n",
       "\n",
       "    .dataframe tbody tr th {\n",
       "        vertical-align: top;\n",
       "    }\n",
       "\n",
       "    .dataframe thead th {\n",
       "        text-align: right;\n",
       "    }\n",
       "</style>\n",
       "<table border=\"1\" class=\"dataframe\">\n",
       "  <thead>\n",
       "    <tr style=\"text-align: right;\">\n",
       "      <th></th>\n",
       "      <th>sentence</th>\n",
       "      <th>brand_name</th>\n",
       "      <th>info</th>\n",
       "      <th>index</th>\n",
       "      <th>content</th>\n",
       "      <th>total</th>\n",
       "      <th>thank_you</th>\n",
       "    </tr>\n",
       "  </thead>\n",
       "  <tbody>\n",
       "    <tr>\n",
       "      <th>71</th>\n",
       "      <td>T.CỘNG 5 58,000</td>\n",
       "      <td>0</td>\n",
       "      <td>0</td>\n",
       "      <td>0</td>\n",
       "      <td>0</td>\n",
       "      <td>1</td>\n",
       "      <td>0</td>\n",
       "    </tr>\n",
       "    <tr>\n",
       "      <th>477</th>\n",
       "      <td>|Sitring cake</td>\n",
       "      <td>0</td>\n",
       "      <td>0</td>\n",
       "      <td>0</td>\n",
       "      <td>1</td>\n",
       "      <td>0</td>\n",
       "      <td>0</td>\n",
       "    </tr>\n",
       "    <tr>\n",
       "      <th>187</th>\n",
       "      <td>0982 434 830</td>\n",
       "      <td>0</td>\n",
       "      <td>1</td>\n",
       "      <td>0</td>\n",
       "      <td>0</td>\n",
       "      <td>0</td>\n",
       "      <td>0</td>\n",
       "    </tr>\n",
       "    <tr>\n",
       "      <th>381</th>\n",
       "      <td>Tiên hàng: 95.000</td>\n",
       "      <td>0</td>\n",
       "      <td>0</td>\n",
       "      <td>0</td>\n",
       "      <td>1</td>\n",
       "      <td>0</td>\n",
       "      <td>0</td>\n",
       "    </tr>\n",
       "    <tr>\n",
       "      <th>39</th>\n",
       "      <td>3x 2,000,000 6,000,000</td>\n",
       "      <td>0</td>\n",
       "      <td>0</td>\n",
       "      <td>0</td>\n",
       "      <td>1</td>\n",
       "      <td>0</td>\n",
       "      <td>0</td>\n",
       "    </tr>\n",
       "  </tbody>\n",
       "</table>\n",
       "</div>"
      ],
      "text/plain": [
       "                   sentence  brand_name  info  index  content  total  \\\n",
       "71          T.CỘNG 5 58,000           0     0      0        0      1   \n",
       "477           |Sitring cake           0     0      0        1      0   \n",
       "187            0982 434 830           0     1      0        0      0   \n",
       "381       Tiên hàng: 95.000           0     0      0        1      0   \n",
       "39   3x 2,000,000 6,000,000           0     0      0        1      0   \n",
       "\n",
       "     thank_you  \n",
       "71           0  \n",
       "477          0  \n",
       "187          0  \n",
       "381          0  \n",
       "39           0  "
      ]
     },
     "execution_count": 6,
     "metadata": {},
     "output_type": "execute_result"
    }
   ],
   "source": [
    "seed = 120\n",
    "np.random.seed(seed)\n",
    "train_df = shuffle(train_df)\n",
    "train_df.head()"
   ]
  },
  {
   "cell_type": "code",
   "execution_count": 7,
   "metadata": {},
   "outputs": [],
   "source": [
    "X_train = train_df[\"sentence\"].fillna(\"fillna\").values\n",
    "Y_train = train_df[['brand_name', 'info', 'index', 'content', 'total', 'thank_you']].values"
   ]
  },
  {
   "cell_type": "code",
   "execution_count": 8,
   "metadata": {},
   "outputs": [
    {
     "name": "stdout",
     "output_type": "stream",
     "text": [
      "Shape of X_train: (644,)\n",
      "Shape of Y_train: (644, 6)\n"
     ]
    }
   ],
   "source": [
    "print(\"Shape of X_train:\",X_train.shape)\n",
    "print(\"Shape of Y_train:\",Y_train.shape)"
   ]
  },
  {
   "cell_type": "code",
   "execution_count": 10,
   "metadata": {},
   "outputs": [
    {
     "name": "stdout",
     "output_type": "stream",
     "text": [
      "T.CỘNG 5 58,000\n",
      "(Input->Sentence) Length of X_train: (644,)\n",
      "(output->Labels) Length of Y_train: (644, 6)\n",
      "|Sitring cake\n"
     ]
    }
   ],
   "source": [
    "Tokenizer = Tokenizer()\n",
    "print(X_train[0])\n",
    "print(\"(Input->Sentence) Length of X_train:\",X_train.shape) # Input -> Input\n",
    "print(\"(output->Labels) Length of Y_train:\",Y_train.shape) # output -> Labels\n",
    "texts = X_train\n",
    "print(texts[1])"
   ]
  },
  {
   "cell_type": "code",
   "execution_count": 11,
   "metadata": {},
   "outputs": [
    {
     "name": "stdout",
     "output_type": "stream",
     "text": [
      "Tokenizer vocabulary size: 1196\n"
     ]
    },
    {
     "data": {
      "text/plain": [
       "45"
      ]
     },
     "execution_count": 11,
     "metadata": {},
     "output_type": "execute_result"
    }
   ],
   "source": [
    "Tokenizer.fit_on_texts(texts) \n",
    "Tokenizer_vocab_size = len(Tokenizer.word_index) + 1\n",
    "print(\"Tokenizer vocabulary size:\",Tokenizer_vocab_size)\n",
    "len(max(X_train,key=len))\n"
   ]
  },
  {
   "cell_type": "code",
   "execution_count": 12,
   "metadata": {},
   "outputs": [
    {
     "name": "stdout",
     "output_type": "stream",
     "text": [
      "(Input->Sentence) Length of X_train: (515,)\n",
      "(output->Labels) Length of Y_train: (515, 6)\n"
     ]
    }
   ],
   "source": [
    "X_train, X_val, Y_train, Y_val = train_test_split(X_train, Y_train, test_size=0.2)\n",
    "print(\"(Input->Sentence) Length of X_train:\",X_train.shape) # Input -> Input\n",
    "print(\"(output->Labels) Length of Y_train:\",Y_train.shape) # output -> Labels"
   ]
  },
  {
   "cell_type": "code",
   "execution_count": 13,
   "metadata": {},
   "outputs": [],
   "source": [
    "X_train_encoded_words = Tokenizer.texts_to_sequences(X_train)\n",
    "X_val_encoded_words = Tokenizer.texts_to_sequences(X_val)"
   ]
  },
  {
   "cell_type": "code",
   "execution_count": 22,
   "metadata": {},
   "outputs": [
    {
     "name": "stdout",
     "output_type": "stream",
     "text": [
      "Hotline : 091554 05 06\n",
      "[202, 771, 66, 317]\n",
      "{'000': 1, '1': 2, 'sl': 3, 'hàng': 4, 'tiền': 5, '0': 6, 't': 7, 'giá': 8, '10': 9, 'khách': 10, '2': 11, '30': 12, '5': 13, 'tên': 14, '00': 15, 'giờ': 16, 'đơn': 17, '4': 18, '60': 19, '100': 20, '20': 21, '17': 22, '25': 23, 'sữa': 24, 'ngày': 25, '45': 26, 'mặt': 27, 'lại': 28, 'trà': 29, '3': 30, 'tien': 31, '500': 32, '19': 33, 'thành': 34, 'tiên': 35, '95': 36, '6': 37, '12': 38, '35': 39, '15': 40, 'cam': 41, 'hoa': 42, '50': 43, '40': 44, 'ơn': 45, '13': 46, 'số': 47, 'xin': 48, 'quý': 49, '22': 50, 'trả': 51, 'hà': 52, 'on': 53, '—': 54, '8': 55, 'thanh': 56, 'rm': 57, '80': 58, 'ban': 59, 'tổng': 60, 'gặp': 61, 'phê': 62, 'tra': 63, 'ca': 64, 'đ': 65, '05': 66, 'lai': 67, '90': 68, 'đgiá': 69, 'cafe': 70, 'thu': 71, '28': 72, 'dgia': 73, 'hen': 74, 'gap': 75, '01': 76, 'don': 77, '2017': 78, '2018': 79, '36': 80, 'toán': 81, 'tươi': 82, 'cốc': 83, '150': 84, 'giam': 85, 'dt': 86, 'hai': 87, 'cà': 88, 'công': 89, '26': 90, 'nam': 91, '18': 92, 'x': 93, 'đưa': 94, 'quy': 95, '55': 96, '02': 97, '70': 98, 'administrator': 99, '11': 100, 'hẹn': 101, 'món': 102, 'vị': 103, '65': 104, 'nước': 105, 'cám': 106, '04': 107, 'thức': 108, 'coffee': 109, 'ˆ': 110, 'gà': 111, 'cong': 112, '16': 113, '49': 114, 'khach': 115, '38': 116, 'mon': 117, 'total': 118, 'a': 119, '9': 120, 'chiên': 121, 'dương': 122, 'tây': 123, 'kem': 124, 'uống': 125, 'tiger': 126, 'vào': 127, 'ăn': 128, 'giòn': 129, 'cay': 130, '800': 131, 'so': 132, 'l': 133, '120': 134, 'nguyễn': 135, '66': 136, 'ngan': 137, '0001': 138, 'hang': 139, 'cashier': 140, 'ngân': 141, '735': 142, 'cảm': 143, 'tt': 144, 'stt': 145, 'đvt': 146, '23': 147, '24': 148, 'com': 149, 'quán': 150, '200': 151, '03': 152, 'shop': 153, 'bia': 154, '400': 155, 'tp': 156, 'ra': 157, 'trăm': 158, 'cơ': 159, '44': 160, 'tu': 161, 'ha': 162, 'vnđ': 163, 'oil': 164, '1x': 165, 'bình': 166, 'pudding': 167, 'đậu': 168, 'dẻ': 169, 'chanh': 170, 'bạc': 171, 'no': 172, 'acc': 173, 'đt': 174, 'in': 175, 'lúc': 176, '07': 177, '79': 178, '300': 179, 'i': 180, '32': 181, 'phiếu': 182, 'ttiền': 183, 'thank': 184, 'you': 185, 'ten': 186, 'tea': 187, 'đgía': 188, 'tam': 189, 'bản': 190, '80000': 191, '18000': 192, '08': 193, 'ép': 194, 'thực': 195, '7': 196, 'cocacola': 197, 'hướng': 198, 'tinh': 199, 'an': 200, 'ngọt': 201, 'hotline': 202, 'xảo': 203, 'are': 204, 'thạch': 205, 'phe': 206, 'thúc': 207, 'hb': 208, '37': 209, '103': 210, 'ty': 211, 'cơm': 212, 'gst': 213, 'đc': 214, 'tphcm': 215, '130': 216, 'nau': 217, 'b': 218, '2014': 219, 'kiwi': 220, 'khoai': 221, 'bao': 222, 'ngàn': 223, 'bill': 224, 'sao': 225, 'thủy': 226, 'cộng': 227, '58': 228, 'đồ': 229, 'đùi': 230, 'vat': 231, '925': 232, 'âu': 233, 'p': 234, 'tân': 235, 'sơn': 236, 'q': 237, 'tan': 238, 'dao': 239, 'duy': 240, 'hoan': 241, 'kiem': 242, 'noi': 243, '86': 244, '136': 245, '886': 246, 'và': 247, '45000': 248, 'giảm': 249, '27': 250, 'nhẫn': 251, 'th': 252, '83': 253, 'uni': 254, '220': 255, 'tao': 256, '97': 257, '32000': 258, 'rib': 259, '380': 260, 'toàn': 261, 'adjustment': 262, 'sinh': 263, '003': 264, '160': 265, 'fish': 266, 'farm': 267, 'restaurant': 268, '2x': 269, 'cash': 270, 'barsalou': 271, 'bank': 272, 'mbb': 273, 'nhan': 274, 'bo': 275, '4x': 276, '31': 277, 'nhãn': 278, '09': 279, '1111': 280, '01⁄2018': 281, 'thuế': 282, '21': 283, '39': 284, 'xanh': 285, \"do'n\": 286, 'n': 287, '1n': 288, '14': 289, 'đạu': 290, 'mr': 291, '328': 292, 'hu': 293, 'tieu': 294, 'ck': 295, 'khong': 296, 'thue': 297, 'green': 298, 'càng': 299, 'rang': 300, 'v': 301, 'johor': 302, 'naan': 303, 'ngũ': 304, 'bàn': 305, '3t': 306, 'admin': 307, '151104': 308, 'đại': 309, 'só': 310, 'suon': 311, 'chien': 312, 'kdo': 313, 'suối': 314, 'quận': 315, 'hạt': 316, '06': 317, 'tấn': 318, 'again': 319, 'văn': 320, 'khoail': 321, '0984': 322, '087': 323, 'mat': 324, '2019': 325, 'goods': 326, 'sold': 327, 'not': 328, 'refundable': 329, 'yên': 330, 'trái': 331, '5000': 332, 'đá': 333, 's': 334, 'bida': 335, '2015': 336, 'count': 337, '008': 338, 'nội': 339, 'hđ': 340, 'bh': 341, '006': 342, 'thủ': 343, 'nghệ': 344, '30000': 345, 'hồ': 346, 'đen': 347, '420': 348, 'í': 349, 'ngõ': 350, 'trưng': 351, 'ton': 352, 'dan': 353, 'hd': 354, '0002': 355, 'ly': 356, 'bun': 357, 'sing': 358, '42': 359, 'pm': 360, '460': 361, '750': 362, 'm': 363, '0902': 364, '869': 365, '579': 366, '181': 367, 'chai': 368, '25000': 369, 'bla': 370, 'g': 371, '272': 372, 'huy': 373, 'tập': 374, 'tĩnh': 375, 'sr': 376, '68': 377, '87': 378, 'trang': 379, 'môn': 380, 'sá': 381, '1851': 382, 'luong': 383, '¡': 384, 'hung': 385, 'sách': 386, 'học': 387, '600': 388, '0903915144': 389, '2016': 390, 'gio': 391, 'một': 392, 'da': 393, '3362': 394, 'tiệm': 395, 'sung': 396, 'cuốn': 397, '99': 398, '404': 399, 'mươi': 400, 'cánh': 401, '85': 402, '480': 403, 'menu': 404, 'gia': 405, 'gi': 406, 'nâu': 407, 'bánh': 408, 'hóa': 409, 'thái': 410, '70000': 411, 'salad': 412, 'please': 413, '319': 414, 'sitring': 415, 'cake': 416, '0982': 417, '434': 418, '830': 419, '3x': 420, '34': 421, '118': 422, '522': 423, 'nhì': 424, 'viet': 425, '“sở': 426, \"'tiên\": 427, 'thôi': 428, 'tho': 429, '880': 430, 'fc': 431, 'good': 432, 'cofee': 433, 'vi': 434, 'suý': 435, 'tràxanh': 436, 'ta': 437, 'chua': 438, '700': 439, 'hỏng': 440, 'doi': 441, 'usn': 442, 'nấm': 443, 'hòa': 444, '360': 445, 'quần': 446, 'nhậu': 447, 'dẫn': 448, '31000': 449, 'steak': 450, '380000': 451, 'khánh': 452, 'câu': 453, 'giây': 454, 'rounding': 455, 'ncổ': 456, 'zzuuu': 457, 'd4': 458, 'j‡l3đường': 459, 'tốt': 460, 'tuyết': 461, 'ttiên': 462, 'sửu': 463, '2¬': 464, 'ms': 465, 'bó': 466, 'la': 467, 'cải': 468, '601': 469, '2€0': 470, '6493': 471, 'or': 472, '6012': 473, '286': 474, '8193': 475, 'tha': 476, 'lien': 477, 'rưa': 478, 'me': 479, 'cừng': 480, '00u': 481, 'strictly': 482, 'refund': 483, '5c': 484, '395': 485, 'freeh': 486, 'mocals': 487, 'rats': 488, '5128': 489, '4851': 490, '2118': 491, '0934145879': 492, 'ngần': 493, 'puddlngtiủng': 494, 'viên': 495, '091800001': 496, 'tel': 497, 'd8': 498, '84': 499, '0967041111': 500, 'tiàhươngv': 501, 'matcha': 502, 'ad': 503, 'thịfräm': 504, 'mặn': 505, '720': 506, '5626': 507, '4732': 508, '1744': 509, '5cl': 510, 'gtgt': 511, '57': 512, 'am': 513, 'khoaimôn': 514, 'buom': 515, 'oil1': 516, '63': 517, 'snn': 518, '010': 519, 'í131a': 520, 'bá»hxègsze': 521, '79003': 522, '¡rong': 523, 'nho': 524, '180': 525, 'station': 526, 'na': 527, '48': 528, 'itens': 529, '310': 530, 'daie': 531, 'pr': 532, 'tret1': 533, 'o': 534, '¥': 535, 'jghgr': 536, 'sdn': 537, 'bhd': 538, 'người': 539, 'quản': 540, 'tị': 541, 'ghe': 542, 'mudi': 543, 'sð': 544, 'g2aa': 545, 'cim': 546, 'va': 547, 'khác': 548, 'kin': 549, \"o'n\": 550, 'lali': 551, 'eve': 552, 'steahk': 553, '590': 554, '906': 555, 'skycoffee': 556, '165': 557, 'ma': 558, 'he': 559, '1122271042015': 560, '81100': 561, 'bahru': 562, 'change': 563, '114019': 564, 'b4n': 565, 'tram': 566, 'mirot': 567, 'dang': 568, 'vnb': 569, 'dine': 570, '0903144': 571, 'heo': 572, 'rừng': 573, 'nướng': 574, 'sling': 575, 'ex': 576, '———': 577, 'the': 578, 'opera': 579, '0902096': 580, 'sụn': 581, 'mạm': 582, 'tênhànsg': 583, 'den': 584, 'to': 585, 'là': 586, 'h': 587, 's6ct': 588, '0856393': 589, 'ngọc': 590, 'vân': 591, 'rồng': 592, 'há': 593, 'mềm': 594, '128': 595, 'fay': 596, 'chỉ': 597, '0u': 598, 'ổi': 599, 'gloevaox': 600, '20141': 601, '00118a': 602, '09033d4': 603, 'mantis': 604, 'quốc': 605, 'cang': 606, 'thử': 607, 'ngẩn': 608, 'uỳnh': 609, 'phát': 610, 'chấu': 611, 'địi': 612, 'nông': 613, 'handmade': 614, 'rh': 615, '33': 616, '96': 617, 'dằm': 618, '110': 619, 'thiet': 620, 'bảy': 621, 'chú': 622, 'lùn': 623, '1b': 624, 'sầu': 625, 'riêng': 626, 'đg': 627, 'longleiani': 628, '¢': 629, 'magarla': 630, '198': 631, 'èpudding': 632, '031900002': 633, 'mi': 634, 'bò': 635, 'sub': 636, 'bái': 637, 'tính': 638, 'bidalö': 639, 'socola': 640, 'cây': 641, 'rounded': 642, 'khagh': 643, 'tel’': 644, '269': 645, '3597': 646, 'suan': 647, 'free': 648, 'nưäc': 649, 'chal': 650, 'nôi': 651, '71': 652, 'xúc': 653, 'xích': 654, 'cái': 655, 'thachtréicay': 656, 'phuong': 657, 'hoang': 658, 'kết': 659, 'table': 660, 'pax': 661, 'ttem': 662, 'ò': 663, '12000': 664, 'rem': 665, 'bluate': 666, '“giờ': 667, 'giờra': 668, 'bien': 669, 'go': 670, 'đongiá': 671, '20141017': 672, 'hđb': 673, '20141016': 674, 'mo': 675, 'nv': 676, 'tinhoc': 677, 'mai': 678, 'göi': 679, 'súa': 680, 'cua': 681, 'việt': 682, 'vien': 683, 'cuộncángừ': 684, 'bóng': 685, 'tay': 686, 'thối': 687, 'nba': 688, 'mugi': 689, 'po': 690, 'summary': 691, 'âmount': 692, 'taxrm': 693, '3003': 694, '680': 695, '883a': 696, 'pho': 697, 'phúc': 698, 'bồn': 699, 'tử': 700, '78': 701, 'lò': 702, 'đúc': 703, 'bà': 704, 'tv': 705, 'hoàn': 706, 'kiếm': 707, 'hn': 708, 'f13q4': 709, 'ðe': 710, 'nguy': 711, 'nga': 712, 'hanh': 713, 'ct': 714, '085639': 715, 'duong': 716, 'capheren': 717, '13000': 718, 'veg': 719, 'thai': 720, 'isl': 721, 'nâng': 722, 'bạchtuyếtvà': 723, 'ati': 724, '88': 725, 'boom': 726, 'thạchtráicây': 727, '£5': 728, 'gias': 729, 'ed': 730, '——': 731, '“6': 732, '144': 733, 'chân': 734, '012018': 735, 'ghẹ': 736, 'muối': 737, '54': 738, '„„j5': 739, 'chim': 740, '350': 741, 'bàn01': 742, '59h': 743, 'address': 744, '771': 745, 'suong': 746, '780000': 747, '3005': 748, '102613': 749, 'ý': 750, '243': 751, '742': 752, '“vinntaba': 753, '89': 754, 'thăng': 755, 'long': 756, 'haineken': 757, 'lắc': 758, 'xoáy': 759, 'f7': 760, 'jÿ1l3đường': 761, 'eee': 762, 'tuoi': 763, 'nad': 764, 'đua': 765, 'dây': 766, 'chánh': 767, 'phú': 768, '6684': 769, 'sen': 770, '091554': 771, 'ký': 772, 'ức': 773, 'ngào': 774, 'giamitien': 775, 'amimi': 776, '67': 777, 'nguyễm': 778, 'uỏng': 779, 'thach': 780, 'tênhàng': 781, 'đðđg': 782, 'lot': 783, 'jalan': 784, 'kpb': 785, 'ran': 786, \"'\": 787, '8b': 788, 'sau': 789, 'lcốc': 790, 'zfamawisncoan': 791, '2d': 792, '280g7': 793, 'đĩahoaquàtt': 794, '2026': 795, '03109a': 796, 'lẻ': 797, 'naay': 798, '02020001': 799, '0163': 800, '897': 801, '2711': 802, '0865': 803, '571': 804, '195': 805, 'soh': 806, '00001': 807, '20102014601': 808, 'du': 809, 'ail': 810, '7000': 811, 'gàm': 812, \"'øn\": 813, 'bàp': 814, 'lail': 815, 'khuyến': 816, 'mãi': 817, 'tran': 818, '0444654': 819, 'tin': 820, 'mũi': 821, 'hương': 822, 'heniken': 823, 'bệnh': 824, 'viện': 825, '108': 826, '1ran': 827, 'hưng': 828, '36100311': 829, 'trứng': 830, 'vao': 831, 'a1': 832, 'shisha': 833, 'vip': 834, '126': 835, 'hùng': 836, 'cường': 837, 'vĩnh': 838, 'lọc': 839, '151': 840, 'f': 841, 'thừa': 842, 'giỏ': 843, 'vietnam': 844, '43pm': 845, '0003': 846, 'd2': 847, 'remebrulae': 848, '4103106': 849, 'mười': 850, 'đồng': 851, '0994': 852, '0s7': 853, '2m': 854, 'dứa': 855, 'hé': 856, '50000': 857, 'vinntaba': 858, 'điên': 859, 'thoai': 860, '‘change': 861, 'tcong': 862, '8970669': 863, '056100311': 864, 'closed': 865, '51': 866, 'tol': 867, '4395': 868, 'fax': 869, '4305': 870, 'merci': 871, 'sở': 872, 'chính': 873, 'quầy': 874, 'exchangeable': 875, 'tương': 876, 'phì': 877, 'lũ': 878, 'trúng': 879, 'chiến': 880, 'canh': 881, 'chủamnghêu': 882, '450': 883, 'hỗ': 884, 'chfíminh': 885, 'uv': 886, 'dường': 887, 'cuối': 888, 'tuần': 889, 'đĩa': 890, 'kho': 891, '8cm': 892, '112017': 893, '180415': 894, '414': 895, 'bắt': 896, 'đầu': 897, '41': 898, 'bon': 899, '“nưếc': 900, '12015': 901, '1424727': 902, 'g8000': 903, 'amapny': 904, 'selangor': 905, 'returnable': 906, 'lavie': 907, '430': 908, '121': 909, 'phở': 910, 'tôm': 911, 'phố': 912, 'mới': 913, '‘tran': 914, 'quảnly': 915, '0905': 916, '933': 917, '159': 918, '0976': 919, '941': 920, '0168': 921, '966': 922, '6486': 923, '3q': 924, 'namu': 925, 'y': 926, 'bk': 927, '7w': 928, 'ww': 929, 'led': 930, 'track': 931, 'lighf': 932, 'niềm': 933, 'hy': 934, 'vọng': 935, 'reg': 936, '0008': 937, '3385': 938, '3536': 939, 'sản': 940, 'phầm': 941, 'digia': 942, 'draught': 943, 'halds': 944, 'www': 945, 'mtv': 946, 'org': 947, 'vn': 948, '47': 949, 'f13': 950, 'q4': 951, 'woe': 952, 'chỉn': 953, 'tám': 954, 'măt': 955, 'dongid': 956, 'ttién': 957, 'nơ': 958, 'đai': 959, 'đường': 960, 'kdc': 961, '1385': 962, 'bên': 963, 'lư': 964, 'băp': 965, 'non': 966, 'năm': 967, 'mốt': 968, 'ebdng': 969, 'jj5io': 970, 'rounidng': 971, 'vanila': 972, 'gộng': 973, 'vnd': 974, 'tong': 975, 'thời': 976, 'gian': 977, 'phút': 978, 'hạ': 979, 'tiueen': 980, '23112015': 981, '124727': 982, 'thuốc': 983, 'lá': 984, '4l': 985, 'azteen': 986, 'giấc': 987, 'mơ': 988, 'hồng': 989, 'pon': 990, 'thuy': 991, 'trên': 992, 'chừa': 993, 'baø': 994, 'gỏmi': 995, 'ìh18': 996, '‘gold': 997, 'mp': 998, 're3': 999, 'ne': 1000, '926627': 1001, 'khoa': 1002, 'oua': 1003, 'prawns': 1004, 'pov': 1005, 'duflicated': 1006, \"jmụ'c\": 1007, 'yaourt': 1008, 'nha': 1009, 'dam': 1010, 'son': 1011, 'fashion': 1012, 'wifi': 1013, 'book': 1014, 'đn': 1015, '124': 1016, 'phs': 1017, 'tâm': 1018, '88603': 1019, 'service': 1020, 'charge': 1021, 'trắng': 1022, 'niở': 1023, 'nlờ': 1024, '289': 1025, '075': 1026, 'phan': 1027, 'châu': 1028, 'trinh': 1029, 'khăn': 1030, 'lanh': 1031, '“tổng': 1032, 'dịch': 1033, 'vụ': 1034, '125': 1035, '0902018996': 1036, '4629719': 1037, 'crfeuceiriglce': 1038, '52001': 1039, '“tax': 1040, 'invoice': 1041, 'tr': 1042, 'cc': 1043, '428': 1044, 'ot': 1045, 'hia': 1046, 'aon': 1047, 'chưa': 1048, 'dầm': 1049, 'téng': 1050, 'nhấn': 1051, '59ch': 1052, 'ibank': 1053, 'ambank': 1054, '888': 1055, '123': 1056, '3706': 1057, '093': 1058, 'vy': 1059, 'km': 1060, 'jin': 1061, 'ampang': 1062, 'hulu': 1063, 'langat': 1064, 'tràôlong': 1065, 'dĩa': 1066, '55000': 1067, 'that': 1068, 'o00': 1069, 'hat': 1070, 'close': 1071, 'bụếa': 1072, 'náo': 1073, 'sz': 1074, '51c44458': 1075, 'hàn': 1076, 'exchange': 1077, 'allowed': 1078, 'within': 1079, 'phác': 1080, '020': 1081, 'trâu': 1082, 'lẫu': 1083, 'luc': 1084, 'ie': 1085, 'hha': 1086, 'ch': 1087, 'mm': 1088, 'it': 1089, 'tỷ': 1090, 'caphesuada': 1091, 'con': 1092, 'chivas': 1093, '900': 1094, '161': 1095, 'phé': 1096, '35000': 1097, '112': 1098, 'mocha': 1099, '‹jc': 1100, 'eitnidl': 1101, 'eo': 1102, '23ll5í': 1103, 'ngoài': 1104, 'trời': 1105, 'mã': 1106, 'thơm': 1107, 'tang': 1108, '2q': 1109, '6000': 1110, 'tx': 1111, 'nghĩa': 1112, 'lộ': 1113, '4462164665498': 1114, '489': 1115, 'mc': 1116, '00098': 1117, 'lar': 1118, 'xuân': 1119, 'phưởng': 1120, 'thảo': 1121, 'điển': 1122, 'mẻci': 1123, 'start': 1124, 'py': 1125, '131': 1126, 'xèo': 1127, 'size': 1128, 'trích': 1129, 'sài': 1130, 's1': 1131, 'duck': 1132, 'dừa': 1133, 'cone': 1134, 'agains': 1135, 'coke': 1136, '260': 1137, 'come': 1138, 'tax': 1139, '6a': 1140, 'frequilasunce': 1141, 'te': 1142, 'muỗi': 1143, 'bll': 1144, 'sso': 1145, 'sn': 1146, '1e': 1147, 'aif': 1148, 'chin': 1149, 'muoi': 1150, 'lim': 1151, 'dong': 1152, 'hẽn': 1153, 'ên': 1154, '540000': 1155, 'qua': 1156, 'dic': 1157, 'biét': 1158, '999': 1159, '009': 1160, '540': 1161, 'hằng': 1162, '458001': 1163, 'ptt': 1164, '00000066': 1165, '11720': 1166, 'prowct': 1167, 'qty': 1168, 'u': 1169, 'price': 1170, 'bst': 1171, 'bè': 1172, 'xào': 1173, 'củ': 1174, 'hành': 1175, 'rok': 1176, 'and': 1177, 'leather': 1178, 'lương': 1179, 'gọng': 1180, '398': 1181, 'joint': 1182, '2dbtn': 1183, '2bðggq': 1184, '0971': 1185, '1989': 1186, '604': 1187, 'trần': 1188, 'bạch': 1189, 'đằng': 1190, 'đà': 1191, 'nẵng': 1192, 'cuộn': 1193, 'cá': 1194, 'ngừ': 1195}\n"
     ]
    }
   ],
   "source": [
    "print(X_train[2])\n",
    "print(X_train_encoded_words[2])\n",
    "print(Tokenizer.word_index)"
   ]
  },
  {
   "cell_type": "code",
   "execution_count": 313,
   "metadata": {},
   "outputs": [
    {
     "name": "stdout",
     "output_type": "stream",
     "text": [
      "(output->Labels) Length of Y_train: (515, 6)\n"
     ]
    }
   ],
   "source": [
    "print(\"(output->Labels) Length of Y_train:\",Y_train.shape) # output -> Labelsprint(\"(Input->Sentence)"
   ]
  },
  {
   "cell_type": "code",
   "execution_count": 314,
   "metadata": {},
   "outputs": [],
   "source": [
    "maxWordCount= 450\n",
    "maxDictionary_size=Tokenizer_vocab_size\n",
    "X_train_encoded_padded_words = sequence.pad_sequences(X_train_encoded_words, maxlen=maxWordCount)\n",
    "X_val_encoded_padded_words = sequence.pad_sequences(X_val_encoded_words, maxlen=maxWordCount)"
   ]
  },
  {
   "cell_type": "code",
   "execution_count": 315,
   "metadata": {},
   "outputs": [
    {
     "name": "stdout",
     "output_type": "stream",
     "text": [
      "(Input->Sentence) Length of X_train: (515, 450)\n",
      "(output->Labels) Length of Y_train: (515, 6)\n"
     ]
    }
   ],
   "source": [
    "print(\"(Input->Sentence) Length of X_train:\",X_train_encoded_padded_words.shape) # Input -> Input\n",
    "print(\"(output->Labels) Length of Y_train:\",Y_train.shape) # output -> Labels"
   ]
  },
  {
   "cell_type": "code",
   "execution_count": 316,
   "metadata": {},
   "outputs": [
    {
     "name": "stdout",
     "output_type": "stream",
     "text": [
      "(515, 6)\n",
      "(129, 6)\n"
     ]
    }
   ],
   "source": [
    "print(Y_train.shape)\n",
    "print(Y_val.shape)"
   ]
  },
  {
   "cell_type": "code",
   "execution_count": 317,
   "metadata": {},
   "outputs": [
    {
     "name": "stdout",
     "output_type": "stream",
     "text": [
      "_________________________________________________________________\n",
      "Layer (type)                 Output Shape              Param #   \n",
      "=================================================================\n",
      "embedding_12 (Embedding)     (None, 450, 32)           38272     \n",
      "_________________________________________________________________\n",
      "lstm_12 (LSTM)               (None, 10)                1720      \n",
      "_________________________________________________________________\n",
      "dropout_12 (Dropout)         (None, 10)                0         \n",
      "_________________________________________________________________\n",
      "dense_34 (Dense)             (None, 1200)              13200     \n",
      "_________________________________________________________________\n",
      "dense_35 (Dense)             (None, 500)               600500    \n",
      "_________________________________________________________________\n",
      "dense_36 (Dense)             (None, 6)                 3006      \n",
      "=================================================================\n",
      "Total params: 656,698\n",
      "Trainable params: 656,698\n",
      "Non-trainable params: 0\n",
      "_________________________________________________________________\n"
     ]
    },
    {
     "name": "stderr",
     "output_type": "stream",
     "text": [
      "/home/hung/.local/lib/python3.6/site-packages/ipykernel_launcher.py:15: UserWarning: Update your `Dense` call to the Keras 2 API: `Dense(1200, activation=\"relu\", kernel_constraint=<keras.con...)`\n",
      "  from ipykernel import kernelapp as app\n",
      "/home/hung/.local/lib/python3.6/site-packages/ipykernel_launcher.py:17: UserWarning: Update your `Dense` call to the Keras 2 API: `Dense(500, activation=\"relu\", kernel_constraint=<keras.con...)`\n"
     ]
    }
   ],
   "source": [
    "# Model\n",
    "\n",
    "model = Sequential()\n",
    "\n",
    "model.add(Embedding(maxDictionary_size, 32, input_length=maxWordCount)) #to change words to ints\n",
    "# model.add(Conv1D(filters=32, kernel_size=3, padding='same', activation='relu'))\n",
    "# model.add(MaxPooling1D(pool_size=2))\n",
    "# model.add(Dropout(0.5))\n",
    "# model.add(Conv1D(filters=32, kernel_size=2, padding='same', activation='relu'))\n",
    "# model.add(MaxPooling1D(pool_size=2))\n",
    " #hidden layers\n",
    "model.add(LSTM(10))\n",
    "# model.add(Flatten())\n",
    "model.add(Dropout(0.6))\n",
    "model.add(Dense(1200, activation='relu',W_constraint=maxnorm(1)))\n",
    "# model.add(Dropout(0.6))\n",
    "model.add(Dense(500, activation='relu',W_constraint=maxnorm(1)))\n",
    "\n",
    "# model.add(Dropout(0.5))\n",
    " #output layer\n",
    "model.add(Dense(6, activation='softmax'))\n",
    "\n",
    "# Compile model\n",
    "# adam=Adam(lr=learning_rate, beta_1=0.7, beta_2=0.999, epsilon=1e-08, decay=0.0000001)\n",
    "\n",
    "model.summary()"
   ]
  },
  {
   "cell_type": "code",
   "execution_count": 318,
   "metadata": {},
   "outputs": [],
   "source": [
    "learning_rate=0.0001\n",
    "epochs = 25\n",
    "batch_size = 32 #32\n",
    "sgd = SGD(lr=learning_rate, nesterov=True, momentum=0.7, decay=1e-4)\n",
    "Nadam = keras.optimizers.Nadam(lr=0.002, beta_1=0.9, beta_2=0.999, epsilon=1e-08, schedule_decay=0.004)\n",
    "model.compile(loss='categorical_crossentropy', optimizer=Nadam, metrics=['accuracy'])"
   ]
  },
  {
   "cell_type": "code",
   "execution_count": 319,
   "metadata": {},
   "outputs": [
    {
     "name": "stdout",
     "output_type": "stream",
     "text": [
      "(515, 450)\n",
      "(515, 6)\n",
      "(129, 450)\n",
      "(129, 6)\n"
     ]
    }
   ],
   "source": [
    "print(X_train_encoded_padded_words.shape)\n",
    "print(Y_train.shape)\n",
    "\n",
    "print(X_val_encoded_padded_words.shape)\n",
    "print(Y_val.shape)"
   ]
  },
  {
   "cell_type": "code",
   "execution_count": 320,
   "metadata": {},
   "outputs": [
    {
     "name": "stdout",
     "output_type": "stream",
     "text": [
      "Train on 515 samples, validate on 129 samples\n",
      "Epoch 1/25\n",
      "515/515 [==============================] - 4s 8ms/step - loss: 1.6113 - acc: 0.3126 - val_loss: 1.4142 - val_acc: 0.3101\n",
      "Epoch 2/25\n",
      "515/515 [==============================] - 2s 4ms/step - loss: 1.2613 - acc: 0.4757 - val_loss: 1.3037 - val_acc: 0.3876\n",
      "Epoch 3/25\n",
      "515/515 [==============================] - 2s 4ms/step - loss: 1.0015 - acc: 0.5922 - val_loss: 0.9457 - val_acc: 0.5891\n",
      "Epoch 4/25\n",
      "515/515 [==============================] - 2s 4ms/step - loss: 0.7679 - acc: 0.6718 - val_loss: 1.1866 - val_acc: 0.5969\n",
      "Epoch 5/25\n",
      "515/515 [==============================] - 2s 4ms/step - loss: 0.5934 - acc: 0.7845 - val_loss: 0.8185 - val_acc: 0.7132\n",
      "Epoch 6/25\n",
      "515/515 [==============================] - 2s 4ms/step - loss: 0.4918 - acc: 0.7942 - val_loss: 0.6997 - val_acc: 0.7519\n",
      "Epoch 7/25\n",
      "515/515 [==============================] - 2s 4ms/step - loss: 0.4054 - acc: 0.8388 - val_loss: 0.7382 - val_acc: 0.7132\n",
      "Epoch 8/25\n",
      "515/515 [==============================] - 2s 4ms/step - loss: 0.3867 - acc: 0.8602 - val_loss: 1.0445 - val_acc: 0.6822\n",
      "Epoch 9/25\n",
      "515/515 [==============================] - 2s 4ms/step - loss: 0.3988 - acc: 0.8680 - val_loss: 0.9258 - val_acc: 0.7442\n",
      "Epoch 10/25\n",
      "515/515 [==============================] - 2s 4ms/step - loss: 0.3317 - acc: 0.8641 - val_loss: 0.8699 - val_acc: 0.7054\n",
      "Epoch 11/25\n",
      "515/515 [==============================] - 2s 4ms/step - loss: 0.3808 - acc: 0.8660 - val_loss: 0.7320 - val_acc: 0.7442\n",
      "Epoch 12/25\n",
      "515/515 [==============================] - 2s 4ms/step - loss: 0.3534 - acc: 0.8621 - val_loss: 1.8406 - val_acc: 0.6047\n",
      "Epoch 13/25\n",
      "515/515 [==============================] - 2s 4ms/step - loss: 0.3269 - acc: 0.8757 - val_loss: 0.8258 - val_acc: 0.7597\n",
      "Epoch 14/25\n",
      "515/515 [==============================] - 2s 4ms/step - loss: 0.2688 - acc: 0.8874 - val_loss: 0.8836 - val_acc: 0.7364\n",
      "Epoch 15/25\n",
      "515/515 [==============================] - 2s 4ms/step - loss: 0.2587 - acc: 0.9087 - val_loss: 0.9427 - val_acc: 0.7287\n",
      "Epoch 16/25\n",
      "515/515 [==============================] - 2s 4ms/step - loss: 0.2107 - acc: 0.9146 - val_loss: 1.0968 - val_acc: 0.7054\n",
      "Epoch 17/25\n",
      "515/515 [==============================] - 2s 4ms/step - loss: 0.2797 - acc: 0.9087 - val_loss: 1.1702 - val_acc: 0.7054\n",
      "Epoch 18/25\n",
      "515/515 [==============================] - 2s 4ms/step - loss: 0.2547 - acc: 0.8990 - val_loss: 1.9740 - val_acc: 0.6279\n",
      "Epoch 19/25\n",
      "515/515 [==============================] - 2s 4ms/step - loss: 0.2812 - acc: 0.9068 - val_loss: 0.9395 - val_acc: 0.7364\n",
      "Epoch 20/25\n",
      "515/515 [==============================] - 2s 4ms/step - loss: 0.2366 - acc: 0.9087 - val_loss: 1.0997 - val_acc: 0.7287\n",
      "Epoch 21/25\n",
      "515/515 [==============================] - 2s 4ms/step - loss: 0.3211 - acc: 0.8893 - val_loss: 1.1578 - val_acc: 0.6434\n",
      "Epoch 22/25\n",
      "515/515 [==============================] - 2s 4ms/step - loss: 0.2375 - acc: 0.9126 - val_loss: 0.9101 - val_acc: 0.7519\n",
      "Epoch 23/25\n",
      "515/515 [==============================] - 2s 4ms/step - loss: 0.2110 - acc: 0.9223 - val_loss: 1.1770 - val_acc: 0.7364\n",
      "Epoch 24/25\n",
      "515/515 [==============================] - 2s 4ms/step - loss: 0.2733 - acc: 0.9029 - val_loss: 1.1102 - val_acc: 0.7054\n",
      "Epoch 25/25\n",
      "515/515 [==============================] - 2s 4ms/step - loss: 0.2063 - acc: 0.9165 - val_loss: 0.9549 - val_acc: 0.7752\n"
     ]
    }
   ],
   "source": [
    "history  = model.fit(X_train_encoded_padded_words,Y_train, epochs = epochs, batch_size=batch_size, verbose=1,\n",
    "validation_data=(X_val_encoded_padded_words, Y_val))"
   ]
  },
  {
   "cell_type": "code",
   "execution_count": 321,
   "metadata": {},
   "outputs": [
    {
     "name": "stdout",
     "output_type": "stream",
     "text": [
      "129/129 [==============================] - 0s 758us/step\n",
      "Test accuracy: 0.7751937984496124 %\n"
     ]
    }
   ],
   "source": [
    "score = model.evaluate(X_val_encoded_padded_words, Y_val, verbose=1)\n",
    "print('Test accuracy:', score[1],'%')"
   ]
  },
  {
   "cell_type": "code",
   "execution_count": 322,
   "metadata": {},
   "outputs": [
    {
     "data": {
      "image/png": "[encoded data removed]",
      "text/plain": [
       "<Figure size 640x480 with 1 Axes>"
      ]
     },
     "metadata": {},
     "output_type": "display_data"
    },
    {
     "data": {
      "image/png": "[encoded data removed]",
      "text/plain": [
       "<Figure size 640x480 with 1 Axes>"
      ]
     },
     "metadata": {},
     "output_type": "display_data"
    }
   ],
   "source": [
    "accuracy = history.history['acc']\n",
    "val_accuracy = history.history['val_acc']\n",
    "loss = history.history['loss']\n",
    "val_loss = history.history['val_loss']\n",
    "epochs = range(len(accuracy))\n",
    "plt.plot(epochs, accuracy, 'bo', label='Training accuracy')\n",
    "plt.plot(epochs, val_accuracy, 'b', label='Validation accuracy')\n",
    "plt.title('Training and validation accuracy')\n",
    "plt.legend()\n",
    "plt.figure()\n",
    "plt.plot(epochs, loss, 'bo', label='Training loss')\n",
    "plt.plot(epochs, val_loss, 'b', label='Validation loss')\n",
    "plt.title('Training and validation loss')\n",
    "plt.legend()\n",
    "plt.show()"
   ]
  },
  {
   "cell_type": "code",
   "execution_count": 328,
   "metadata": {},
   "outputs": [
    {
     "name": "stdout",
     "output_type": "stream",
     "text": [
      "0.97741\n",
      "[1]\n",
      "Result: info\n"
     ]
    }
   ],
   "source": [
    "phrase = \"3T: 0902018996\"\n",
    "tokens = Tokenizer.texts_to_sequences([phrase])\n",
    "tokens = pad_sequences(tokens, maxlen=450)\n",
    "prediction = model.predict(np.array(tokens))\n",
    "i_raw,j_raw = np.where(prediction == prediction.max()) #calculates the index of the maximum element of the array across all axis\n",
    "# i->rows, j->columns\n",
    "i = int(i_raw)\n",
    "j = int(j_raw)\n",
    "print(prediction[0][j])\n",
    "print(j_raw)\n",
    "total_possible_outcomes = ['brand_name', 'info', 'index', 'content', 'total', 'thank_you']\n",
    "print(\"Result:\",total_possible_outcomes[j])"
   ]
  },
  {
   "cell_type": "code",
   "execution_count": 331,
   "metadata": {},
   "outputs": [
    {
     "name": "stdout",
     "output_type": "stream",
     "text": [
      "Saved model to disk\n"
     ]
    }
   ],
   "source": [
    "# serialize model to JSON\n",
    "model_json = model.to_json()\n",
    "with open(\"model.json\", \"w\") as json_file:\n",
    "    json_file.write(model_json)\n",
    "\n",
    "# serialize weights to HDF5\n",
    "model.save_weights(\"model.h5\")\n",
    "print(\"Saved model to disk\")\n",
    "\n",
    "with open('tokenizer.pickle', 'wb') as handle:\n",
    "    pickle.dump(Tokenizer, handle, protocol=pickle.HIGHEST_PROTOCOL)"
   ]
  },
  {
   "cell_type": "code",
   "execution_count": null,
   "metadata": {},
   "outputs": [],
   "source": []
  }
 ],
 "metadata": {
  "kernelspec": {
   "display_name": "Python 3",
   "language": "python",
   "name": "python3"
  },
  "language_info": {
   "codemirror_mode": {
    "name": "ipython",
    "version": 3
   },
   "file_extension": ".py",
   "mimetype": "text/x-python",
   "name": "python",
   "nbconvert_exporter": "python",
   "pygments_lexer": "ipython3",
   "version": "3.7.1"
  }
 },
 "nbformat": 4,
 "nbformat_minor": 2
}
