{
 "cells": [
  {
   "cell_type": "code",
   "execution_count": 119,
   "metadata": {},
   "outputs": [],
   "source": [
    "import pandas as pd\n",
    "import matplotlib.pyplot as plt\n",
    "import numpy as np\n",
    "df_col = [\"sentence\",\"brand_name\",\"info\",\"index\",\"content\",\"total\",\"thank_you\"]\n",
    "y_col = [\"brand_name\",\"info\",\"index\",\"content\",\"total\",\"thank_you\"]\n"
   ]
  },
  {
   "cell_type": "code",
   "execution_count": 120,
   "metadata": {},
   "outputs": [
    {
     "data": {
      "text/html": [
       "<div>\n",
       "<style scoped>\n",
       "    .dataframe tbody tr th:only-of-type {\n",
       "        vertical-align: middle;\n",
       "    }\n",
       "\n",
       "    .dataframe tbody tr th {\n",
       "        vertical-align: top;\n",
       "    }\n",
       "\n",
       "    .dataframe thead th {\n",
       "        text-align: right;\n",
       "    }\n",
       "</style>\n",
       "<table border=\"1\" class=\"dataframe\">\n",
       "  <thead>\n",
       "    <tr style=\"text-align: right;\">\n",
       "      <th></th>\n",
       "      <th>sentence</th>\n",
       "      <th>brand_name</th>\n",
       "      <th>info</th>\n",
       "      <th>index</th>\n",
       "      <th>content</th>\n",
       "      <th>total</th>\n",
       "      <th>thank_you</th>\n",
       "    </tr>\n",
       "  </thead>\n",
       "  <tbody>\n",
       "    <tr>\n",
       "      <th>0</th>\n",
       "      <td>DT: 0903915144</td>\n",
       "      <td>0</td>\n",
       "      <td>1</td>\n",
       "      <td>0</td>\n",
       "      <td>0</td>\n",
       "      <td>0</td>\n",
       "      <td>0</td>\n",
       "    </tr>\n",
       "    <tr>\n",
       "      <th>1</th>\n",
       "      <td>FC GOOD COFEE</td>\n",
       "      <td>1</td>\n",
       "      <td>0</td>\n",
       "      <td>0</td>\n",
       "      <td>0</td>\n",
       "      <td>0</td>\n",
       "      <td>0</td>\n",
       "    </tr>\n",
       "    <tr>\n",
       "      <th>2</th>\n",
       "      <td>ĐC: 126 Lai Hùng Cường, Vĩnh Lọc B,</td>\n",
       "      <td>0</td>\n",
       "      <td>1</td>\n",
       "      <td>0</td>\n",
       "      <td>0</td>\n",
       "      <td>0</td>\n",
       "      <td>0</td>\n",
       "    </tr>\n",
       "    <tr>\n",
       "      <th>3</th>\n",
       "      <td>Bình Chánh, TpHCM</td>\n",
       "      <td>0</td>\n",
       "      <td>1</td>\n",
       "      <td>0</td>\n",
       "      <td>0</td>\n",
       "      <td>0</td>\n",
       "      <td>0</td>\n",
       "    </tr>\n",
       "    <tr>\n",
       "      <th>4</th>\n",
       "      <td>ĐT: 0934145879</td>\n",
       "      <td>0</td>\n",
       "      <td>1</td>\n",
       "      <td>0</td>\n",
       "      <td>0</td>\n",
       "      <td>0</td>\n",
       "      <td>0</td>\n",
       "    </tr>\n",
       "  </tbody>\n",
       "</table>\n",
       "</div>"
      ],
      "text/plain": [
       "                              sentence  brand_name  info  index  content  \\\n",
       "0                       DT: 0903915144           0     1      0        0   \n",
       "1                        FC GOOD COFEE           1     0      0        0   \n",
       "2  ĐC: 126 Lai Hùng Cường, Vĩnh Lọc B,           0     1      0        0   \n",
       "3                    Bình Chánh, TpHCM           0     1      0        0   \n",
       "4                       ĐT: 0934145879           0     1      0        0   \n",
       "\n",
       "   total  thank_you  \n",
       "0      0          0  \n",
       "1      0          0  \n",
       "2      0          0  \n",
       "3      0          0  \n",
       "4      0          0  "
      ]
     },
     "execution_count": 120,
     "metadata": {},
     "output_type": "execute_result"
    }
   ],
   "source": [
    "train_df = pd.read_csv('31-07-vigroupped.csv',   encoding='utf-8')\n",
    "train_df.head()"
   ]
  },
  {
   "cell_type": "code",
   "execution_count": 121,
   "metadata": {},
   "outputs": [],
   "source": [
    "def count_pandas(df,row):\n",
    "    new_pandas = df.query(row+\">0\")\n",
    "    return new_pandas.shape[0]\n",
    "\n",
    "# count_pandas(train_df,\"info\")"
   ]
  },
  {
   "cell_type": "code",
   "execution_count": 122,
   "metadata": {},
   "outputs": [],
   "source": [
    "# Delete same data\n",
    "# delete_data = []\n",
    "# for index, row in train_df.iterrows():\n",
    "#     sentence = row['sentence']\n",
    "#     for i,r in train_df.iterrows():\n",
    "#         if i!= index:\n",
    "#             if r['sentence'] == sentence:\n",
    "#                 delete_data.append(i)\n",
    "#                 print(\"=====\")\n",
    "#                 print(row['sentence'])\n",
    "#                 print(r['sentence'])"
   ]
  },
  {
   "cell_type": "code",
   "execution_count": 123,
   "metadata": {},
   "outputs": [],
   "source": [
    "# # delete data\n",
    "# delete_data = list(set(delete_data))\n",
    "\n",
    "# org_train_df = train_df\n",
    "# org_delete_data = delete_data\n",
    "# delete_data = []\n",
    "# for i in org_delete_data:\n",
    "#     delete_data.append(int(i))\n",
    "# # for index in delete_data:\n",
    "# #     train_df.drop[train_df.loc(int(index))]\n",
    "# # print(len(delete_data))\n",
    "# # print(delete_data)\n",
    "# train_df = train_df.drop(delete_data)"
   ]
  },
  {
   "cell_type": "code",
   "execution_count": 124,
   "metadata": {},
   "outputs": [],
   "source": [
    "# train_df.to_csv(\"31-07-vigroupped.csv\", index = False,  encoding='utf-8')"
   ]
  },
  {
   "cell_type": "code",
   "execution_count": 125,
   "metadata": {},
   "outputs": [],
   "source": [
    "# df.query(\"brand_name>0\")"
   ]
  },
  {
   "cell_type": "code",
   "execution_count": 126,
   "metadata": {},
   "outputs": [
    {
     "name": "stdout",
     "output_type": "stream",
     "text": [
      "[33, 176, 59, 216, 131, 39]\n"
     ]
    },
    {
     "data": {
      "image/png": "[encoded data removed]",
      "text/plain": [
       "<Figure size 640x480 with 1 Axes>"
      ]
     },
     "metadata": {},
     "output_type": "display_data"
    }
   ],
   "source": [
    "# Explore data\n",
    "plt.rcdefaults()\n",
    "fig, ax = plt.subplots()\n",
    "# Example data\n",
    "\n",
    "y_pos = np.arange(len(y_col))\n",
    "performance = []\n",
    "\n",
    "for col in y_col:\n",
    "    performance.append(count_pandas(train_df,col))\n",
    "\n",
    "print(performance)\n",
    "error = np.random.rand(len(y_col))\n",
    "\n",
    "ax.barh(y_col, performance, align='center')\n",
    "ax.set_yticks(y_pos)\n",
    "ax.set_yticklabels(y_col)\n",
    "ax.invert_yaxis()  # labels read top-to-bottom\n",
    "ax.set_xlabel('Number of appear')\n",
    "ax.set_title('Bla bla bla')\n",
    "\n",
    "plt.show()"
   ]
  },
  {
   "cell_type": "code",
   "execution_count": 127,
   "metadata": {},
   "outputs": [],
   "source": [
    "import numpy as np\n",
    "import os\n",
    "import pickle\n",
    "from keras.optimizers import SGD, Adam, Nadam, RMSprop\n",
    "from keras.preprocessing.text import Tokenizer\n",
    "from keras.preprocessing.sequence import pad_sequences\n",
    "from keras.utils.np_utils import to_categorical\n",
    "from keras.preprocessing import sequence\n",
    "from keras.models import Sequential,Model,load_model\n",
    "from keras.layers import Embedding,Conv1D,MaxPooling1D\n",
    "from keras.layers.core import Dense, Activation,Dropout ,Flatten\n",
    "from keras.layers.recurrent import LSTM\n",
    "from keras.utils import np_utils\n",
    "from keras.preprocessing.image import ImageDataGenerator\n",
    "from keras.preprocessing import sequence\n",
    "from keras.preprocessing.text import text_to_word_sequence,one_hot,Tokenizer\n",
    "from keras.constraints import maxnorm\n",
    "from keras.callbacks import ModelCheckpoint,TensorBoard, ReduceLROnPlateau,EarlyStopping\n",
    "from keras.applications import Xception\n",
    "from keras import regularizers\n",
    "from keras import backend as K\n",
    "import keras\n",
    "import numpy as np\n",
    "import pandas as pd\n",
    "import cv2\n",
    "import os\n",
    "import glob\n",
    "import math\n",
    "import matplotlib.pyplot as plt\n",
    "from sklearn.utils import shuffle\n",
    "from sklearn.model_selection import train_test_split"
   ]
  },
  {
   "cell_type": "code",
   "execution_count": 128,
   "metadata": {},
   "outputs": [
    {
     "data": {
      "text/html": [
       "<div>\n",
       "<style scoped>\n",
       "    .dataframe tbody tr th:only-of-type {\n",
       "        vertical-align: middle;\n",
       "    }\n",
       "\n",
       "    .dataframe tbody tr th {\n",
       "        vertical-align: top;\n",
       "    }\n",
       "\n",
       "    .dataframe thead th {\n",
       "        text-align: right;\n",
       "    }\n",
       "</style>\n",
       "<table border=\"1\" class=\"dataframe\">\n",
       "  <thead>\n",
       "    <tr style=\"text-align: right;\">\n",
       "      <th></th>\n",
       "      <th>sentence</th>\n",
       "      <th>brand_name</th>\n",
       "      <th>info</th>\n",
       "      <th>index</th>\n",
       "      <th>content</th>\n",
       "      <th>total</th>\n",
       "      <th>thank_you</th>\n",
       "    </tr>\n",
       "  </thead>\n",
       "  <tbody>\n",
       "    <tr>\n",
       "      <th>83</th>\n",
       "      <td>nhẫn hoa oil nấm 1x 55,000 (10%) 49,500</td>\n",
       "      <td>0</td>\n",
       "      <td>0</td>\n",
       "      <td>0</td>\n",
       "      <td>1</td>\n",
       "      <td>0</td>\n",
       "      <td>0</td>\n",
       "    </tr>\n",
       "    <tr>\n",
       "      <th>389</th>\n",
       "      <td>1 Ca phe đá  1 cốc 100.000 100.000</td>\n",
       "      <td>0</td>\n",
       "      <td>0</td>\n",
       "      <td>0</td>\n",
       "      <td>1</td>\n",
       "      <td>0</td>\n",
       "      <td>0</td>\n",
       "    </tr>\n",
       "    <tr>\n",
       "      <th>152</th>\n",
       "      <td>T.CONG 3.0 95.000</td>\n",
       "      <td>0</td>\n",
       "      <td>0</td>\n",
       "      <td>0</td>\n",
       "      <td>0</td>\n",
       "      <td>1</td>\n",
       "      <td>0</td>\n",
       "    </tr>\n",
       "    <tr>\n",
       "      <th>370</th>\n",
       "      <td>môn-M</td>\n",
       "      <td>0</td>\n",
       "      <td>0</td>\n",
       "      <td>0</td>\n",
       "      <td>1</td>\n",
       "      <td>0</td>\n",
       "      <td>0</td>\n",
       "    </tr>\n",
       "    <tr>\n",
       "      <th>39</th>\n",
       "      <td>3x 2,000,000 6,000,000</td>\n",
       "      <td>0</td>\n",
       "      <td>0</td>\n",
       "      <td>0</td>\n",
       "      <td>1</td>\n",
       "      <td>0</td>\n",
       "      <td>0</td>\n",
       "    </tr>\n",
       "  </tbody>\n",
       "</table>\n",
       "</div>"
      ],
      "text/plain": [
       "                                    sentence  brand_name  info  index  \\\n",
       "83   nhẫn hoa oil nấm 1x 55,000 (10%) 49,500           0     0      0   \n",
       "389       1 Ca phe đá  1 cốc 100.000 100.000           0     0      0   \n",
       "152                        T.CONG 3.0 95.000           0     0      0   \n",
       "370                                    môn-M           0     0      0   \n",
       "39                    3x 2,000,000 6,000,000           0     0      0   \n",
       "\n",
       "     content  total  thank_you  \n",
       "83         1      0          0  \n",
       "389        1      0          0  \n",
       "152        0      1          0  \n",
       "370        1      0          0  \n",
       "39         1      0          0  "
      ]
     },
     "execution_count": 128,
     "metadata": {},
     "output_type": "execute_result"
    }
   ],
   "source": [
    "seed = 120\n",
    "np.random.seed(seed)\n",
    "train_df = shuffle(train_df)\n",
    "train_df.head()"
   ]
  },
  {
   "cell_type": "code",
   "execution_count": 129,
   "metadata": {},
   "outputs": [],
   "source": [
    "X_train = train_df[\"sentence\"].fillna(\"fillna\").values\n",
    "Y_train = train_df[['brand_name', 'info', 'index', 'content', 'total', 'thank_you']].values"
   ]
  },
  {
   "cell_type": "code",
   "execution_count": 130,
   "metadata": {},
   "outputs": [
    {
     "name": "stdout",
     "output_type": "stream",
     "text": [
      "Shape of X_train: (654,)\n",
      "Shape of Y_train: (654, 6)\n"
     ]
    }
   ],
   "source": [
    "print(\"Shape of X_train:\",X_train.shape)\n",
    "print(\"Shape of Y_train:\",Y_train.shape)"
   ]
  },
  {
   "cell_type": "code",
   "execution_count": 131,
   "metadata": {},
   "outputs": [
    {
     "name": "stdout",
     "output_type": "stream",
     "text": [
      "nhẫn hoa oil nấm 1x 55,000 (10%) 49,500\n",
      "(Input->Sentence) Length of X_train: (654,)\n",
      "(output->Labels) Length of Y_train: (654, 6)\n",
      "1 Ca phe đá  1 cốc 100.000 100.000\n"
     ]
    }
   ],
   "source": [
    "Tokenizer = Tokenizer()\n",
    "print(X_train[0])\n",
    "print(\"(Input->Sentence) Length of X_train:\",X_train.shape) # Input -> Input\n",
    "print(\"(output->Labels) Length of Y_train:\",Y_train.shape) # output -> Labels\n",
    "texts = X_train\n",
    "print(texts[1])"
   ]
  },
  {
   "cell_type": "code",
   "execution_count": 132,
   "metadata": {},
   "outputs": [
    {
     "name": "stdout",
     "output_type": "stream",
     "text": [
      "Tokenizer vocabulary size: 1222\n"
     ]
    },
    {
     "data": {
      "text/plain": [
       "45"
      ]
     },
     "execution_count": 132,
     "metadata": {},
     "output_type": "execute_result"
    }
   ],
   "source": [
    "Tokenizer.fit_on_texts(texts) \n",
    "Tokenizer_vocab_size = len(Tokenizer.word_index) + 1\n",
    "print(\"Tokenizer vocabulary size:\",Tokenizer_vocab_size)\n",
    "len(max(X_train,key=len))\n"
   ]
  },
  {
   "cell_type": "code",
   "execution_count": 133,
   "metadata": {},
   "outputs": [
    {
     "name": "stdout",
     "output_type": "stream",
     "text": [
      "(Input->Sentence) Length of X_train: (523,)\n",
      "(output->Labels) Length of Y_train: (523, 6)\n"
     ]
    }
   ],
   "source": [
    "X_train, X_val, Y_train, Y_val = train_test_split(X_train, Y_train, test_size=0.2)\n",
    "print(\"(Input->Sentence) Length of X_train:\",X_train.shape) # Input -> Input\n",
    "print(\"(output->Labels) Length of Y_train:\",Y_train.shape) # output -> Labels"
   ]
  },
  {
   "cell_type": "code",
   "execution_count": 134,
   "metadata": {},
   "outputs": [],
   "source": [
    "X_train_encoded_words = Tokenizer.texts_to_sequences(X_train)\n",
    "X_val_encoded_words = Tokenizer.texts_to_sequences(X_val)"
   ]
  },
  {
   "cell_type": "code",
   "execution_count": 135,
   "metadata": {},
   "outputs": [
    {
     "name": "stdout",
     "output_type": "stream",
     "text": [
      "HB: 0002\n",
      "[208, 409]\n",
      "{'000': 1, '1': 2, 'sl': 3, 'hàng': 4, 'tiền': 5, '0': 6, 't': 7, 'giá': 8, '10': 9, 'khách': 10, '2': 11, '30': 12, '5': 13, 'tên': 14, '00': 15, 'giờ': 16, '100': 17, 'đơn': 18, '4': 19, '60': 20, '20': 21, 'sữa': 22, '17': 23, '25': 24, 'mặt': 25, '45': 26, 'ngày': 27, 'lại': 28, '3': 29, 'trà': 30, '500': 31, 'tien': 32, 'thành': 33, '12': 34, '19': 35, '95': 36, '6': 37, 'tiên': 38, '35': 39, 'hoa': 40, '40': 41, '15': 42, '50': 43, 'ơn': 44, 'cam': 45, 'số': 46, 'trả': 47, 'xin': 48, 'quý': 49, '13': 50, 'hà': 51, '22': 52, 'ca': 53, 'ban': 54, '—': 55, '8': 56, 'thanh': 57, 'tổng': 58, 'rm': 59, 'phê': 60, '80': 61, 'đ': 62, 'on': 63, 'gặp': 64, '05': 65, 'tra': 66, 'đgiá': 67, '90': 68, 'don': 69, 'cafe': 70, 'hen': 71, 'thu': 72, 'dgia': 73, '28': 74, 'lai': 75, 'gap': 76, '01': 77, 'cốc': 78, '23': 79, 'giam': 80, 'toán': 81, 'cà': 82, 'công': 83, '2018': 84, '2017': 85, 'hai': 86, 'tươi': 87, '36': 88, 'dt': 89, '150': 90, '55': 91, 'nam': 92, 'nước': 93, 'đưa': 94, 'x': 95, '11': 96, 'coffee': 97, '18': 98, '26': 99, 'administrator': 100, '04': 101, 'hẹn': 102, 'ˆ': 103, 'quy': 104, '65': 105, 'vị': 106, 'cám': 107, '70': 108, 'món': 109, '02': 110, 'thức': 111, '49': 112, 'cong': 113, 'mon': 114, '16': 115, 'dương': 116, '38': 117, 'gà': 118, 'khach': 119, 'tây': 120, 'chiên': 121, 'tiger': 122, 'total': 123, 'a': 124, 'kem': 125, '9': 126, 'vào': 127, 'uống': 128, 'đvt': 129, 'ăn': 130, 'l': 131, 'shop': 132, 'com': 133, 'quán': 134, '120': 135, 'ngan': 136, 'giòn': 137, 'cay': 138, 'cảm': 139, 'hang': 140, '735': 141, 'bia': 142, 'cashier': 143, 'tt': 144, '24': 145, 'ha': 146, 'nguyễn': 147, 'ngân': 148, '03': 149, '800': 150, '200': 151, '0001': 152, 'tp': 153, '400': 154, 'stt': 155, 'so': 156, '66': 157, 'ra': 158, 'no': 159, 'trăm': 160, 'oil': 161, '1x': 162, 'phe': 163, '7': 164, 'ngọt': 165, 'cocacola': 166, 'ttiền': 167, 'cơ': 168, '07': 169, '300': 170, 'thúc': 171, 'bản': 172, 'tea': 173, 'phiếu': 174, 'vnđ': 175, 'tam': 176, 'tinh': 177, 'vat': 178, '18000': 179, 'thank': 180, 'you': 181, 'bình': 182, '103': 183, 'đt': 184, 'ty': 185, 'hướng': 186, 'in': 187, 'lúc': 188, '32': 189, 'đc': 190, 'bạc': 191, 'đậu': 192, 'ten': 193, 'i': 194, 'xảo': 195, 'are': 196, 'cơm': 197, 'ép': 198, 'acc': 199, '44': 200, 'tu': 201, '80000': 202, 'khoai': 203, '2019': 204, 'chanh': 205, 'thạch': 206, '08': 207, 'hb': 208, 'nau': 209, '37': 210, 'cash': 211, 'pudding': 212, 'dẻ': 213, 'hotline': 214, 'tphcm': 215, 's': 216, 'b': 217, '130': 218, 'huy': 219, '2014': 220, 'gst': 221, 'thực': 222, 'đgía': 223, 'kiwi': 224, '79': 225, 'bao': 226, 'ngàn': 227, 'bill': 228, 'sao': 229, 'thủy': 230, 'an': 231, 'nhẫn': 232, 'đá': 233, 'môn': 234, 'm': 235, 'bh': 236, '220': 237, 'quận': 238, 'cộng': 239, '58': 240, 'só': 241, 'ck': 242, '925': 243, 'âu': 244, 'p': 245, 'tân': 246, 'sơn': 247, 'q': 248, 'tan': 249, '21': 250, '39': 251, 'barsalou': 252, '2x': 253, 'í': 254, 'xanh': 255, 'nhan': 256, 'luong': 257, '900': 258, '750': 259, 'green': 260, '328': 261, 'th': 262, '83': 263, 'uni': 264, 'johor': 265, 'bo': 266, '4x': 267, '31': 268, 'again': 269, '01⁄2018': 270, 'tao': 271, 'fish': 272, 'farm': 273, 'restaurant': 274, 'yên': 275, 'nghệ': 276, 'bla': 277, 'hạt': 278, 'đồ': 279, 'đùi': 280, '06': 281, 'chai': 282, 'bàn': 283, 'giảm': 284, 'menu': 285, 'và': 286, 'pm': 287, 'ngõ': 288, 'trưng': 289, 'mr': 290, 'hồ': 291, \"do'n\": 292, 'hu': 293, 'tieu': 294, 'khong': 295, 'thue': 296, '09': 297, 'v': 298, 'rib': 299, '380': 300, 'khoail': 301, '420': 302, 'goods': 303, 'sold': 304, 'not': 305, 'refundable': 306, 'nhãn': 307, '1385': 308, '25000': 309, '86': 310, '460': 311, 'cuốn': 312, 'bank': 313, 'mbb': 314, '45000': 315, 'tấn': 316, 'change': 317, 'dao': 318, 'duy': 319, 'hoan': 320, 'kiem': 321, 'noi': 322, 'nội': 323, '97': 324, 'càng': 325, 'rang': 326, 'văn': 327, '5000': 328, 'ngũ': 329, 'thuế': 330, 'vietnam': 331, 'sinh': 332, 'trái': 333, '3t': 334, 'tiệm': 335, 'toàn': 336, '136': 337, '886': 338, 'đại': 339, 'da': 340, 'ly': 341, 'bida': 342, '2015': 343, '003': 344, 'mat': 345, 'hđ': 346, '006': 347, 'thủ': 348, '27': 349, 'admin': 350, '151104': 351, '30000': 352, 'naan': 353, '1n': 354, '160': 355, 'đen': 356, '85': 357, '008': 358, '32000': 359, '0984': 360, '087': 361, 'ton': 362, 'dan': 363, 'đạu': 364, 'suối': 365, 'adjustment': 366, 'n': 367, '14': 368, '159': 369, '404': 370, '272': 371, 'tập': 372, 'tĩnh': 373, '0902': 374, '869': 375, '579': 376, '181': 377, 'bun': 378, 'sing': 379, '42': 380, 'gi': 381, '1111': 382, 'trang': 383, '1851': 384, '¡': 385, 'g': 386, 'hung': 387, 'sách': 388, 'học': 389, '600': 390, '0903915144': 391, '2016': 392, 'gio': 393, 'một': 394, 'suon': 395, 'chien': 396, 'kdo': 397, 'sr': 398, '68': 399, '87': 400, 'cánh': 401, 'sá': 402, 'sung': 403, '99': 404, 'count': 405, 'mươi': 406, '480': 407, 'gia': 408, '0002': 409, 'nâu': 410, '3362': 411, 'bánh': 412, 'hd': 413, 'hóa': 414, 'thái': 415, '70000': 416, 'salad': 417, 'please': 418, '319': 419, 'nấm': 420, '3x': 421, 'chua': 422, 'du': 423, 'ail': 424, '7000': 425, 'tret1': 426, 'quốc': 427, 'cang': 428, 'isl': 429, '1b': 430, '414': 431, 'fc': 432, 'good': 433, 'cofee': 434, 'tcong': 435, 'nhì': 436, '57': 437, 'am': 438, '¡rong': 439, 'nho': 440, '180': 441, '5cl': 442, 'rưa': 443, 'me': 444, 'cừng': 445, '00u': 446, 'ta': 447, 'phúc': 448, 'bồn': 449, 'tử': 450, '360': 451, 'niềm': 452, 'hy': 453, 'vọng': 454, 'buom': 455, 'oil1': 456, '63': 457, 'sau': 458, \"o'star\": 459, 'popchip': 460, 'kimcht': 461, 'pk': 462, 'tính': 463, 'bidalö': 464, 'ma': 465, 'he': 466, '1122271042015': 467, 'sling': 468, 'ex': 469, 'ttiên': 470, '110': 471, 'sð': 472, 'g2aa': 473, 'den': 474, 'to': 475, '114019': 476, 'amimi': 477, 'quần': 478, 'nhậu': 479, 'dẫn': 480, 'tha': 481, 'bái': 482, '0934145879': 483, 'tinhoc': 484, 'mai': 485, 'haineken': 486, '0982': 487, '434': 488, '830': 489, 'phì': 490, 'lũ': 491, '8970669': 492, 'cim': 493, 'va': 494, 'khác': 495, 'suan': 496, '“vinntaba': 497, 'rem': 498, 'bluate': 499, '700': 500, 'freeh': 501, 'mocals': 502, 'rats': 503, 'èpudding': 504, 'ati': 505, '88': 506, '680': 507, 'rồng': 508, 'há': 509, 'mềm': 510, '128': 511, '78': 512, 'lò': 513, 'đúc': 514, 'bà': 515, '81100': 516, 'bahru': 517, 'sửu': 518, 'o': 519, '¥': 520, 'jghgr': 521, 'sdn': 522, 'bhd': 523, 'bóng': 524, 'tay': 525, 'chim': 526, 'puddlngtiủng': 527, 'rok': 528, 'and': 529, 'leather': 530, '091800001': 531, '‘change': 532, 'eve': 533, 'steahk': 534, '590': 535, '906': 536, '522': 537, 'thiet': 538, 'vi': 539, 'suý': 540, '3003': 541, 'mantis': 542, 'f7': 543, '0168': 544, '966': 545, '6486': 546, 'hoàn': 547, 'kiếm': 548, 'hn': 549, 'steak': 550, '380000': 551, '0903144': 552, 'mi': 553, 'bò': 554, 'skycoffee': 555, 'viên': 556, 'sụn': 557, 'mạm': 558, 'cuộncángừ': 559, 'pashier': 560, 'lam': 561, 'cai': 562, 'khanh': 563, 'thăng': 564, 'long': 565, '“sở': 566, \"'tiên\": 567, 'thôi': 568, 'lcốc': 569, 'the': 570, 'opera': 571, 'dằm': 572, '124': 573, 'phs': 574, 'tâm': 575, '88603': 576, 'hòa': 577, 'ổi': 578, 'gloevaox': 579, '20141': 580, '00118a': 581, 'matcha': 582, 'ad': 583, '09033d4': 584, 'göi': 585, 'súa': 586, 'tênhànsg': 587, 'tiàhươngv': 588, '5128': 589, '4851': 590, '2118': 591, 'address': 592, 'tràxanh': 593, 'uỳnh': 594, 'phát': 595, 'chấu': 596, 'địi': 597, 'nông': 598, '0o': 599, 'viet': 600, '165': 601, 'itens': 602, '010': 603, '601': 604, '2€0': 605, '6493': 606, 'or': 607, '6012': 608, '286': 609, '8193': 610, 'ghe': 611, 'mudi': 612, 'vnb': 613, 'fay': 614, 'sầu': 615, 'riêng': 616, 'free': 617, '34': 618, '118': 619, 'thạchtráicây': 620, '£5': 621, 'lar': 622, '031900002': 623, 'magarla': 624, 'gtgt': 625, 'tốt': 626, 'tuyết': 627, 'xúc': 628, 'xích': 629, 'cái': 630, 'đg': 631, 'socola': 632, 'cây': 633, 'ncổ': 634, 'zzuuu': 635, 'd4': 636, 'khagh': 637, '3005': 638, '102613': 639, '0902096': 640, 'tel’': 641, '269': 642, '3597': 643, 'snn': 644, 'ý': 645, '243': 646, 'rounded': 647, 'nưäc': 648, 'chal': 649, 'heo': 650, 'rừng': 651, 'nướng': 652, 'giamitien': 653, 'j‡l3đường': 654, 'chỉ': 655, 'phuong': 656, 'hoang': 657, 'kết': 658, 'table': 659, 'pax': 660, 'lien': 661, 'gộng': 662, 'ò': 663, '12000': 664, 'doi': 665, 'usn': 666, 'khánh': 667, 'câu': 668, 'giây': 669, '198': 670, '20141017': 671, 'hđb': 672, '20141016': 673, 'mo': 674, 'nv': 675, 'hỏng': 676, 's6ct': 677, '0856393': 678, 'đongiá': 679, 'cua': 680, 'việt': 681, 'circle': 682, 'k': 683, 'sở': 684, 'chính': 685, 'quầy': 686, '2¬': 687, 'ms': 688, 'bó': 689, 'la': 690, 'cải': 691, 'ebdng': 692, 'jj5io': 693, '350': 694, 'kin': 695, \"o'n\": 696, 'lali': 697, '883a': 698, 'pho': 699, '31000': 700, '¢': 701, 'f13q4': 702, '310': 703, 'ðe': 704, 'nguy': 705, 'nga': 706, 'hanh': 707, 'ct': 708, '085639': 709, '“giờ': 710, 'giờra': 711, 'veg': 712, 'thai': 713, 'daie': 714, 'pr': 715, 'bảy': 716, 'chú': 717, 'lùn': 718, 'rounidng': 719, 'na': 720, '48': 721, 'boom': 722, '0905': 723, '933': 724, '0976': 725, '941': 726, 'longleiani': 727, 'dine': 728, '71': 729, 'gias': 730, 'ed': 731, '——': 732, '“6': 733, '144': 734, 'chân': 735, '012018': 736, 'ghẹ': 737, 'muối': 738, 'trên': 739, 'chừa': 740, 'baø': 741, 'gỏmi': 742, 'ìh18': 743, '54': 744, '„„j5': 745, 'bien': 746, 'go': 747, 'uv': 748, 'bàn01': 749, '59h': 750, 'summary': 751, 'âmount': 752, 'taxrm': 753, '771': 754, 'b4n': 755, 'tram': 756, 'mirot': 757, 'dang': 758, 'sitring': 759, 'cake': 760, '742': 761, '112017': 762, '180415': 763, 'lắc': 764, 'xoáy': 765, 'đn': 766, 'station': 767, 'eee': 768, 'tuoi': 769, 'nad': 770, '———': 771, 'suong': 772, '780000': 773, 'dây': 774, 'thối': 775, 'chánh': 776, 'í131a': 777, 'bá»hxègsze': 778, '79003': 779, 'phú': 780, '6684': 781, 'sen': 782, '091554': 783, 'ký': 784, 'ức': 785, 'ngào': 786, 'ngọc': 787, 'vân': 788, 'đua': 789, 'uỏng': 790, 'thach': 791, 'tênhàng': 792, 'đðđg': 793, 'lot': 794, 'jalan': 795, 'kpb': 796, 'ran': 797, \"'\": 798, '8b': 799, 'sub': 800, 'nôi': 801, 'zfamawisncoan': 802, '2d': 803, '280g7': 804, '2026': 805, '03109a': 806, 'lẻ': 807, 'tel': 808, 'd8': 809, '84': 810, '0967041111': 811, 'soh': 812, '00001': 813, '20102014601': 814, 'rounding': 815, 'gàm': 816, \"'øn\": 817, 'bàp': 818, 'lail': 819, 'jÿ1l3đường': 820, 'tran': 821, '0444654': 822, 'tin': 823, 'mũi': 824, 'hương': 825, 'heniken': 826, 'nba': 827, 'mugi': 828, 'po': 829, '36100311': 830, 'vien': 831, 'trứng': 832, 'vao': 833, 'a1': 834, 'shisha': 835, 'vip': 836, '126': 837, 'hùng': 838, 'cường': 839, 'vĩnh': 840, 'lọc': 841, '151': 842, 'f': 843, 'thừa': 844, 'giỏ': 845, 'capheren': 846, '13000': 847, 'handmade': 848, '5626': 849, '4732': 850, '1744': 851, '43pm': 852, '0003': 853, 'd2': 854, 'remebrulae': 855, '4103106': 856, 'mười': 857, 'đồng': 858, '0994': 859, '0s7': 860, '2m': 861, 'tap': 862, 'dist7': 863, 'hciul': 864, 'dứa': 865, 'hé': 866, '50000': 867, '0u': 868, 'đĩahoaquàtt': 869, 'vinntaba': 870, 'điên': 871, 'thoai': 872, '289': 873, '075': 874, 'thịfräm': 875, 'mặn': 876, '720': 877, 'ngần': 878, '056100311': 879, 'rh': 880, '33': 881, '96': 882, 'closed': 883, '51': 884, 'là': 885, 'h': 886, 'merci': 887, 'exchangeable': 888, 'tương': 889, 'khoaimôn': 890, 'item': 891, 'included': 892, 'trúng': 893, 'chiến': 894, 'canh': 895, 'chủamnghêu': 896, '450': 897, 'hỗ': 898, 'chfíminh': 899, 'dường': 900, 'cuối': 901, 'tuần': 902, 'đĩa': 903, 'kho': 904, '8cm': 905, '67': 906, 'nguyễm': 907, '0163': 908, '897': 909, '2711': 910, '0865': 911, '571': 912, '195': 913, 'thachtréicay': 914, 'bắt': 915, 'đầu': 916, '41': 917, 'bon': 918, '“nưếc': 919, '12015': 920, '1424727': 921, '‘tran': 922, 'g8000': 923, 'amapny': 924, 'selangor': 925, 'returnable': 926, 'lavie': 927, '430': 928, '121': 929, 'phở': 930, 'tôm': 931, 'phố': 932, 'mới': 933, 'naay': 934, '02020001': 935, 'quảnly': 936, 'thử': 937, 'ngẩn': 938, '3q': 939, 'phan': 940, 'châu': 941, 'trinh': 942, 'tv': 943, 'namu': 944, 'y': 945, 'bk': 946, '7w': 947, 'ww': 948, 'led': 949, 'track': 950, 'lighf': 951, 'reg': 952, '0008': 953, '3385': 954, '3536': 955, 'sản': 956, 'phầm': 957, 'digia': 958, 'draught': 959, 'halds': 960, 'www': 961, 'mtv': 962, 'org': 963, 'vn': 964, '47': 965, 'f13': 966, 'q4': 967, 'woe': 968, 'chỉn': 969, 'tám': 970, 'măt': 971, 'dongid': 972, 'ttién': 973, 'nơ': 974, 'đai': 975, 'đường': 976, 'kdc': 977, 'bên': 978, 'lư': 979, 'băp': 980, 'non': 981, 'năm': 982, 'mốt': 983, 'bệnh': 984, 'viện': 985, '108': 986, '1ran': 987, 'hưng': 988, 'tràôlong': 989, 'son': 990, 'fashion': 991, 'wifi': 992, 'book': 993, '89': 994, 'vanila': 995, 'vnd': 996, 'tong': 997, 'thời': 998, 'gian': 999, 'phút': 1000, 'hạ': 1001, 'tiueen': 1002, '23112015': 1003, '124727': 1004, 'thuốc': 1005, 'lá': 1006, '4l': 1007, 'azteen': 1008, 'khuyến': 1009, 'mãi': 1010, 'giấc': 1011, 'mơ': 1012, 'hồng': 1013, 'strictly': 1014, 'refund': 1015, 'nâng': 1016, 'bạchtuyếtvà': 1017, 'tho': 1018, '880': 1019, 'pon': 1020, 'thuy': 1021, 'ttem': 1022, '‘gold': 1023, 'mp': 1024, 're3': 1025, 'ne': 1026, '926627': 1027, 'khoa': 1028, 'oua': 1029, 'prawns': 1030, 'pov': 1031, 'duong': 1032, 'duflicated': 1033, \"jmụ'c\": 1034, 'yaourt': 1035, 'nha': 1036, 'dam': 1037, 'kk': 1038, 'wm': 1039, 'wx': 1040, 'reprint': 1041, 'bate': 1042, 'aug': 1043, '58pm': 1044, 'tol': 1045, '4395': 1046, 'fax': 1047, '4305': 1048, 'service': 1049, 'charge': 1050, 'trắng': 1051, 'niở': 1052, 'nlờ': 1053, 'người': 1054, 'quản': 1055, 'tị': 1056, 'receipt': 1057, '020190810': 1058, '0532': 1059, 'khăn': 1060, 'lanh': 1061, '“tổng': 1062, 'dịch': 1063, 'vụ': 1064, '125': 1065, '4629719': 1066, 'crfeuceiriglce': 1067, '52001': 1068, '“tax': 1069, 'invoice': 1070, 'tr': 1071, 'cc': 1072, '428': 1073, 'ot': 1074, 'hia': 1075, 'aon': 1076, 'chưa': 1077, 'dầm': 1078, 'téng': 1079, 'nhấn': 1080, '59ch': 1081, 'ibank': 1082, 'ambank': 1083, '888': 1084, '123': 1085, '3706': 1086, '093': 1087, 'vy': 1088, 'km': 1089, 'jin': 1090, 'ampang': 1091, 'hulu': 1092, 'langat': 1093, 'dĩa': 1094, '55000': 1095, 'that': 1096, 'o00': 1097, 'hat': 1098, 'close': 1099, 'bụếa': 1100, 'náo': 1101, 'sz': 1102, '5c': 1103, '395': 1104, '51c44458': 1105, 'hàn': 1106, 'exchange': 1107, 'allowed': 1108, 'within': 1109, 'phác': 1110, '020': 1111, 'trâu': 1112, 'lẫu': 1113, 'luc': 1114, 'ie': 1115, 'hha': 1116, 'ch': 1117, 'mm': 1118, 'it': 1119, 'tỷ': 1120, 'caphesuada': 1121, 'con': 1122, 'chivas': 1123, '161': 1124, 'phé': 1125, '35000': 1126, '112': 1127, 'start': 1128, 'py': 1129, 'mocha': 1130, '‹jc': 1131, 'eitnidl': 1132, 'eo': 1133, '23ll5í': 1134, 'ngoài': 1135, 'trời': 1136, 'mã': 1137, 'thơm': 1138, 'tang': 1139, '2q': 1140, '6000': 1141, 'tx': 1142, 'nghĩa': 1143, 'lộ': 1144, '4462164665498': 1145, '489': 1146, 'mc': 1147, '00098': 1148, 'xuân': 1149, 'phưởng': 1150, 'thảo': 1151, 'điển': 1152, 'mẻci': 1153, '131': 1154, 'xèo': 1155, 'size': 1156, 'trích': 1157, 'sài': 1158, 's1': 1159, 'duck': 1160, 'dừa': 1161, 'cone': 1162, 'agains': 1163, 'coke': 1164, '260': 1165, 'come': 1166, 'tax': 1167, '6a': 1168, 'frequilasunce': 1169, 'te': 1170, 'muỗi': 1171, 'bll': 1172, 'sso': 1173, 'sn': 1174, '1e': 1175, 'aif': 1176, 'chin': 1177, 'muoi': 1178, 'lim': 1179, 'dong': 1180, 'hẽn': 1181, 'ên': 1182, '540000': 1183, 'qua': 1184, 'dic': 1185, 'biét': 1186, '999': 1187, '009': 1188, '540': 1189, 'hằng': 1190, '458001': 1191, 'ptt': 1192, '00000066': 1193, '11720': 1194, 'prowct': 1195, 'qty': 1196, 'u': 1197, 'price': 1198, 'bst': 1199, 'bè': 1200, 'xào': 1201, 'củ': 1202, 'hành': 1203, '0902018996': 1204, 'lương': 1205, 'gọng': 1206, '398': 1207, 'joint': 1208, '2dbtn': 1209, '2bðggq': 1210, '0971': 1211, '1989': 1212, '604': 1213, 'trần': 1214, 'bạch': 1215, 'đằng': 1216, 'đà': 1217, 'nẵng': 1218, 'cuộn': 1219, 'cá': 1220, 'ngừ': 1221}\n"
     ]
    }
   ],
   "source": [
    "print(X_train[2])\n",
    "print(X_train_encoded_words[2])\n",
    "print(Tokenizer.word_index)"
   ]
  },
  {
   "cell_type": "code",
   "execution_count": 136,
   "metadata": {},
   "outputs": [
    {
     "name": "stdout",
     "output_type": "stream",
     "text": [
      "(output->Labels) Length of Y_train: (523, 6)\n"
     ]
    }
   ],
   "source": [
    "print(\"(output->Labels) Length of Y_train:\",Y_train.shape) # output -> Labelsprint(\"(Input->Sentence)"
   ]
  },
  {
   "cell_type": "code",
   "execution_count": 137,
   "metadata": {},
   "outputs": [],
   "source": [
    "maxWordCount= 450\n",
    "maxDictionary_size=Tokenizer_vocab_size\n",
    "X_train_encoded_padded_words = sequence.pad_sequences(X_train_encoded_words, maxlen=maxWordCount)\n",
    "X_val_encoded_padded_words = sequence.pad_sequences(X_val_encoded_words, maxlen=maxWordCount)"
   ]
  },
  {
   "cell_type": "code",
   "execution_count": 138,
   "metadata": {},
   "outputs": [
    {
     "name": "stdout",
     "output_type": "stream",
     "text": [
      "(Input->Sentence) Length of X_train: (523, 450)\n",
      "(output->Labels) Length of Y_train: (523, 6)\n"
     ]
    }
   ],
   "source": [
    "print(\"(Input->Sentence) Length of X_train:\",X_train_encoded_padded_words.shape) # Input -> Input\n",
    "print(\"(output->Labels) Length of Y_train:\",Y_train.shape) # output -> Labels"
   ]
  },
  {
   "cell_type": "code",
   "execution_count": 139,
   "metadata": {},
   "outputs": [
    {
     "name": "stdout",
     "output_type": "stream",
     "text": [
      "(523, 6)\n",
      "(131, 6)\n"
     ]
    }
   ],
   "source": [
    "print(Y_train.shape)\n",
    "print(Y_val.shape)"
   ]
  },
  {
   "cell_type": "code",
   "execution_count": 140,
   "metadata": {},
   "outputs": [
    {
     "name": "stderr",
     "output_type": "stream",
     "text": [
      "W0811 21:35:11.493688 4657165760 nn_ops.py:4224] Large dropout rate: 0.6 (>0.5). In TensorFlow 2.x, dropout() uses dropout rate instead of keep_prob. Please ensure that this is intended.\n"
     ]
    },
    {
     "name": "stdout",
     "output_type": "stream",
     "text": [
      "_________________________________________________________________\n",
      "Layer (type)                 Output Shape              Param #   \n",
      "=================================================================\n",
      "embedding_5 (Embedding)      (None, 450, 32)           39104     \n",
      "_________________________________________________________________\n",
      "lstm_5 (LSTM)                (None, 10)                1720      \n",
      "_________________________________________________________________\n",
      "dropout_5 (Dropout)          (None, 10)                0         \n",
      "_________________________________________________________________\n",
      "dense_13 (Dense)             (None, 1200)              13200     \n",
      "_________________________________________________________________\n",
      "dense_14 (Dense)             (None, 500)               600500    \n",
      "_________________________________________________________________\n",
      "dense_15 (Dense)             (None, 6)                 3006      \n",
      "=================================================================\n",
      "Total params: 657,530\n",
      "Trainable params: 657,530\n",
      "Non-trainable params: 0\n",
      "_________________________________________________________________\n"
     ]
    },
    {
     "name": "stderr",
     "output_type": "stream",
     "text": [
      "/Library/Frameworks/Python.framework/Versions/3.7/lib/python3.7/site-packages/ipykernel_launcher.py:15: UserWarning: Update your `Dense` call to the Keras 2 API: `Dense(1200, activation=\"relu\", kernel_constraint=<keras.con...)`\n",
      "  from ipykernel import kernelapp as app\n",
      "/Library/Frameworks/Python.framework/Versions/3.7/lib/python3.7/site-packages/ipykernel_launcher.py:17: UserWarning: Update your `Dense` call to the Keras 2 API: `Dense(500, activation=\"relu\", kernel_constraint=<keras.con...)`\n"
     ]
    }
   ],
   "source": [
    "# Model\n",
    "\n",
    "model = Sequential()\n",
    "\n",
    "model.add(Embedding(maxDictionary_size, 32, input_length=maxWordCount)) #to change words to ints\n",
    "# model.add(Conv1D(filters=32, kernel_size=3, padding='same', activation='relu'))\n",
    "# model.add(MaxPooling1D(pool_size=2))\n",
    "# model.add(Dropout(0.5))\n",
    "# model.add(Conv1D(filters=32, kernel_size=2, padding='same', activation='relu'))\n",
    "# model.add(MaxPooling1D(pool_size=2))\n",
    " #hidden layers\n",
    "model.add(LSTM(10))\n",
    "# model.add(Flatten())\n",
    "model.add(Dropout(0.6))\n",
    "model.add(Dense(1200, activation='relu',W_constraint=maxnorm(1)))\n",
    "# model.add(Dropout(0.6))\n",
    "model.add(Dense(500, activation='relu',W_constraint=maxnorm(1)))\n",
    "\n",
    "# model.add(Dropout(0.5))\n",
    " #output layer\n",
    "model.add(Dense(6, activation='softmax'))\n",
    "\n",
    "# Compile model\n",
    "# adam=Adam(lr=learning_rate, beta_1=0.7, beta_2=0.999, epsilon=1e-08, decay=0.0000001)\n",
    "\n",
    "model.summary()"
   ]
  },
  {
   "cell_type": "code",
   "execution_count": 141,
   "metadata": {},
   "outputs": [],
   "source": [
    "learning_rate=0.0001\n",
    "epochs = 25\n",
    "batch_size = 32 #32\n",
    "sgd = SGD(lr=learning_rate, nesterov=True, momentum=0.7, decay=1e-4)\n",
    "Nadam = keras.optimizers.Nadam(lr=0.002, beta_1=0.9, beta_2=0.999, epsilon=1e-08, schedule_decay=0.004)\n",
    "model.compile(loss='categorical_crossentropy', optimizer=Nadam, metrics=['accuracy'])"
   ]
  },
  {
   "cell_type": "code",
   "execution_count": 142,
   "metadata": {},
   "outputs": [
    {
     "name": "stdout",
     "output_type": "stream",
     "text": [
      "(523, 450)\n",
      "(523, 6)\n",
      "(131, 450)\n",
      "(131, 6)\n"
     ]
    }
   ],
   "source": [
    "print(X_train_encoded_padded_words.shape)\n",
    "print(Y_train.shape)\n",
    "\n",
    "print(X_val_encoded_padded_words.shape)\n",
    "print(Y_val.shape)"
   ]
  },
  {
   "cell_type": "code",
   "execution_count": 143,
   "metadata": {},
   "outputs": [
    {
     "name": "stdout",
     "output_type": "stream",
     "text": [
      "Train on 523 samples, validate on 131 samples\n",
      "Epoch 1/25\n",
      "523/523 [==============================] - 6s 11ms/step - loss: 1.6388 - acc: 0.3212 - val_loss: 1.3787 - val_acc: 0.5344\n",
      "Epoch 2/25\n",
      "523/523 [==============================] - 4s 8ms/step - loss: 1.3379 - acc: 0.4570 - val_loss: 0.9611 - val_acc: 0.6107\n",
      "Epoch 3/25\n",
      "523/523 [==============================] - 4s 7ms/step - loss: 1.0444 - acc: 0.5985 - val_loss: 0.9650 - val_acc: 0.6183\n",
      "Epoch 4/25\n",
      "523/523 [==============================] - 4s 8ms/step - loss: 0.8178 - acc: 0.6673 - val_loss: 0.8008 - val_acc: 0.6489\n",
      "Epoch 5/25\n",
      "523/523 [==============================] - 4s 7ms/step - loss: 0.6623 - acc: 0.7266 - val_loss: 0.8036 - val_acc: 0.7176\n",
      "Epoch 6/25\n",
      "523/523 [==============================] - 4s 7ms/step - loss: 0.5930 - acc: 0.7591 - val_loss: 0.7693 - val_acc: 0.7252\n",
      "Epoch 7/25\n",
      "523/523 [==============================] - 4s 7ms/step - loss: 0.5044 - acc: 0.7973 - val_loss: 0.7910 - val_acc: 0.7481\n",
      "Epoch 8/25\n",
      "523/523 [==============================] - 4s 7ms/step - loss: 0.4814 - acc: 0.8069 - val_loss: 0.7704 - val_acc: 0.7634\n",
      "Epoch 9/25\n",
      "523/523 [==============================] - 4s 7ms/step - loss: 0.4254 - acc: 0.8356 - val_loss: 0.8731 - val_acc: 0.6718\n",
      "Epoch 10/25\n",
      "523/523 [==============================] - 4s 7ms/step - loss: 0.3658 - acc: 0.8757 - val_loss: 1.1326 - val_acc: 0.6641\n",
      "Epoch 11/25\n",
      "523/523 [==============================] - 4s 7ms/step - loss: 0.3501 - acc: 0.8795 - val_loss: 0.8323 - val_acc: 0.7176\n",
      "Epoch 12/25\n",
      "523/523 [==============================] - 4s 7ms/step - loss: 0.2825 - acc: 0.8967 - val_loss: 1.0235 - val_acc: 0.7176\n",
      "Epoch 13/25\n",
      "523/523 [==============================] - 4s 7ms/step - loss: 0.2985 - acc: 0.8776 - val_loss: 0.9169 - val_acc: 0.7176\n",
      "Epoch 14/25\n",
      "523/523 [==============================] - 4s 7ms/step - loss: 0.3048 - acc: 0.8853 - val_loss: 0.9135 - val_acc: 0.7176\n",
      "Epoch 15/25\n",
      "523/523 [==============================] - 4s 8ms/step - loss: 0.2427 - acc: 0.9197 - val_loss: 1.0037 - val_acc: 0.7099\n",
      "Epoch 16/25\n",
      "523/523 [==============================] - 4s 8ms/step - loss: 0.2573 - acc: 0.9101 - val_loss: 1.1949 - val_acc: 0.7099\n",
      "Epoch 17/25\n",
      "523/523 [==============================] - 4s 9ms/step - loss: 0.1866 - acc: 0.9369 - val_loss: 1.0650 - val_acc: 0.7176\n",
      "Epoch 18/25\n",
      "523/523 [==============================] - 4s 8ms/step - loss: 0.2411 - acc: 0.9063 - val_loss: 0.9531 - val_acc: 0.7557\n",
      "Epoch 19/25\n",
      "523/523 [==============================] - 4s 8ms/step - loss: 0.1735 - acc: 0.9312 - val_loss: 1.0356 - val_acc: 0.7481\n",
      "Epoch 20/25\n",
      "523/523 [==============================] - 4s 7ms/step - loss: 0.2077 - acc: 0.9254 - val_loss: 1.0805 - val_acc: 0.7328\n",
      "Epoch 21/25\n",
      "523/523 [==============================] - 4s 7ms/step - loss: 0.1756 - acc: 0.9369 - val_loss: 1.1053 - val_acc: 0.7252\n",
      "Epoch 22/25\n",
      "523/523 [==============================] - 4s 7ms/step - loss: 0.2022 - acc: 0.9293 - val_loss: 1.1198 - val_acc: 0.7481\n",
      "Epoch 23/25\n",
      "523/523 [==============================] - 4s 7ms/step - loss: 0.1685 - acc: 0.9254 - val_loss: 1.2514 - val_acc: 0.7099\n",
      "Epoch 24/25\n",
      "523/523 [==============================] - 4s 7ms/step - loss: 0.1656 - acc: 0.9503 - val_loss: 1.0871 - val_acc: 0.7405\n",
      "Epoch 25/25\n",
      "523/523 [==============================] - 4s 7ms/step - loss: 0.1119 - acc: 0.9675 - val_loss: 1.1888 - val_acc: 0.7557\n"
     ]
    }
   ],
   "source": [
    "history  = model.fit(X_train_encoded_padded_words,Y_train, epochs = epochs, batch_size=batch_size, verbose=1,\n",
    "validation_data=(X_val_encoded_padded_words, Y_val))"
   ]
  },
  {
   "cell_type": "code",
   "execution_count": 144,
   "metadata": {},
   "outputs": [
    {
     "name": "stdout",
     "output_type": "stream",
     "text": [
      "131/131 [==============================] - 0s 978us/step\n",
      "Test accuracy: 0.7557251908396947 %\n"
     ]
    }
   ],
   "source": [
    "score = model.evaluate(X_val_encoded_padded_words, Y_val, verbose=1)\n",
    "print('Test accuracy:', score[1],'%')"
   ]
  },
  {
   "cell_type": "code",
   "execution_count": 145,
   "metadata": {},
   "outputs": [
    {
     "data": {
      "image/png": "[encoded data removed]",
      "text/plain": [
       "<Figure size 640x480 with 1 Axes>"
      ]
     },
     "metadata": {},
     "output_type": "display_data"
    },
    {
     "data": {
      "image/png": "[encoded data removed]",
      "text/plain": [
       "<Figure size 640x480 with 1 Axes>"
      ]
     },
     "metadata": {},
     "output_type": "display_data"
    }
   ],
   "source": [
    "accuracy = history.history['acc']\n",
    "val_accuracy = history.history['val_acc']\n",
    "loss = history.history['loss']\n",
    "val_loss = history.history['val_loss']\n",
    "epochs = range(len(accuracy))\n",
    "plt.plot(epochs, accuracy, 'bo', label='Training accuracy')\n",
    "plt.plot(epochs, val_accuracy, 'b', label='Validation accuracy')\n",
    "plt.title('Training and validation accuracy')\n",
    "plt.legend()\n",
    "plt.figure()\n",
    "plt.plot(epochs, loss, 'bo', label='Training loss')\n",
    "plt.plot(epochs, val_loss, 'b', label='Validation loss')\n",
    "plt.title('Training and validation loss')\n",
    "plt.legend()\n",
    "plt.show()"
   ]
  },
  {
   "cell_type": "code",
   "execution_count": 150,
   "metadata": {},
   "outputs": [
    {
     "name": "stdout",
     "output_type": "stream",
     "text": [
      "0.5920387\n",
      "[0]\n",
      "Result: brand_name\n"
     ]
    }
   ],
   "source": [
    "phrase = \"CIRCLE K VN\"\n",
    "tokens = Tokenizer.texts_to_sequences([phrase])\n",
    "tokens = pad_sequences(tokens, maxlen=450)\n",
    "prediction = model.predict(np.array(tokens))\n",
    "i_raw,j_raw = np.where(prediction == prediction.max()) #calculates the index of the maximum element of the array across all axis\n",
    "# i->rows, j->columns\n",
    "i = int(i_raw)\n",
    "j = int(j_raw)\n",
    "print(prediction[0][j])\n",
    "print(j_raw)\n",
    "total_possible_outcomes = ['brand_name', 'info', 'index', 'content', 'total', 'thank_you']\n",
    "print(\"Result:\",total_possible_outcomes[j])"
   ]
  },
  {
   "cell_type": "code",
   "execution_count": 151,
   "metadata": {},
   "outputs": [
    {
     "name": "stdout",
     "output_type": "stream",
     "text": [
      "Saved model to disk\n"
     ]
    }
   ],
   "source": [
    "# serialize model to JSON\n",
    "model_json = model.to_json()\n",
    "with open(\"model.json\", \"w\") as json_file:\n",
    "    json_file.write(model_json)\n",
    "\n",
    "# serialize weights to HDF5\n",
    "model.save_weights(\"model.h5\")\n",
    "print(\"Saved model to disk\")\n",
    "\n",
    "with open('tokenizer.pickle', 'wb') as handle:\n",
    "    pickle.dump(Tokenizer, handle, protocol=pickle.HIGHEST_PROTOCOL)"
   ]
  },
  {
   "cell_type": "code",
   "execution_count": null,
   "metadata": {},
   "outputs": [],
   "source": []
  }
 ],
 "metadata": {
  "kernelspec": {
   "display_name": "Python 3",
   "language": "python",
   "name": "python3"
  },
  "language_info": {
   "codemirror_mode": {
    "name": "ipython",
    "version": 3
   },
   "file_extension": ".py",
   "mimetype": "text/x-python",
   "name": "python",
   "nbconvert_exporter": "python",
   "pygments_lexer": "ipython3",
   "version": "3.7.1"
  }
 },
 "nbformat": 4,
 "nbformat_minor": 2
}
