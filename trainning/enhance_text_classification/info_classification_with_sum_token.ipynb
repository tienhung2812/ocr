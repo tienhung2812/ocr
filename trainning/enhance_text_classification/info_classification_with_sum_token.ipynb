{
 "cells": [
  {
   "cell_type": "code",
   "execution_count": 62,
   "metadata": {},
   "outputs": [],
   "source": [
    "import pandas as pd\n",
    "import matplotlib.pyplot as plt\n",
    "import numpy as np\n",
    "df_col = [\"sentence\",\"title\",\"address\",\"phone\",\"datetime\",\"other\"]\n",
    "raw_y_col = [\"title\",\"address\",\"phone\",\"datetime\",\"table\",\"client_no\",\"cashier\"]\n",
    "y_col = [\"title\",\"address\",\"phone\",\"datetime\",\"other\"]\n",
    "merge_col = [\"table\",\"client_no\",\"cashier\"]"
   ]
  },
  {
   "cell_type": "code",
   "execution_count": 63,
   "metadata": {},
   "outputs": [
    {
     "data": {
      "text/html": [
       "<div>\n",
       "<style scoped>\n",
       "    .dataframe tbody tr th:only-of-type {\n",
       "        vertical-align: middle;\n",
       "    }\n",
       "\n",
       "    .dataframe tbody tr th {\n",
       "        vertical-align: top;\n",
       "    }\n",
       "\n",
       "    .dataframe thead th {\n",
       "        text-align: right;\n",
       "    }\n",
       "</style>\n",
       "<table border=\"1\" class=\"dataframe\">\n",
       "  <thead>\n",
       "    <tr style=\"text-align: right;\">\n",
       "      <th></th>\n",
       "      <th>sentence</th>\n",
       "      <th>title</th>\n",
       "      <th>address</th>\n",
       "      <th>phone</th>\n",
       "      <th>datetime</th>\n",
       "      <th>table</th>\n",
       "      <th>client_no</th>\n",
       "      <th>cashier</th>\n",
       "      <th>website</th>\n",
       "    </tr>\n",
       "  </thead>\n",
       "  <tbody>\n",
       "    <tr>\n",
       "      <th>0</th>\n",
       "      <td>DT: 0903915144</td>\n",
       "      <td>0</td>\n",
       "      <td>0</td>\n",
       "      <td>1</td>\n",
       "      <td>0</td>\n",
       "      <td>0</td>\n",
       "      <td>0</td>\n",
       "      <td>0</td>\n",
       "      <td>0</td>\n",
       "    </tr>\n",
       "    <tr>\n",
       "      <th>1</th>\n",
       "      <td>ĐC: 126 Lai Hùng Cường, Vĩnh Lọc B,</td>\n",
       "      <td>0</td>\n",
       "      <td>1</td>\n",
       "      <td>0</td>\n",
       "      <td>0</td>\n",
       "      <td>0</td>\n",
       "      <td>0</td>\n",
       "      <td>0</td>\n",
       "      <td>0</td>\n",
       "    </tr>\n",
       "    <tr>\n",
       "      <th>2</th>\n",
       "      <td>Bình Chánh, TpHCM</td>\n",
       "      <td>0</td>\n",
       "      <td>1</td>\n",
       "      <td>0</td>\n",
       "      <td>0</td>\n",
       "      <td>0</td>\n",
       "      <td>0</td>\n",
       "      <td>0</td>\n",
       "      <td>0</td>\n",
       "    </tr>\n",
       "    <tr>\n",
       "      <th>3</th>\n",
       "      <td>ĐT: 0934145879</td>\n",
       "      <td>0</td>\n",
       "      <td>0</td>\n",
       "      <td>1</td>\n",
       "      <td>0</td>\n",
       "      <td>0</td>\n",
       "      <td>0</td>\n",
       "      <td>0</td>\n",
       "      <td>0</td>\n",
       "    </tr>\n",
       "    <tr>\n",
       "      <th>4</th>\n",
       "      <td>Ngày: 25/03/2019 Số: 031900002</td>\n",
       "      <td>0</td>\n",
       "      <td>0</td>\n",
       "      <td>0</td>\n",
       "      <td>1</td>\n",
       "      <td>0</td>\n",
       "      <td>0</td>\n",
       "      <td>0</td>\n",
       "      <td>0</td>\n",
       "    </tr>\n",
       "  </tbody>\n",
       "</table>\n",
       "</div>"
      ],
      "text/plain": [
       "                              sentence  title  address  phone  datetime  \\\n",
       "0                       DT: 0903915144      0        0      1         0   \n",
       "1  ĐC: 126 Lai Hùng Cường, Vĩnh Lọc B,      0        1      0         0   \n",
       "2                    Bình Chánh, TpHCM      0        1      0         0   \n",
       "3                       ĐT: 0934145879      0        0      1         0   \n",
       "4       Ngày: 25/03/2019 Số: 031900002      0        0      0         1   \n",
       "\n",
       "   table  client_no  cashier  website  \n",
       "0      0          0        0        0  \n",
       "1      0          0        0        0  \n",
       "2      0          0        0        0  \n",
       "3      0          0        0        0  \n",
       "4      0          0        0        0  "
      ]
     },
     "execution_count": 63,
     "metadata": {},
     "output_type": "execute_result"
    }
   ],
   "source": [
    "raw_train_df = pd.read_csv('../text_classification/info_df.csv',   encoding='utf-8')\n",
    "raw_train_df.head()"
   ]
  },
  {
   "cell_type": "code",
   "execution_count": 64,
   "metadata": {},
   "outputs": [],
   "source": [
    "def count_pandas(df,row):\n",
    "    count = 0\n",
    "    for index,data in df.iterrows():\n",
    "        if data[row] > 0:\n",
    "            count+= 1\n",
    "    return count\n",
    "#     new_pandas = df.query(row+\">0\")\n",
    "#     return new_pandas.shape[0]\n",
    "\n",
    "# count_pandas(train_df,\"info\")"
   ]
  },
  {
   "cell_type": "code",
   "execution_count": 65,
   "metadata": {},
   "outputs": [],
   "source": [
    "# Merge data\n",
    "train_df = pd.DataFrame(columns = df_col)\n",
    "for index, row in raw_train_df.iterrows():\n",
    "    for col in df_col:\n",
    "        if col != 'other':\n",
    "            train_df.loc[index,col] = row[col]\n",
    "        else:\n",
    "            other = 0\n",
    "            for mcol in merge_col:\n",
    "                if row[mcol] == 1:\n",
    "                    other = 1\n",
    "\n",
    "            train_df.loc[index,'other'] = other\n",
    "    "
   ]
  },
  {
   "cell_type": "code",
   "execution_count": 66,
   "metadata": {},
   "outputs": [
    {
     "data": {
      "text/html": [
       "<div>\n",
       "<style scoped>\n",
       "    .dataframe tbody tr th:only-of-type {\n",
       "        vertical-align: middle;\n",
       "    }\n",
       "\n",
       "    .dataframe tbody tr th {\n",
       "        vertical-align: top;\n",
       "    }\n",
       "\n",
       "    .dataframe thead th {\n",
       "        text-align: right;\n",
       "    }\n",
       "</style>\n",
       "<table border=\"1\" class=\"dataframe\">\n",
       "  <thead>\n",
       "    <tr style=\"text-align: right;\">\n",
       "      <th></th>\n",
       "      <th>sentence</th>\n",
       "      <th>title</th>\n",
       "      <th>address</th>\n",
       "      <th>phone</th>\n",
       "      <th>datetime</th>\n",
       "      <th>other</th>\n",
       "    </tr>\n",
       "  </thead>\n",
       "  <tbody>\n",
       "    <tr>\n",
       "      <th>0</th>\n",
       "      <td>DT: 0903915144</td>\n",
       "      <td>0</td>\n",
       "      <td>0</td>\n",
       "      <td>1</td>\n",
       "      <td>0</td>\n",
       "      <td>0</td>\n",
       "    </tr>\n",
       "    <tr>\n",
       "      <th>1</th>\n",
       "      <td>ĐC: 126 Lai Hùng Cường, Vĩnh Lọc B,</td>\n",
       "      <td>0</td>\n",
       "      <td>1</td>\n",
       "      <td>0</td>\n",
       "      <td>0</td>\n",
       "      <td>0</td>\n",
       "    </tr>\n",
       "    <tr>\n",
       "      <th>2</th>\n",
       "      <td>Bình Chánh, TpHCM</td>\n",
       "      <td>0</td>\n",
       "      <td>1</td>\n",
       "      <td>0</td>\n",
       "      <td>0</td>\n",
       "      <td>0</td>\n",
       "    </tr>\n",
       "    <tr>\n",
       "      <th>3</th>\n",
       "      <td>ĐT: 0934145879</td>\n",
       "      <td>0</td>\n",
       "      <td>0</td>\n",
       "      <td>1</td>\n",
       "      <td>0</td>\n",
       "      <td>0</td>\n",
       "    </tr>\n",
       "    <tr>\n",
       "      <th>4</th>\n",
       "      <td>Ngày: 25/03/2019 Số: 031900002</td>\n",
       "      <td>0</td>\n",
       "      <td>0</td>\n",
       "      <td>0</td>\n",
       "      <td>1</td>\n",
       "      <td>0</td>\n",
       "    </tr>\n",
       "  </tbody>\n",
       "</table>\n",
       "</div>"
      ],
      "text/plain": [
       "                              sentence title address phone datetime other\n",
       "0                       DT: 0903915144     0       0     1        0     0\n",
       "1  ĐC: 126 Lai Hùng Cường, Vĩnh Lọc B,     0       1     0        0     0\n",
       "2                    Bình Chánh, TpHCM     0       1     0        0     0\n",
       "3                       ĐT: 0934145879     0       0     1        0     0\n",
       "4       Ngày: 25/03/2019 Số: 031900002     0       0     0        1     0"
      ]
     },
     "execution_count": 66,
     "metadata": {},
     "output_type": "execute_result"
    }
   ],
   "source": [
    "train_df.head()"
   ]
  },
  {
   "cell_type": "code",
   "execution_count": 67,
   "metadata": {},
   "outputs": [],
   "source": [
    "# train_df.to_csv(\"31-07-vigroupped.csv\", index = False,  encoding='utf-8')"
   ]
  },
  {
   "cell_type": "code",
   "execution_count": 68,
   "metadata": {},
   "outputs": [],
   "source": [
    "# df.query(\"brand_name>0\")"
   ]
  },
  {
   "cell_type": "code",
   "execution_count": 69,
   "metadata": {},
   "outputs": [
    {
     "name": "stdout",
     "output_type": "stream",
     "text": [
      "[21, 35, 30, 35, 33]\n"
     ]
    },
    {
     "data": {
      "image/png": "[encoded data removed]",
      "text/plain": [
       "<Figure size 640x480 with 1 Axes>"
      ]
     },
     "metadata": {},
     "output_type": "display_data"
    }
   ],
   "source": [
    "# Explore data\n",
    "plt.rcdefaults()\n",
    "fig, ax = plt.subplots()\n",
    "# Example data\n",
    "\n",
    "y_pos = np.arange(len(y_col))\n",
    "performance = []\n",
    "\n",
    "for col in y_col:\n",
    "    performance.append(count_pandas(train_df,col))\n",
    "\n",
    "print(performance)\n",
    "error = np.random.rand(len(y_col))\n",
    "\n",
    "ax.barh(y_col, performance, align='center')\n",
    "ax.set_yticks(y_pos)\n",
    "ax.set_yticklabels(y_col)\n",
    "ax.invert_yaxis()  # labels read top-to-bottom\n",
    "ax.set_xlabel('Number of appear')\n",
    "ax.set_title('Bla bla bla')\n",
    "\n",
    "plt.show()"
   ]
  },
  {
   "cell_type": "code",
   "execution_count": 70,
   "metadata": {},
   "outputs": [],
   "source": [
    "import numpy as np\n",
    "import os\n",
    "import pickle\n",
    "from keras.optimizers import SGD, Adam, Nadam, RMSprop\n",
    "from keras.preprocessing.text import Tokenizer\n",
    "from keras.preprocessing.sequence import pad_sequences\n",
    "from keras.utils.np_utils import to_categorical\n",
    "from keras.preprocessing import sequence\n",
    "from keras.models import Sequential,Model,load_model\n",
    "from keras.layers import Embedding,Conv1D,MaxPooling1D\n",
    "from keras.layers.core import Dense, Activation,Dropout ,Flatten\n",
    "from keras.layers.recurrent import LSTM\n",
    "from keras.utils import np_utils\n",
    "from keras.preprocessing.image import ImageDataGenerator\n",
    "from keras.preprocessing import sequence\n",
    "from keras.preprocessing.text import text_to_word_sequence,one_hot,Tokenizer\n",
    "from keras.constraints import maxnorm\n",
    "from keras.callbacks import ModelCheckpoint,TensorBoard, ReduceLROnPlateau,EarlyStopping\n",
    "from keras.applications import Xception\n",
    "from keras import regularizers\n",
    "from keras import backend as K\n",
    "import keras\n",
    "import numpy as np\n",
    "import pandas as pd\n",
    "import cv2\n",
    "import os\n",
    "import glob\n",
    "import math\n",
    "import matplotlib.pyplot as plt\n",
    "from sklearn.utils import shuffle\n",
    "from sklearn.model_selection import train_test_split"
   ]
  },
  {
   "cell_type": "code",
   "execution_count": 71,
   "metadata": {},
   "outputs": [
    {
     "data": {
      "text/html": [
       "<div>\n",
       "<style scoped>\n",
       "    .dataframe tbody tr th:only-of-type {\n",
       "        vertical-align: middle;\n",
       "    }\n",
       "\n",
       "    .dataframe tbody tr th {\n",
       "        vertical-align: top;\n",
       "    }\n",
       "\n",
       "    .dataframe thead th {\n",
       "        text-align: right;\n",
       "    }\n",
       "</style>\n",
       "<table border=\"1\" class=\"dataframe\">\n",
       "  <thead>\n",
       "    <tr style=\"text-align: right;\">\n",
       "      <th></th>\n",
       "      <th>sentence</th>\n",
       "      <th>title</th>\n",
       "      <th>address</th>\n",
       "      <th>phone</th>\n",
       "      <th>datetime</th>\n",
       "      <th>other</th>\n",
       "    </tr>\n",
       "  </thead>\n",
       "  <tbody>\n",
       "    <tr>\n",
       "      <th>30</th>\n",
       "      <td>DT: 09033d4</td>\n",
       "      <td>0</td>\n",
       "      <td>0</td>\n",
       "      <td>1</td>\n",
       "      <td>0</td>\n",
       "      <td>0</td>\n",
       "    </tr>\n",
       "    <tr>\n",
       "      <th>13</th>\n",
       "      <td>SOH.DON;, 00001-20102014601</td>\n",
       "      <td>0</td>\n",
       "      <td>0</td>\n",
       "      <td>0</td>\n",
       "      <td>0</td>\n",
       "      <td>1</td>\n",
       "    </tr>\n",
       "    <tr>\n",
       "      <th>93</th>\n",
       "      <td>Thái Học - TX.Nghĩa Lộ -</td>\n",
       "      <td>0</td>\n",
       "      <td>1</td>\n",
       "      <td>0</td>\n",
       "      <td>0</td>\n",
       "      <td>0</td>\n",
       "    </tr>\n",
       "    <tr>\n",
       "      <th>154</th>\n",
       "      <td>0994 0s7 2m +</td>\n",
       "      <td>0</td>\n",
       "      <td>0</td>\n",
       "      <td>1</td>\n",
       "      <td>0</td>\n",
       "      <td>0</td>\n",
       "    </tr>\n",
       "    <tr>\n",
       "      <th>92</th>\n",
       "      <td>44 Dao Duy Tu, Hoan Kiem, Ha Noi Viet nam</td>\n",
       "      <td>0</td>\n",
       "      <td>1</td>\n",
       "      <td>0</td>\n",
       "      <td>0</td>\n",
       "      <td>0</td>\n",
       "    </tr>\n",
       "  </tbody>\n",
       "</table>\n",
       "</div>"
      ],
      "text/plain": [
       "                                      sentence title address phone datetime  \\\n",
       "30                                 DT: 09033d4     0       0     1        0   \n",
       "13                 SOH.DON;, 00001-20102014601     0       0     0        0   \n",
       "93                    Thái Học - TX.Nghĩa Lộ -     0       1     0        0   \n",
       "154                              0994 0s7 2m +     0       0     1        0   \n",
       "92   44 Dao Duy Tu, Hoan Kiem, Ha Noi Viet nam     0       1     0        0   \n",
       "\n",
       "    other  \n",
       "30      0  \n",
       "13      1  \n",
       "93      0  \n",
       "154     0  \n",
       "92      0  "
      ]
     },
     "execution_count": 71,
     "metadata": {},
     "output_type": "execute_result"
    }
   ],
   "source": [
    "seed = 120\n",
    "np.random.seed(seed)\n",
    "train_df = shuffle(train_df)\n",
    "train_df.head()"
   ]
  },
  {
   "cell_type": "code",
   "execution_count": 72,
   "metadata": {},
   "outputs": [],
   "source": [
    "X_train = train_df[\"sentence\"].fillna(\"fillna\").values\n",
    "Y_train = train_df[y_col].values"
   ]
  },
  {
   "cell_type": "code",
   "execution_count": 73,
   "metadata": {},
   "outputs": [
    {
     "name": "stdout",
     "output_type": "stream",
     "text": [
      "Shape of X_train: (173,)\n",
      "Shape of Y_train: (173, 5)\n"
     ]
    }
   ],
   "source": [
    "print(\"Shape of X_train:\",X_train.shape)\n",
    "print(\"Shape of Y_train:\",Y_train.shape)"
   ]
  },
  {
   "cell_type": "code",
   "execution_count": 74,
   "metadata": {},
   "outputs": [
    {
     "name": "stdout",
     "output_type": "stream",
     "text": [
      "DT: 09033d4\n",
      "(Input->Sentence) Length of X_train: (173,)\n",
      "(output->Labels) Length of Y_train: (173, 5)\n",
      "SOH.DON;, 00001-20102014601\n"
     ]
    }
   ],
   "source": [
    "Tokenizer = Tokenizer()\n",
    "print(X_train[0])\n",
    "print(\"(Input->Sentence) Length of X_train:\",X_train.shape) # Input -> Input\n",
    "print(\"(output->Labels) Length of Y_train:\",Y_train.shape) # output -> Labels\n",
    "texts = X_train\n",
    "print(texts[1])"
   ]
  },
  {
   "cell_type": "code",
   "execution_count": 75,
   "metadata": {},
   "outputs": [],
   "source": [
    "# Sum sentence query \n",
    "sum_df = pd.read_csv('../text_classification/31-07-vigroupped.csv',   encoding='utf-8')\n",
    "sum_train = sum_df[\"sentence\"].fillna(\"fillna\").values\n",
    "texts = sum_train"
   ]
  },
  {
   "cell_type": "code",
   "execution_count": 76,
   "metadata": {},
   "outputs": [
    {
     "name": "stdout",
     "output_type": "stream",
     "text": [
      "Tokenizer vocabulary size: 1196\n"
     ]
    },
    {
     "data": {
      "text/plain": [
       "43"
      ]
     },
     "execution_count": 76,
     "metadata": {},
     "output_type": "execute_result"
    }
   ],
   "source": [
    "Tokenizer.fit_on_texts(texts) \n",
    "Tokenizer_vocab_size = len(Tokenizer.word_index) + 1\n",
    "print(\"Tokenizer vocabulary size:\",Tokenizer_vocab_size)\n",
    "len(max(X_train,key=len))\n"
   ]
  },
  {
   "cell_type": "code",
   "execution_count": 77,
   "metadata": {},
   "outputs": [
    {
     "name": "stdout",
     "output_type": "stream",
     "text": [
      "(Input->Sentence) Length of X_train: (138,)\n",
      "(output->Labels) Length of Y_train: (138, 5)\n"
     ]
    }
   ],
   "source": [
    "X_train, X_val, Y_train, Y_val = train_test_split(X_train, Y_train, test_size=0.2)\n",
    "print(\"(Input->Sentence) Length of X_train:\",X_train.shape) # Input -> Input\n",
    "print(\"(output->Labels) Length of Y_train:\",Y_train.shape) # output -> Labels"
   ]
  },
  {
   "cell_type": "code",
   "execution_count": 78,
   "metadata": {},
   "outputs": [],
   "source": [
    "X_train_encoded_words = Tokenizer.texts_to_sequences(X_train)\n",
    "X_val_encoded_words = Tokenizer.texts_to_sequences(X_val)"
   ]
  },
  {
   "cell_type": "code",
   "execution_count": 79,
   "metadata": {},
   "outputs": [
    {
     "name": "stdout",
     "output_type": "stream",
     "text": [
      "Mocha ‹Jc<Eitnidl TU: eo  23LL5Í\n",
      "[727, 728, 729, 204, 730, 731]\n",
      "{'000': 1, '1': 2, 'sl': 3, 'hàng': 4, 'tiền': 5, '0': 6, 't': 7, 'giá': 8, 'khách': 9, '10': 10, '30': 11, '2': 12, '5': 13, 'tên': 14, '00': 15, 'giờ': 16, '20': 17, '4': 18, '100': 19, '60': 20, 'đơn': 21, '25': 22, 'sữa': 23, '17': 24, 'ngày': 25, 'lại': 26, 'mặt': 27, '45': 28, '3': 29, 'trà': 30, 'tien': 31, '19': 32, '500': 33, 'thành': 34, '35': 35, 'tiên': 36, '6': 37, '12': 38, '95': 39, '15': 40, 'ơn': 41, '50': 42, 'hoa': 43, 'cam': 44, '40': 45, 'số': 46, 'quý': 47, 'xin': 48, '13': 49, '22': 50, 'trả': 51, 'hà': 52, 'tổng': 53, 'gặp': 54, 'ca': 55, 'phê': 56, 'tra': 57, 'on': 58, 'ban': 59, '8': 60, 'thanh': 61, '—': 62, '80': 63, 'đ': 64, 'rm': 65, 'lai': 66, 'thu': 67, '05': 68, 'đgiá': 69, '90': 70, 'don': 71, '28': 72, '01': 73, 'hen': 74, 'gap': 75, 'cafe': 76, 'dgia': 77, 'dt': 78, '36': 79, '2018': 80, 'công': 81, 'hai': 82, '2017': 83, 'giam': 84, 'toán': 85, '150': 86, 'cốc': 87, 'cà': 88, 'tươi': 89, 'administrator': 90, 'hẹn': 91, '04': 92, 'ˆ': 93, 'x': 94, 'coffee': 95, 'nước': 96, 'nam': 97, '26': 98, '11': 99, '55': 100, 'cám': 101, '65': 102, 'quy': 103, 'thức': 104, 'đưa': 105, '18': 106, 'vị': 107, 'món': 108, '70': 109, '02': 110, '38': 111, 'a': 112, 'khach': 113, 'kem': 114, 'cong': 115, 'dương': 116, '49': 117, 'tiger': 118, '9': 119, '16': 120, 'gà': 121, 'chiên': 122, 'vào': 123, 'uống': 124, 'tây': 125, 'mon': 126, 'total': 127, '03': 128, 'ngan': 129, 'ra': 130, 'cảm': 131, 'hang': 132, 'nguyễn': 133, '23': 134, '24': 135, 'trăm': 136, '400': 137, 'tt': 138, '800': 139, '200': 140, 'cay': 141, 'cashier': 142, 'so': 143, '735': 144, '120': 145, 'stt': 146, 'đvt': 147, 'ăn': 148, '0001': 149, 'ngân': 150, 'giòn': 151, 'tp': 152, '66': 153, 'bia': 154, 'com': 155, 'l': 156, 'quán': 157, 'shop': 158, 'đc': 159, 'b': 160, 'bình': 161, 'tphcm': 162, 'đt': 163, 'in': 164, 'lúc': 165, 'hotline': 166, 'hb': 167, 'ngàn': 168, '2014': 169, 'cocacola': 170, 'chanh': 171, 'ép': 172, '37': 173, 'bao': 174, 'pudding': 175, 'thạch': 176, 'khoai': 177, 'sao': 178, 'cơ': 179, '08': 180, 'phiếu': 181, 'oil': 182, '1x': 183, 'no': 184, 'ten': 185, 'nau': 186, 'xảo': 187, 'ngọt': 188, 'thực': 189, 'bạc': 190, 'hướng': 191, 'phe': 192, 'cơm': 193, 'gst': 194, 'bill': 195, 'bản': 196, 'thúc': 197, 'đậu': 198, 'ty': 199, '7': 200, '130': 201, '18000': 202, 'ha': 203, 'tu': 204, 'ttiền': 205, '44': 206, 'kiwi': 207, 'dẻ': 208, '103': 209, 'tam': 210, 'tinh': 211, '07': 212, '300': 213, 'acc': 214, 'tea': 215, 'thủy': 216, 'an': 217, 'vnđ': 218, 'i': 219, 'are': 220, '80000': 221, '32': 222, '79': 223, 'thank': 224, 'you': 225, 'đgía': 226, '0903915144': 227, '2019': 228, 'gio': 229, '68': 230, 'đại': 231, 'văn': 232, 'sơn': 233, '06': 234, '0002': 235, '39': 236, 'đen': 237, 'một': 238, '¡': 239, 'm': 240, 'cộng': 241, 'trang': 242, 'sá': 243, '09': 244, 'mat': 245, 'mươi': 246, 'hung': 247, 'sách': 248, '01⁄2018': 249, 'trái': 250, '5000': 251, 'môn': 252, '58': 253, '925': 254, 'âu': 255, 'p': 256, 'tân': 257, 'q': 258, 'tan': 259, '1111': 260, 'nhan': 261, 'bo': 262, '4x': 263, '31': 264, '2x': 265, 'nhẫn': 266, 'nhãn': 267, '319': 268, '2016': 269, 'menu': 270, 'gia': 271, 'luong': 272, 'salad': 273, 'v': 274, 'rib': 275, '380': 276, '160': 277, 'barsalou': 278, 'khong': 279, 'thue': 280, 'tao': 281, 'tấn': 282, 'bánh': 283, '30000': 284, '008': 285, 'suối': 286, 'và': 287, 'nâu': 288, 'chai': 289, 'ton': 290, 'dan': 291, 'bun': 292, 'sing': 293, '42': 294, 'suon': 295, 'chien': 296, 'kdo': 297, 'hu': 298, 'tieu': 299, 'n': 300, 'da': 301, 'gi': 302, 'đá': 303, '70000': 304, '0984': 305, '087': 306, 'fish': 307, 'farm': 308, 'restaurant': 309, 's': 310, 'hđ': 311, 'bh': 312, '006': 313, '600': 314, '220': 315, 'vat': 316, '181': 317, 'thủ': 318, \"do'n\": 319, 'mr': 320, 'đùi': 321, 'cánh': 322, 'khoail': 323, 'bida': 324, '0902': 325, '869': 326, '579': 327, '27': 328, '2015': 329, 'bla': 330, 'hóa': 331, '136': 332, 'nghệ': 333, 'học': 334, 'quận': 335, 'admin': 336, '151104': 337, 'ck': 338, 'thái': 339, 'ngũ': 340, 'càng': 341, 'rang': 342, 'thuế': 343, 'g': 344, 'bàn': 345, '404': 346, '86': 347, '886': 348, 'th': 349, '14': 350, 'giảm': 351, 'please': 352, 'again': 353, 'toàn': 354, '25000': 355, 'dao': 356, 'duy': 357, 'hoan': 358, 'kiem': 359, 'noi': 360, '32000': 361, 'yên': 362, '750': 363, '272': 364, 'huy': 365, 'tập': 366, 'tĩnh': 367, '1851': 368, '003': 369, 'sr': 370, '97': 371, '480': 372, 'hồ': 373, 'đạu': 374, 'pm': 375, 'hạt': 376, '83': 377, 'uni': 378, '460': 379, 'green': 380, '21': 381, 'sung': 382, 'cuốn': 383, '99': 384, 'johor': 385, '420': 386, 'bank': 387, 'mbb': 388, 'sinh': 389, 'goods': 390, 'sold': 391, 'not': 392, 'refundable': 393, 'xanh': 394, 'ngõ': 395, 'trưng': 396, '328': 397, '87': 398, 'nội': 399, 'naan': 400, 'hd': 401, '1n': 402, 'count': 403, 'só': 404, '85': 405, 'í': 406, 'cash': 407, '45000': 408, 'ly': 409, 'adjustment': 410, '3362': 411, 'đồ': 412, 'tiệm': 413, '3t': 414, 'fc': 415, 'good': 416, 'cofee': 417, '126': 418, 'hùng': 419, 'cường': 420, 'vĩnh': 421, 'lọc': 422, 'chánh': 423, '0934145879': 424, '031900002': 425, 'vao': 426, 'cua': 427, 'việt': 428, 'ðe': 429, 'nguy': 430, 'nga': 431, 'hanh': 432, '091554': 433, 'ttiên': 434, '112': 435, 'tỷ': 436, 'mười': 437, 'đồng': 438, '2026': 439, '03109a': 440, 'soh': 441, '00001': 442, '20102014601': 443, 'gloevaox': 444, '20141': 445, '00118a': 446, '4103106': 447, '360': 448, 'oua': 449, '3x': 450, 'vnd': 451, 'khagh': 452, 'sen': 453, 'đường': 454, 'kdc': 455, '1385': 456, 'bên': 457, 'lư': 458, '54': 459, 'a1': 460, 'yaourt': 461, 'nha': 462, 'dam': 463, 'dây': 464, 'socola': 465, 'vanila': 466, 'sầu': 467, 'riêng': 468, 'dừa': 469, '0903144': 470, 'ổi': 471, 'thơm': 472, '489': 473, '151': 474, 'năm': 475, 'mốt': 476, '43pm': 477, 'azteen': 478, 'tran': 479, 'trứng': 480, 'cây': 481, 'thach': 482, '3q': 483, 'nhì': 484, 'phú': 485, '6684': 486, 'ptt': 487, '00000066': 488, '11720': 489, 'măt': 490, 'dongid': 491, '09033d4': 492, 'buom': 493, 'oil1': 494, '63': 495, 'nấm': 496, 'nơ': 497, 'đai': 498, 'rưa': 499, 'me': 500, 'cừng': 501, '00u': 502, 'con': 503, 'nhấn': 504, 'lương': 505, 'thừa': 506, '0003': 507, 's1': 508, 'duck': 509, 'eve': 510, 'steahk': 511, '590': 512, '906': 513, 'd2': 514, 'remebrulae': 515, '5cl': 516, '771': 517, 'merci': 518, 'ran': 519, \"'\": 520, '8b': 521, 'quần': 522, 'nhậu': 523, 'dẫn': 524, 'uỳnh': 525, 'phát': 526, 'chấu': 527, 'địi': 528, 'nông': 529, 'sð': 530, 'g2aa': 531, 'trắng': 532, 'hẽn': 533, 'ò': 534, '12000': 535, '0444654': 536, '„„j5': 537, 'băp': 538, 'non': 539, 'tr': 540, 'nưäc': 541, 'chal': 542, '“nưếc': 543, 'ta': 544, 'sụn': 545, 'mạm': 546, 'f': 547, 'vi': 548, 'suý': 549, '4462164665498': 550, 'bàn01': 551, '59h': 552, 'sửu': 553, 'dường': 554, 'cuối': 555, 'tuần': 556, 'đĩa': 557, 'vinntaba': 558, '540': 559, 'chân': 560, 'f13q4': 561, 'mc': 562, '00098': 563, 'o00': 564, '883a': 565, 'pho': 566, 'tel’': 567, '269': 568, '3597': 569, '23112015': 570, '124727': 571, '12015': 572, '1424727': 573, 'tret1': 574, '51c44458': 575, 'phé': 576, '35000': 577, 'chin': 578, 'muoi': 579, 'lim': 580, 'dong': 581, 'cuộn': 582, 'cá': 583, 'ngừ': 584, '700': 585, 'tha': 586, 'veg': 587, 'thai': 588, 'mp': 589, 're3': 590, 'ne': 591, '926627': 592, 'km': 593, 'jin': 594, 'ampang': 595, 'hulu': 596, 'langat': 597, 'g8000': 598, 'amapny': 599, 'selangor': 600, '601': 601, '2€0': 602, '6493': 603, 'or': 604, '6012': 605, '286': 606, '8193': 607, '“tax': 608, 'invoice': 609, 'reg': 610, '0008': 611, '3385': 612, '3536': 613, 'duflicated': 614, 'hat': 615, 'close': 616, 'bụếa': 617, 'náo': 618, 'sz': 619, 'table': 620, 'pax': 621, '20141017': 622, 'hđb': 623, '20141016': 624, 'sản': 625, 'phầm': 626, 'digia': 627, 'chivas': 628, '900': 629, '161': 630, 'qua': 631, 'dic': 632, 'biét': 633, '999': 634, '009': 635, 'lavie': 636, '430': 637, 'shisha': 638, 'vip': 639, 'coke': 640, '260': 641, 'khăn': 642, 'lanh': 643, '165': 644, '522': 645, '742': 646, 'mo': 647, 'nv': 648, '0982': 649, '434': 650, '830': 651, 'đg': 652, 'kho': 653, '8cm': 654, 'boom': 655, 'phuong': 656, 'hoang': 657, 'phố': 658, 'mới': 659, 'tính': 660, 'bidalö': 661, 'bắt': 662, 'đầu': 663, '41': 664, 'kết': 665, 'thời': 666, 'gian': 667, 'phút': 668, 'téng': 669, 'heniken': 670, 'thuốc': 671, 'lá': 672, '4l': 673, 'sling': 674, 'ex': 675, '“tổng': 676, 'dịch': 677, 'vụ': 678, '125': 679, 'niở': 680, 'nlờ': 681, 'ma': 682, 'he': 683, '1122271042015': 684, 'cim': 685, 'va': 686, 'khác': 687, 'tin': 688, 'mũi': 689, 'www': 690, 'mtv': 691, 'org': 692, 'vn': 693, 'quốc': 694, 'cang': 695, 'hỗ': 696, 'chfíminh': 697, '36100311': 698, 'ct': 699, '085639': 700, 'lẻ': 701, 'điên': 702, 'thoai': 703, 'viên': 704, 'ttién': 705, 'lẫu': 706, 'bè': 707, 'xào': 708, 'củ': 709, 'hành': 710, 'heo': 711, 'rừng': 712, 'nướng': 713, 'ghe': 714, 'mudi': 715, 'mi': 716, 'bò': 717, 'gtgt': 718, 'den': 719, 'to': 720, 'ncổ': 721, 'zzuuu': 722, 'd4': 723, 'zfamawisncoan': 724, '2d': 725, '280g7': 726, 'mocha': 727, '‹jc': 728, 'eitnidl': 729, 'eo': 730, '23ll5í': 731, 'crfeuceiriglce': 732, '52001': 733, 'tong': 734, '“sở': 735, \"'tiên\": 736, 'thôi': 737, 'gàm': 738, \"'øn\": 739, 'bàp': 740, 'lail': 741, 'te': 742, 'muỗi': 743, 'bll': 744, 'sso': 745, 'sn': 746, 'gias': 747, 'ed': 748, '——': 749, '“6': 750, '144': 751, 'ie': 752, 'hha': 753, 'ch': 754, 'mm': 755, 'it': 756, 'ot': 757, 'hia': 758, 'aon': 759, 'chưa': 760, 'dầm': 761, 'tinhoc': 762, 'mai': 763, '056100311': 764, 's6ct': 765, '0856393': 766, 'ghẹ': 767, 'muối': 768, '50000': 769, '012018': 770, 'service': 771, 'charge': 772, 'tênhàng': 773, 'đðđg': 774, 'dứa': 775, 'come': 776, 'khánh': 777, 'câu': 778, 'giây': 779, 'hàn': 780, 'viet': 781, 'tx': 782, 'nghĩa': 783, 'lộ': 784, 'cc': 785, '428': 786, '093': 787, '2¬': 788, 'ms': 789, 'bó': 790, 'la': 791, 'cải': 792, 'puddlngtiủng': 793, '680': 794, 'kin': 795, \"o'n\": 796, 'lali': 797, 'phác': 798, '020': 799, 'trâu': 800, '59ch': 801, '31000': 802, 'bái': 803, 'xúc': 804, 'xích': 805, 'cái': 806, '010': 807, '¢': 808, 'tax': 809, '6a': 810, 'lot': 811, 'jalan': 812, 'kpb': 813, 'exchangeable': 814, 'eee': 815, 'tuoi': 816, 'nad': 817, 'giấc': 818, 'mơ': 819, 'hồng': 820, 'fay': 821, 'joint': 822, '2dbtn': 823, '2bðggq': 824, 'dằm': 825, \"jmụ'c\": 826, 'chua': 827, 'isl': 828, 'đongiá': 829, 'ký': 830, 'ức': 831, 'ngào': 832, 'tênhànsg': 833, '0971': 834, '1989': 835, '604': 836, 'frequilasunce': 837, '3005': 838, '102613': 839, 'hương': 840, 'bóng': 841, 'tay': 842, 'matcha': 843, 'ad': 844, 'uỏng': 845, 'suan': 846, 'bien': 847, 'go': 848, 'tương': 849, 'snn': 850, '‘gold': 851, 'draught': 852, 'halds': 853, 'ý': 854, '243': 855, 'luc': 856, 'closed': 857, '51': 858, 'haineken': 859, 'prawns': 860, 'pov': 861, 'address': 862, 'hé': 863, 'thăng': 864, 'long': 865, 'summary': 866, 'âmount': 867, 'taxrm': 868, 'trúng': 869, 'chiến': 870, 'ibank': 871, 'ambank': 872, '888': 873, '123': 874, '3706': 875, 'giỏ': 876, '2q': 877, '6000': 878, 'ên': 879, '198': 880, '540000': 881, 'suong': 882, '780000': 883, 'canh': 884, 'chủamnghêu': 885, '450': 886, 'lien': 887, 'b4n': 888, 'tram': 889, 'mirot': 890, 'dang': 891, 'woe': 892, 'chỉn': 893, 'tám': 894, 'y': 895, 'bk': 896, '7w': 897, 'ww': 898, 'led': 899, 'track': 900, 'lighf': 901, 'magarla': 902, 'pon': 903, 'thuy': 904, 'vy': 905, 'that': 906, 'namu': 907, 'station': 908, '310': 909, '121': 910, 'phở': 911, 'tôm': 912, 'gọng': 913, '398': 914, '81100': 915, 'bahru': 916, 'tel': 917, 'd8': 918, '84': 919, '0967041111': 920, 'steak': 921, '380000': 922, '3003': 923, 'đĩahoaquàtt': 924, 'change': 925, 'prowct': 926, 'qty': 927, 'u': 928, 'price': 929, 'bst': 930, 'sub': 931, '5128': 932, '4851': 933, '2118': 934, '0u': 935, 'tốt': 936, 'tuyết': 937, '“vinntaba': 938, 'bon': 939, '“giờ': 940, 'giờra': 941, 'quảnly': 942, '47': 943, 'f13': 944, 'q4': 945, 'returnable': 946, 'lắc': 947, 'xoáy': 948, '350': 949, 'f7': 950, 'daie': 951, 'pr': 952, '414': 953, 'uv': 954, '78': 955, 'lò': 956, 'đúc': 957, 'bà': 958, 'the': 959, 'opera': 960, '‘change': 961, '0163': 962, '897': 963, '2711': 964, '0865': 965, '571': 966, '195': 967, 'vnb': 968, 'mantis': 969, 'trích': 970, 'sài': 971, '4629719': 972, 'hỏng': 973, 'ngần': 974, '0905': 975, '933': 976, '159': 977, '0976': 978, '941': 979, 'èpudding': 980, 'jÿ1l3đường': 981, 'rồng': 982, 'há': 983, 'mềm': 984, '128': 985, 'thử': 986, 'ngẩn': 987, 'ngoài': 988, 'trời': 989, 'mã': 990, 'hoàn': 991, 'kiếm': 992, 'hn': 993, 'itens': 994, 'longleiani': 995, 'hạ': 996, 'tiueen': 997, 'thiet': 998, 'giamitien': 999, 'ati': 1000, '88': 1001, 'cuộncángừ': 1002, 'khoa': 1003, 'na': 1004, '48': 1005, 'tv': 1006, 'dĩa': 1007, '55000': 1008, '———': 1009, '131': 1010, 'xèo': 1011, 'size': 1012, 'chỉ': 1013, '89': 1014, 'sitring': 1015, 'cake': 1016, 'là': 1017, 'h': 1018, '112017': 1019, '180415': 1020, 'vietnam': 1021, 'j‡l3đường': 1022, 'free': 1023, '67': 1024, 'nguyễm': 1025, 'handmade': 1026, 'nôi': 1027, 'rounded': 1028, 'tcong': 1029, 'đua': 1030, '¡rong': 1031, 'nho': 1032, '180': 1033, 'sở': 1034, 'chính': 1035, 'quầy': 1036, 'strictly': 1037, 'refund': 1038, '‘tran': 1039, 'hằng': 1040, '458001': 1041, 'duong': 1042, 'tang': 1043, 'exchange': 1044, 'allowed': 1045, 'within': 1046, 'naay': 1047, '02020001': 1048, '1b': 1049, '110': 1050, '091800001': 1051, '289': 1052, '075': 1053, 'rh': 1054, '33': 1055, '96': 1056, 'thachtréicay': 1057, '114019': 1058, 'mẻci': 1059, 'tiàhươngv': 1060, 'göi': 1061, 'súa': 1062, 'người': 1063, 'quản': 1064, 'tị': 1065, 'thịfräm': 1066, 'mặn': 1067, '720': 1068, 'nba': 1069, 'mugi': 1070, 'po': 1071, 'gộng': 1072, 'thối': 1073, 'thạchtráicây': 1074, '£5': 1075, '0994': 1076, '0s7': 1077, '2m': 1078, 'capheren': 1079, '13000': 1080, 'caphesuada': 1081, 'bảy': 1082, 'chú': 1083, 'lùn': 1084, 'khoaimôn': 1085, 'du': 1086, 'ail': 1087, '7000': 1088, 'hòa': 1089, 'niềm': 1090, 'hy': 1091, 'vọng': 1092, 'dine': 1093, 'trên': 1094, 'chừa': 1095, 'baø': 1096, 'gỏmi': 1097, 'ìh18': 1098, 'phúc': 1099, 'bồn': 1100, 'tử': 1101, 'nâng': 1102, 'bạchtuyếtvà': 1103, '5c': 1104, '395': 1105, 'rounding': 1106, 'o': 1107, '¥': 1108, 'jghgr': 1109, 'sdn': 1110, 'bhd': 1111, 'trần': 1112, 'bạch': 1113, 'đằng': 1114, 'đà': 1115, 'nẵng': 1116, 'í131a': 1117, 'bá»hxègsze': 1118, '79003': 1119, 'ttem': 1120, 'rounidng': 1121, '34': 1122, '118': 1123, '124': 1124, 'phs': 1125, 'tâm': 1126, '88603': 1127, 'freeh': 1128, 'mocals': 1129, 'rats': 1130, 'rem': 1131, 'bluate': 1132, 'tràxanh': 1133, 'tràôlong': 1134, 'tol': 1135, '4395': 1136, 'fax': 1137, '4305': 1138, '8970669': 1139, 'chim': 1140, 'doi': 1141, 'usn': 1142, '0168': 1143, '966': 1144, '6486': 1145, 'ebdng': 1146, 'jj5io': 1147, 'xuân': 1148, 'phưởng': 1149, 'thảo': 1150, 'điển': 1151, 'tho': 1152, '880': 1153, 'đn': 1154, '1e': 1155, 'aif': 1156, 'bệnh': 1157, 'viện': 1158, '108': 1159, '1ran': 1160, 'hưng': 1161, 'lar': 1162, '5626': 1163, '4732': 1164, '1744': 1165, 'start': 1166, 'py': 1167, 'khuyến': 1168, 'mãi': 1169, 'cone': 1170, 'agains': 1171, 'lcốc': 1172, '57': 1173, 'am': 1174, '71': 1175, 'amimi': 1176, 'rok': 1177, 'and': 1178, 'leather': 1179, 'sau': 1180, 'vien': 1181, 'skycoffee': 1182, 'son': 1183, 'fashion': 1184, 'wifi': 1185, 'book': 1186, 'phan': 1187, 'châu': 1188, 'trinh': 1189, 'ngọc': 1190, 'vân': 1191, 'phì': 1192, 'lũ': 1193, '0902018996': 1194, '0902096': 1195}\n"
     ]
    }
   ],
   "source": [
    "print(X_train[2])\n",
    "print(X_train_encoded_words[2])\n",
    "print(Tokenizer.word_index)"
   ]
  },
  {
   "cell_type": "code",
   "execution_count": 80,
   "metadata": {},
   "outputs": [
    {
     "name": "stdout",
     "output_type": "stream",
     "text": [
      "(output->Labels) Length of Y_train: (138, 5)\n"
     ]
    }
   ],
   "source": [
    "print(\"(output->Labels) Length of Y_train:\",Y_train.shape) # output -> Labelsprint(\"(Input->Sentence)"
   ]
  },
  {
   "cell_type": "code",
   "execution_count": 81,
   "metadata": {},
   "outputs": [],
   "source": [
    "maxWordCount= 450\n",
    "maxDictionary_size=Tokenizer_vocab_size\n",
    "X_train_encoded_padded_words = sequence.pad_sequences(X_train_encoded_words, maxlen=maxWordCount)\n",
    "X_val_encoded_padded_words = sequence.pad_sequences(X_val_encoded_words, maxlen=maxWordCount)"
   ]
  },
  {
   "cell_type": "code",
   "execution_count": 82,
   "metadata": {},
   "outputs": [
    {
     "name": "stdout",
     "output_type": "stream",
     "text": [
      "(Input->Sentence) Length of X_train: (138, 450)\n",
      "(output->Labels) Length of Y_train: (138, 5)\n"
     ]
    }
   ],
   "source": [
    "print(\"(Input->Sentence) Length of X_train:\",X_train_encoded_padded_words.shape) # Input -> Input\n",
    "print(\"(output->Labels) Length of Y_train:\",Y_train.shape) # output -> Labels"
   ]
  },
  {
   "cell_type": "code",
   "execution_count": 83,
   "metadata": {},
   "outputs": [
    {
     "name": "stdout",
     "output_type": "stream",
     "text": [
      "(138, 5)\n",
      "(35, 5)\n"
     ]
    }
   ],
   "source": [
    "print(Y_train.shape)\n",
    "print(Y_val.shape)"
   ]
  },
  {
   "cell_type": "code",
   "execution_count": 84,
   "metadata": {},
   "outputs": [
    {
     "name": "stdout",
     "output_type": "stream",
     "text": [
      "_________________________________________________________________\n",
      "Layer (type)                 Output Shape              Param #   \n",
      "=================================================================\n",
      "embedding_3 (Embedding)      (None, 450, 32)           38272     \n",
      "_________________________________________________________________\n",
      "lstm_3 (LSTM)                (None, 10)                1720      \n",
      "_________________________________________________________________\n",
      "dropout_3 (Dropout)          (None, 10)                0         \n",
      "_________________________________________________________________\n",
      "dense_7 (Dense)              (None, 1200)              13200     \n",
      "_________________________________________________________________\n",
      "dense_8 (Dense)              (None, 500)               600500    \n",
      "_________________________________________________________________\n",
      "dense_9 (Dense)              (None, 5)                 2505      \n",
      "=================================================================\n",
      "Total params: 656,197\n",
      "Trainable params: 656,197\n",
      "Non-trainable params: 0\n",
      "_________________________________________________________________\n"
     ]
    },
    {
     "name": "stderr",
     "output_type": "stream",
     "text": [
      "/home/hung/.local/lib/python3.6/site-packages/ipykernel_launcher.py:15: UserWarning: Update your `Dense` call to the Keras 2 API: `Dense(1200, activation=\"relu\", kernel_constraint=<keras.con...)`\n",
      "  from ipykernel import kernelapp as app\n",
      "/home/hung/.local/lib/python3.6/site-packages/ipykernel_launcher.py:17: UserWarning: Update your `Dense` call to the Keras 2 API: `Dense(500, activation=\"relu\", kernel_constraint=<keras.con...)`\n"
     ]
    }
   ],
   "source": [
    "# Model\n",
    "\n",
    "model = Sequential()\n",
    "\n",
    "model.add(Embedding(maxDictionary_size, 32, input_length=maxWordCount)) #to change words to ints\n",
    "# model.add(Conv1D(filters=32, kernel_size=3, padding='same', activation='relu'))\n",
    "# model.add(MaxPooling1D(pool_size=2))\n",
    "# model.add(Dropout(0.5))\n",
    "# model.add(Conv1D(filters=32, kernel_size=2, padding='same', activation='relu'))\n",
    "# model.add(MaxPooling1D(pool_size=2))\n",
    " #hidden layers\n",
    "model.add(LSTM(10))\n",
    "# model.add(Flatten())\n",
    "model.add(Dropout(0.6))\n",
    "model.add(Dense(1200, activation='relu',W_constraint=maxnorm(1)))\n",
    "# model.add(Dropout(0.6))\n",
    "model.add(Dense(500, activation='relu',W_constraint=maxnorm(1)))\n",
    "\n",
    "# model.add(Dropout(0.5))\n",
    " #output layer\n",
    "model.add(Dense(5, activation='softmax'))\n",
    "\n",
    "# Compile model\n",
    "# adam=Adam(lr=learning_rate, beta_1=0.7, beta_2=0.999, epsilon=1e-08, decay=0.0000001)\n",
    "\n",
    "model.summary()"
   ]
  },
  {
   "cell_type": "code",
   "execution_count": 85,
   "metadata": {},
   "outputs": [],
   "source": [
    "learning_rate=0.0001\n",
    "epochs = 15\n",
    "batch_size = 32 #32\n",
    "sgd = SGD(lr=learning_rate, nesterov=True, momentum=0.7, decay=1e-4)\n",
    "Nadam = keras.optimizers.Nadam(lr=0.002, beta_1=0.9, beta_2=0.999, epsilon=1e-08, schedule_decay=0.004)\n",
    "model.compile(loss='categorical_crossentropy', optimizer=Nadam, metrics=['accuracy'])"
   ]
  },
  {
   "cell_type": "code",
   "execution_count": 86,
   "metadata": {},
   "outputs": [
    {
     "name": "stdout",
     "output_type": "stream",
     "text": [
      "(138, 450)\n",
      "(138, 5)\n",
      "(35, 450)\n",
      "(35, 5)\n"
     ]
    }
   ],
   "source": [
    "print(X_train_encoded_padded_words.shape)\n",
    "print(Y_train.shape)\n",
    "\n",
    "print(X_val_encoded_padded_words.shape)\n",
    "print(Y_val.shape)"
   ]
  },
  {
   "cell_type": "code",
   "execution_count": 87,
   "metadata": {},
   "outputs": [
    {
     "name": "stdout",
     "output_type": "stream",
     "text": [
      "Train on 138 samples, validate on 35 samples\n",
      "Epoch 1/15\n",
      "138/138 [==============================] - 1s 10ms/step - loss: 1.4222 - acc: 0.1304 - val_loss: 1.4767 - val_acc: 0.1429\n",
      "Epoch 2/15\n",
      "138/138 [==============================] - 1s 5ms/step - loss: 1.3997 - acc: 0.2391 - val_loss: 1.4687 - val_acc: 0.2857\n",
      "Epoch 3/15\n",
      "138/138 [==============================] - 1s 5ms/step - loss: 1.3328 - acc: 0.3478 - val_loss: 1.5446 - val_acc: 0.1714\n",
      "Epoch 4/15\n",
      "138/138 [==============================] - 1s 5ms/step - loss: 1.1746 - acc: 0.3768 - val_loss: 1.4336 - val_acc: 0.2571\n",
      "Epoch 5/15\n",
      "138/138 [==============================] - 1s 5ms/step - loss: 0.9768 - acc: 0.4855 - val_loss: 1.0412 - val_acc: 0.4857\n",
      "Epoch 6/15\n",
      "138/138 [==============================] - 1s 5ms/step - loss: 0.8326 - acc: 0.5870 - val_loss: 1.1978 - val_acc: 0.4000\n",
      "Epoch 7/15\n",
      "138/138 [==============================] - 1s 5ms/step - loss: 0.6409 - acc: 0.6594 - val_loss: 1.2561 - val_acc: 0.4571\n",
      "Epoch 8/15\n",
      "138/138 [==============================] - 1s 5ms/step - loss: 0.6238 - acc: 0.6377 - val_loss: 1.2847 - val_acc: 0.4571\n",
      "Epoch 9/15\n",
      "138/138 [==============================] - 1s 5ms/step - loss: 0.5013 - acc: 0.6812 - val_loss: 1.1834 - val_acc: 0.4857\n",
      "Epoch 10/15\n",
      "138/138 [==============================] - 1s 5ms/step - loss: 0.4053 - acc: 0.6884 - val_loss: 1.3902 - val_acc: 0.5143\n",
      "Epoch 11/15\n",
      "138/138 [==============================] - 1s 5ms/step - loss: 0.3942 - acc: 0.7174 - val_loss: 1.1238 - val_acc: 0.6000\n",
      "Epoch 12/15\n",
      "138/138 [==============================] - 1s 5ms/step - loss: 0.2911 - acc: 0.7536 - val_loss: 0.9440 - val_acc: 0.6286\n",
      "Epoch 13/15\n",
      "138/138 [==============================] - 1s 5ms/step - loss: 0.2544 - acc: 0.8043 - val_loss: 1.1079 - val_acc: 0.5429\n",
      "Epoch 14/15\n",
      "138/138 [==============================] - 1s 5ms/step - loss: 0.2177 - acc: 0.8261 - val_loss: 1.1568 - val_acc: 0.5429\n",
      "Epoch 15/15\n",
      "138/138 [==============================] - 1s 5ms/step - loss: 0.2293 - acc: 0.7971 - val_loss: 1.0230 - val_acc: 0.6286\n"
     ]
    }
   ],
   "source": [
    "history  = model.fit(X_train_encoded_padded_words,Y_train, epochs = epochs, batch_size=batch_size, verbose=1,\n",
    "validation_data=(X_val_encoded_padded_words, Y_val))"
   ]
  },
  {
   "cell_type": "code",
   "execution_count": 88,
   "metadata": {},
   "outputs": [
    {
     "name": "stdout",
     "output_type": "stream",
     "text": [
      "35/35 [==============================] - 0s 1ms/step\n",
      "Test accuracy: 0.6285714294229235 %\n"
     ]
    }
   ],
   "source": [
    "score = model.evaluate(X_val_encoded_padded_words, Y_val, verbose=1)\n",
    "print('Test accuracy:', score[1],'%')"
   ]
  },
  {
   "cell_type": "code",
   "execution_count": 89,
   "metadata": {},
   "outputs": [
    {
     "data": {
      "image/png": "[encoded data removed]",
      "text/plain": [
       "<Figure size 640x480 with 1 Axes>"
      ]
     },
     "metadata": {},
     "output_type": "display_data"
    },
    {
     "data": {
      "image/png": "[encoded data removed]",
      "text/plain": [
       "<Figure size 640x480 with 1 Axes>"
      ]
     },
     "metadata": {},
     "output_type": "display_data"
    }
   ],
   "source": [
    "accuracy = history.history['acc']\n",
    "val_accuracy = history.history['val_acc']\n",
    "loss = history.history['loss']\n",
    "val_loss = history.history['val_loss']\n",
    "epochs = range(len(accuracy))\n",
    "plt.plot(epochs, accuracy, 'bo', label='Training accuracy')\n",
    "plt.plot(epochs, val_accuracy, 'b', label='Validation accuracy')\n",
    "plt.title('Training and validation accuracy')\n",
    "plt.legend()\n",
    "plt.figure()\n",
    "plt.plot(epochs, loss, 'bo', label='Training loss')\n",
    "plt.plot(epochs, val_loss, 'b', label='Validation loss')\n",
    "plt.title('Training and validation loss')\n",
    "plt.legend()\n",
    "plt.show()"
   ]
  },
  {
   "cell_type": "code",
   "execution_count": 90,
   "metadata": {},
   "outputs": [
    {
     "name": "stdout",
     "output_type": "stream",
     "text": [
      "[[224, 225]]\n",
      "0.46573317\n",
      "[2]\n",
      "Result: phone\n"
     ]
    }
   ],
   "source": [
    "phrase = \"Thank you\"\n",
    "tokens = Tokenizer.texts_to_sequences([phrase])\n",
    "print(tokens)\n",
    "tokens = pad_sequences(tokens, maxlen=450)\n",
    "prediction = model.predict(np.array(tokens))\n",
    "i_raw,j_raw = np.where(prediction == prediction.max()) #calculates the index of the maximum element of the array across all axis\n",
    "# i->rows, j->columns\n",
    "i = int(i_raw)\n",
    "j = int(j_raw)\n",
    "print(prediction[0][j])\n",
    "print(j_raw)\n",
    "total_possible_outcomes = y_col\n",
    "print(\"Result:\",total_possible_outcomes[j])"
   ]
  },
  {
   "cell_type": "code",
   "execution_count": 91,
   "metadata": {},
   "outputs": [],
   "source": [
    "# serialize model to JSON\n",
    "# model_json = model.to_json()\n",
    "# with open(\"info_model.json\", \"w\") as json_file:\n",
    "#     json_file.write(model_json)\n",
    "\n",
    "# # serialize weights to HDF5\n",
    "# model.save_weights(\"info_model.h5\")\n",
    "# print(\"Saved model to disk\")\n",
    "\n",
    "# with open('info_tokenizer.pickle', 'wb') as handle:\n",
    "#     pickle.dump(Tokenizer, handle, protocol=pickle.HIGHEST_PROTOCOL)"
   ]
  },
  {
   "cell_type": "code",
   "execution_count": null,
   "metadata": {},
   "outputs": [],
   "source": []
  }
 ],
 "metadata": {
  "kernelspec": {
   "display_name": "Python 3",
   "language": "python",
   "name": "python3"
  },
  "language_info": {
   "codemirror_mode": {
    "name": "ipython",
    "version": 3
   },
   "file_extension": ".py",
   "mimetype": "text/x-python",
   "name": "python",
   "nbconvert_exporter": "python",
   "pygments_lexer": "ipython3",
   "version": "3.6.8"
  }
 },
 "nbformat": 4,
 "nbformat_minor": 2
}
