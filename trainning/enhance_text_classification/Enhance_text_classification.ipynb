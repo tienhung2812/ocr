{
 "cells": [
  {
   "cell_type": "code",
   "execution_count": 178,
   "metadata": {},
   "outputs": [],
   "source": [
    "import pandas as pd\n",
    "import matplotlib.pyplot as plt\n",
    "import numpy as np\n",
    "df_col = [\"sentence\",\"brand_name\",\"info\",\"index\",\"content\",\"total\",\"thank_you\"]\n",
    "y_col = [\"brand_name\",\"info\",\"index\",\"content\",\"total\",\"thank_you\"]\n"
   ]
  },
  {
   "cell_type": "code",
   "execution_count": 179,
   "metadata": {},
   "outputs": [
    {
     "data": {
      "text/html": [
       "<div>\n",
       "<style scoped>\n",
       "    .dataframe tbody tr th:only-of-type {\n",
       "        vertical-align: middle;\n",
       "    }\n",
       "\n",
       "    .dataframe tbody tr th {\n",
       "        vertical-align: top;\n",
       "    }\n",
       "\n",
       "    .dataframe thead th {\n",
       "        text-align: right;\n",
       "    }\n",
       "</style>\n",
       "<table border=\"1\" class=\"dataframe\">\n",
       "  <thead>\n",
       "    <tr style=\"text-align: right;\">\n",
       "      <th></th>\n",
       "      <th>sentence</th>\n",
       "      <th>brand_name</th>\n",
       "      <th>info</th>\n",
       "      <th>index</th>\n",
       "      <th>content</th>\n",
       "      <th>total</th>\n",
       "      <th>thank_you</th>\n",
       "    </tr>\n",
       "  </thead>\n",
       "  <tbody>\n",
       "    <tr>\n",
       "      <th>0</th>\n",
       "      <td>DT: 0903915144</td>\n",
       "      <td>0</td>\n",
       "      <td>1</td>\n",
       "      <td>0</td>\n",
       "      <td>0</td>\n",
       "      <td>0</td>\n",
       "      <td>0</td>\n",
       "    </tr>\n",
       "    <tr>\n",
       "      <th>1</th>\n",
       "      <td>FC GOOD COFEE</td>\n",
       "      <td>1</td>\n",
       "      <td>0</td>\n",
       "      <td>0</td>\n",
       "      <td>0</td>\n",
       "      <td>0</td>\n",
       "      <td>0</td>\n",
       "    </tr>\n",
       "    <tr>\n",
       "      <th>2</th>\n",
       "      <td>ĐC: 126 Lai Hùng Cường, Vĩnh Lọc B,</td>\n",
       "      <td>0</td>\n",
       "      <td>1</td>\n",
       "      <td>0</td>\n",
       "      <td>0</td>\n",
       "      <td>0</td>\n",
       "      <td>0</td>\n",
       "    </tr>\n",
       "    <tr>\n",
       "      <th>3</th>\n",
       "      <td>Bình Chánh, TpHCM</td>\n",
       "      <td>0</td>\n",
       "      <td>1</td>\n",
       "      <td>0</td>\n",
       "      <td>0</td>\n",
       "      <td>0</td>\n",
       "      <td>0</td>\n",
       "    </tr>\n",
       "    <tr>\n",
       "      <th>4</th>\n",
       "      <td>ĐT: 0934145879</td>\n",
       "      <td>0</td>\n",
       "      <td>1</td>\n",
       "      <td>0</td>\n",
       "      <td>0</td>\n",
       "      <td>0</td>\n",
       "      <td>0</td>\n",
       "    </tr>\n",
       "  </tbody>\n",
       "</table>\n",
       "</div>"
      ],
      "text/plain": [
       "                              sentence  brand_name  info  index  content  \\\n",
       "0                       DT: 0903915144           0     1      0        0   \n",
       "1                        FC GOOD COFEE           1     0      0        0   \n",
       "2  ĐC: 126 Lai Hùng Cường, Vĩnh Lọc B,           0     1      0        0   \n",
       "3                    Bình Chánh, TpHCM           0     1      0        0   \n",
       "4                       ĐT: 0934145879           0     1      0        0   \n",
       "\n",
       "   total  thank_you  \n",
       "0      0          0  \n",
       "1      0          0  \n",
       "2      0          0  \n",
       "3      0          0  \n",
       "4      0          0  "
      ]
     },
     "execution_count": 179,
     "metadata": {},
     "output_type": "execute_result"
    }
   ],
   "source": [
    "train_df = pd.read_csv('../text_classification/04-08-vigrouppe.csv',   encoding='utf-8')\n",
    "train_df.head()"
   ]
  },
  {
   "cell_type": "code",
   "execution_count": 180,
   "metadata": {},
   "outputs": [],
   "source": [
    "def count_pandas(df,row):\n",
    "    new_pandas = df.query(row+\">0\")\n",
    "    return new_pandas.shape[0]\n",
    "\n",
    "# count_pandas(train_df,\"info\")"
   ]
  },
  {
   "cell_type": "code",
   "execution_count": 181,
   "metadata": {},
   "outputs": [],
   "source": [
    "# Delete same data\n",
    "# delete_data = []\n",
    "# for index, row in train_df.iterrows():\n",
    "#     sentence = row['sentence']\n",
    "#     for i,r in train_df.iterrows():\n",
    "#         if i!= index:\n",
    "#             if r['sentence'] == sentence:\n",
    "#                 delete_data.append(i)\n",
    "#                 print(\"=====\")\n",
    "#                 print(row['sentence'])\n",
    "#                 print(r['sentence'])"
   ]
  },
  {
   "cell_type": "code",
   "execution_count": 182,
   "metadata": {},
   "outputs": [],
   "source": [
    "# # delete data\n",
    "# delete_data = list(set(delete_data))\n",
    "\n",
    "# org_train_df = train_df\n",
    "# org_delete_data = delete_data\n",
    "# delete_data = []\n",
    "# for i in org_delete_data:\n",
    "#     delete_data.append(int(i))\n",
    "# # for index in delete_data:\n",
    "# #     train_df.drop[train_df.loc(int(index))]\n",
    "# # print(len(delete_data))\n",
    "# # print(delete_data)\n",
    "# train_df = train_df.drop(delete_data)"
   ]
  },
  {
   "cell_type": "code",
   "execution_count": 183,
   "metadata": {},
   "outputs": [],
   "source": [
    "# train_df.to_csv(\"31-07-vigroupped.csv\", index = False,  encoding='utf-8')"
   ]
  },
  {
   "cell_type": "code",
   "execution_count": 184,
   "metadata": {},
   "outputs": [],
   "source": [
    "# df.query(\"brand_name>0\")"
   ]
  },
  {
   "cell_type": "code",
   "execution_count": 185,
   "metadata": {},
   "outputs": [
    {
     "name": "stdout",
     "output_type": "stream",
     "text": [
      "[31, 183, 60, 228, 133, 42]\n"
     ]
    },
    {
     "data": {
      "image/png": "[encoded data removed]",
      "text/plain": [
       "<Figure size 640x480 with 1 Axes>"
      ]
     },
     "metadata": {},
     "output_type": "display_data"
    }
   ],
   "source": [
    "# Explore data\n",
    "plt.rcdefaults()\n",
    "fig, ax = plt.subplots()\n",
    "# Example data\n",
    "\n",
    "y_pos = np.arange(len(y_col))\n",
    "performance = []\n",
    "\n",
    "for col in y_col:\n",
    "    performance.append(count_pandas(train_df,col))\n",
    "\n",
    "print(performance)\n",
    "error = np.random.rand(len(y_col))\n",
    "\n",
    "ax.barh(y_col, performance, align='center')\n",
    "ax.set_yticks(y_pos)\n",
    "ax.set_yticklabels(y_col)\n",
    "ax.invert_yaxis()  # labels read top-to-bottom\n",
    "ax.set_xlabel('Number of appear')\n",
    "ax.set_title('Bla bla bla')\n",
    "\n",
    "plt.show()"
   ]
  },
  {
   "cell_type": "code",
   "execution_count": 186,
   "metadata": {},
   "outputs": [],
   "source": [
    "import numpy as np\n",
    "import os\n",
    "import pickle\n",
    "from keras.optimizers import SGD, Adam, Nadam, RMSprop\n",
    "from keras.preprocessing.text import Tokenizer\n",
    "from keras.preprocessing.sequence import pad_sequences\n",
    "from keras.utils.np_utils import to_categorical\n",
    "from keras.preprocessing import sequence\n",
    "from keras.models import Sequential,Model,load_model\n",
    "from keras.layers import Embedding,Conv1D,MaxPooling1D\n",
    "from keras.layers.core import Dense, Activation,Dropout ,Flatten\n",
    "from keras.layers.recurrent import LSTM\n",
    "from keras.utils import np_utils\n",
    "from keras.preprocessing.image import ImageDataGenerator\n",
    "from keras.preprocessing import sequence\n",
    "from keras.preprocessing.text import text_to_word_sequence,one_hot,Tokenizer\n",
    "from keras.constraints import maxnorm\n",
    "from keras.callbacks import ModelCheckpoint,TensorBoard, ReduceLROnPlateau,EarlyStopping\n",
    "from keras.applications import Xception\n",
    "from keras import regularizers\n",
    "from keras import backend as K\n",
    "import keras\n",
    "import numpy as np\n",
    "import pandas as pd\n",
    "import cv2\n",
    "import os\n",
    "import glob\n",
    "import math\n",
    "import matplotlib.pyplot as plt\n",
    "from sklearn.utils import shuffle\n",
    "from sklearn.model_selection import train_test_split"
   ]
  },
  {
   "cell_type": "code",
   "execution_count": 187,
   "metadata": {},
   "outputs": [
    {
     "data": {
      "text/html": [
       "<div>\n",
       "<style scoped>\n",
       "    .dataframe tbody tr th:only-of-type {\n",
       "        vertical-align: middle;\n",
       "    }\n",
       "\n",
       "    .dataframe tbody tr th {\n",
       "        vertical-align: top;\n",
       "    }\n",
       "\n",
       "    .dataframe thead th {\n",
       "        text-align: right;\n",
       "    }\n",
       "</style>\n",
       "<table border=\"1\" class=\"dataframe\">\n",
       "  <thead>\n",
       "    <tr style=\"text-align: right;\">\n",
       "      <th></th>\n",
       "      <th>sentence</th>\n",
       "      <th>brand_name</th>\n",
       "      <th>info</th>\n",
       "      <th>index</th>\n",
       "      <th>content</th>\n",
       "      <th>total</th>\n",
       "      <th>thank_you</th>\n",
       "    </tr>\n",
       "  </thead>\n",
       "  <tbody>\n",
       "    <tr>\n",
       "      <th>110</th>\n",
       "      <td>_ 60,008. 60.000</td>\n",
       "      <td>0</td>\n",
       "      <td>0</td>\n",
       "      <td>0</td>\n",
       "      <td>1</td>\n",
       "      <td>0</td>\n",
       "      <td>0</td>\n",
       "    </tr>\n",
       "    <tr>\n",
       "      <th>620</th>\n",
       "      <td>Sl TÊN sl Đ.Giá T.TIỀN</td>\n",
       "      <td>0</td>\n",
       "      <td>0</td>\n",
       "      <td>1</td>\n",
       "      <td>0</td>\n",
       "      <td>0</td>\n",
       "      <td>0</td>\n",
       "    </tr>\n",
       "    <tr>\n",
       "      <th>252</th>\n",
       "      <td>Công Ty Công Nghệ TinHoc Mai | |</td>\n",
       "      <td>1</td>\n",
       "      <td>0</td>\n",
       "      <td>0</td>\n",
       "      <td>0</td>\n",
       "      <td>0</td>\n",
       "      <td>0</td>\n",
       "    </tr>\n",
       "    <tr>\n",
       "      <th>288</th>\n",
       "      <td>GIAM MON. -1,750.</td>\n",
       "      <td>0</td>\n",
       "      <td>0</td>\n",
       "      <td>0</td>\n",
       "      <td>0</td>\n",
       "      <td>1</td>\n",
       "      <td>0</td>\n",
       "    </tr>\n",
       "    <tr>\n",
       "      <th>129</th>\n",
       "      <td>Bạc sửu 1 cốc 100.000 1 100.000</td>\n",
       "      <td>0</td>\n",
       "      <td>0</td>\n",
       "      <td>0</td>\n",
       "      <td>1</td>\n",
       "      <td>0</td>\n",
       "      <td>0</td>\n",
       "    </tr>\n",
       "  </tbody>\n",
       "</table>\n",
       "</div>"
      ],
      "text/plain": [
       "                             sentence  brand_name  info  index  content  \\\n",
       "110                  _ 60,008. 60.000           0     0      0        1   \n",
       "620           Sl TÊN sl Đ.Giá T.TIỀN            0     0      1        0   \n",
       "252  Công Ty Công Nghệ TinHoc Mai | |           1     0      0        0   \n",
       "288                 GIAM MON. -1,750.           0     0      0        0   \n",
       "129   Bạc sửu 1 cốc 100.000 1 100.000           0     0      0        1   \n",
       "\n",
       "     total  thank_you  \n",
       "110      0          0  \n",
       "620      0          0  \n",
       "252      0          0  \n",
       "288      1          0  \n",
       "129      0          0  "
      ]
     },
     "execution_count": 187,
     "metadata": {},
     "output_type": "execute_result"
    }
   ],
   "source": [
    "seed = 120\n",
    "np.random.seed(seed)\n",
    "train_df = shuffle(train_df)\n",
    "train_df.head()"
   ]
  },
  {
   "cell_type": "code",
   "execution_count": 188,
   "metadata": {},
   "outputs": [],
   "source": [
    "X_train = train_df[\"sentence\"].fillna(\"fillna\").values\n",
    "Y_train = train_df[['brand_name', 'info', 'index', 'content', 'total', 'thank_you']].values"
   ]
  },
  {
   "cell_type": "code",
   "execution_count": 189,
   "metadata": {},
   "outputs": [
    {
     "name": "stdout",
     "output_type": "stream",
     "text": [
      "Shape of X_train: (677,)\n",
      "Shape of Y_train: (677, 6)\n"
     ]
    }
   ],
   "source": [
    "print(\"Shape of X_train:\",X_train.shape)\n",
    "print(\"Shape of Y_train:\",Y_train.shape)"
   ]
  },
  {
   "cell_type": "code",
   "execution_count": 190,
   "metadata": {},
   "outputs": [
    {
     "name": "stdout",
     "output_type": "stream",
     "text": [
      "_ 60,008. 60.000\n",
      "(Input->Sentence) Length of X_train: (677,)\n",
      "(output->Labels) Length of Y_train: (677, 6)\n",
      "Sl TÊN sl Đ.Giá T.TIỀN \n"
     ]
    }
   ],
   "source": [
    "Tokenizer = Tokenizer()\n",
    "print(X_train[0])\n",
    "print(\"(Input->Sentence) Length of X_train:\",X_train.shape) # Input -> Input\n",
    "print(\"(output->Labels) Length of Y_train:\",Y_train.shape) # output -> Labels\n",
    "texts = X_train\n",
    "print(texts[1])"
   ]
  },
  {
   "cell_type": "code",
   "execution_count": 191,
   "metadata": {},
   "outputs": [
    {
     "name": "stdout",
     "output_type": "stream",
     "text": [
      "Tokenizer vocabulary size: 1250\n"
     ]
    },
    {
     "data": {
      "text/plain": [
       "45"
      ]
     },
     "execution_count": 191,
     "metadata": {},
     "output_type": "execute_result"
    }
   ],
   "source": [
    "Tokenizer.fit_on_texts(texts) \n",
    "Tokenizer_vocab_size = len(Tokenizer.word_index) + 1\n",
    "print(\"Tokenizer vocabulary size:\",Tokenizer_vocab_size)\n",
    "len(max(X_train,key=len))\n"
   ]
  },
  {
   "cell_type": "code",
   "execution_count": 192,
   "metadata": {},
   "outputs": [],
   "source": [
    "def calculate_word(df,text):\n",
    "    count = 0\n",
    "    for row in df:\n",
    "        sentence = row.lower()\n",
    "        if text in sentence:\n",
    "            print(sentence)\n",
    "            count += len(sentence.split(text)) - 1\n",
    "    return count\n"
   ]
  },
  {
   "cell_type": "code",
   "execution_count": 193,
   "metadata": {},
   "outputs": [
    {
     "name": "stdout",
     "output_type": "stream",
     "text": [
      "(Input->Sentence) Length of X_train: (541,)\n",
      "(output->Labels) Length of Y_train: (541, 6)\n"
     ]
    }
   ],
   "source": [
    "X_train, X_val, Y_train, Y_val = train_test_split(X_train, Y_train, test_size=0.2)\n",
    "print(\"(Input->Sentence) Length of X_train:\",X_train.shape) # Input -> Input\n",
    "print(\"(output->Labels) Length of Y_train:\",Y_train.shape) # output -> Labels"
   ]
  },
  {
   "cell_type": "code",
   "execution_count": 194,
   "metadata": {},
   "outputs": [],
   "source": [
    "X_train_encoded_words = Tokenizer.texts_to_sequences(X_train)\n",
    "X_val_encoded_words = Tokenizer.texts_to_sequences(X_val)"
   ]
  },
  {
   "cell_type": "code",
   "execution_count": 195,
   "metadata": {},
   "outputs": [
    {
     "name": "stdout",
     "output_type": "stream",
     "text": [
      "115/100 Lê văn Sỹ, P.13, Q.Phú Nhuận\n",
      "[486, 18, 487, 172, 488, 173, 42, 174, 265, 489]\n",
      "{'000': 1, '1': 2, 'sl': 3, 'tiền': 4, 'hàng': 5, '0': 6, 't': 7, 'giá': 8, '10': 9, 'khách': 10, '2': 11, '30': 12, 'tên': 13, '5': 14, '00': 15, 'giờ': 16, '60': 17, '100': 18, '4': 19, 'đơn': 20, '25': 21, '3': 22, 'lại': 23, '20': 24, 'sữa': 25, '17': 26, 'ngày': 27, '45': 28, 'mặt': 29, '12': 30, 'tien': 31, '35': 32, 'trà': 33, 'thành': 34, 'thanh': 35, '6': 36, '500': 37, '19': 38, '95': 39, 'ơn': 40, '50': 41, '13': 42, 'tiên': 43, 'quý': 44, '15': 45, 'cam': 46, 'số': 47, '40': 48, '22': 49, 'hoa': 50, 'xin': 51, 'gặp': 52, 'hà': 53, 'tổng': 54, 'trả': 55, 'ban': 56, 'đ': 57, 'thu': 58, '—': 59, 'phê': 60, 'on': 61, '80': 62, '8': 63, 'rm': 64, 'tra': 65, 'ca': 66, 'dgia': 67, '18': 68, 'toán': 69, 'hen': 70, 'gap': 71, '90': 72, '36': 73, 'lai': 74, 'đgiá': 75, 'cafe': 76, '28': 77, '02': 78, '2018': 79, '05': 80, '01': 81, 'don': 82, 'công': 83, 'giam': 84, 'cốc': 85, 'hẹn': 86, 'cà': 87, 'tươi': 88, '04': 89, 'hai': 90, 'nước': 91, '2017': 92, 'dt': 93, '150': 94, 'món': 95, 'thức': 96, '70': 97, 'x': 98, 'administrator': 99, 'vị': 100, 'cám': 101, 'chiên': 102, 'quy': 103, 'nam': 104, '11': 105, 'đưa': 106, '65': 107, '55': 108, '26': 109, 'coffee': 110, 'ˆ': 111, 'mon': 112, 'uống': 113, 'ngân': 114, 'cong': 115, 'cảm': 116, '16': 117, 'gà': 118, 'giòn': 119, 'tây': 120, '21': 121, 'total': 122, 'khach': 123, '38': 124, '49': 125, '14': 126, 'tiger': 127, 'dương': 128, 'a': 129, 'kem': 130, 'vào': 131, '9': 132, 'ra': 133, 'bạc': 134, 'l': 135, 'phiếu': 136, 'đậu': 137, 'cay': 138, 'ăn': 139, 'com': 140, '03': 141, '44': 142, '200': 143, 'nguyễn': 144, 'hang': 145, '735': 146, 'ngan': 147, '800': 148, '7': 149, '120': 150, 'shop': 151, 'đvt': 152, 'quán': 153, 'bia': 154, 'tt': 155, '0001': 156, 'tinh': 157, '24': 158, '23': 159, 'cashier': 160, '400': 161, 'tp': 162, '66': 163, 'so': 164, 'trăm': 165, 'stt': 166, 'ty': 167, 'cơ': 168, 'tea': 169, '300': 170, 'thúc': 171, 'văn': 172, 'p': 173, 'q': 174, 'đc': 175, 'cocacola': 176, 'i': 177, '103': 178, 'tu': 179, 'ha': 180, 'cộng': 181, 'vnđ': 182, '07': 183, 'oil': 184, '08': 185, 'pudding': 186, 'dẻ': 187, '130': 188, 'no': 189, '18000': 190, '32': 191, 'đt': 192, 'ten': 193, 'in': 194, 'lúc': 195, 'ttiền': 196, '1x': 197, 'bình': 198, 'xảo': 199, 'g': 200, 'khoai': 201, 'bản': 202, 'an': 203, '80000': 204, 'tphcm': 205, 'ép': 206, 'tam': 207, 'nau': 208, 'hotline': 209, 'hướng': 210, 'thủy': 211, 'acc': 212, 'thank': 213, 'you': 214, 'đgía': 215, 'thạch': 216, 'cơm': 217, 'ngọt': 218, 'hb': 219, '37': 220, '79': 221, 'b': 222, 'phe': 223, '2014': 224, 'gst': 225, 'thực': 226, 'are': 227, 'kiwi': 228, 'chanh': 229, 'bao': 230, 'ngàn': 231, 'bill': 232, 'gia': 233, 'sao': 234, '008': 235, 'nghệ': 236, '750': 237, 'mr': 238, '45000': 239, 'cash': 240, 'càng': 241, 'rang': 242, 'v': 243, 'rib': 244, '380': 245, 'và': 246, 'môn': 247, 'm': 248, 'green': 249, 'tiệm': 250, 'tấn': 251, 'toàn': 252, 'nhan': 253, '2x': 254, 'thuế': 255, '003': 256, '180': 257, 'đùi': 258, 'nội': 259, 'nhãn': 260, 'nhẫn': 261, 'khan': 262, 'nướng': 263, 'ngũ': 264, 'phú': 265, '3362': 266, 'ngõ': 267, 'trưng': 268, 'hồ': 269, 'khoail': 270, 'dao': 271, 'duy': 272, 'hoan': 273, 'kiem': 274, 'noi': 275, 'barsalou': 276, '58': 277, 'giảm': 278, '925': 279, 'âu': 280, 'tân': 281, 'sơn': 282, 'tan': 283, '39': 284, 'admin': 285, '151104': 286, 'xanh': 287, 'bo': 288, '4x': 289, '31': 290, 'sr': 291, '68': 292, '87': 293, 'h': 294, '86': 295, 'bun': 296, 'sing': 297, '42': 298, 'mat': 299, '32000': 300, 'sá': 301, 'yên': 302, 'fish': 303, 'farm': 304, 'restaurant': 305, 'gi': 306, 'hd': 307, '0002': 308, 'sau': 309, 'khong': 310, 'thue': 311, '136': 312, '886': 313, 'quận': 314, 'ck': 315, 'tao': 316, 'vao': 317, '01⁄2018': 318, 'cánh': 319, 'menu': 320, '220': 321, 'luong': 322, \"do'n\": 323, 'adjustment': 324, 'n': 325, '1n': 326, 'cuốn': 327, 'chai': 328, 'thủ': 329, 'nv': 330, 'vat': 331, 'ton': 332, 'dan': 333, 'đen': 334, 'naan': 335, 'bh': 336, 'hđ': 337, '006': 338, 'hđb': 339, '97': 340, 'bla': 341, 'da': 342, 'ly': 343, '0984': 344, '087': 345, 'bàn': 346, '27': 347, '404': 348, '0003': 349, 'hạt': 350, '3t': 351, '25000': 352, '480': 353, 'johor': 354, 'í': 355, 'sung': 356, '2019': 357, 'bank': 358, 'mbb': 359, 'again': 360, '09': 361, 'trái': 362, '5000': 363, 's': 364, '85': 365, 'bida': 366, '2015': 367, '30000': 368, 'đại': 369, 'suon': 370, 'chien': 371, 'kdo': 372, '160': 373, 'pm': 374, '06': 375, '420': 376, 'hu': 377, 'tieu': 378, '0902': 379, '869': 380, '579': 381, 'đá': 382, '181': 383, 'đạu': 384, 'goods': 385, 'sold': 386, 'not': 387, 'refundable': 388, '460': 389, '272': 390, 'huy': 391, 'tập': 392, 'tĩnh': 393, '1111': 394, 'trang': 395, 'hung': 396, 'sách': 397, 'só': 398, '1851': 399, 'suối': 400, 'th': 401, '83': 402, 'uni': 403, 'nâu': 404, '¡': 405, '328': 406, 'sinh': 407, 'học': 408, '600': 409, '0903915144': 410, '2016': 411, 'gio': 412, 'một': 413, 'count': 414, 'lanh': 415, 'đồ': 416, '99': 417, 'mươi': 418, 'bánh': 419, 'hóa': 420, 'thái': 421, '70000': 422, 'salad': 423, 'please': 424, '319': 425, 'tinhoc': 426, 'mai': 427, 'sửu': 428, 'o': 429, '¥': 430, 'jghgr': 431, 'sdn': 432, 'bhd': 433, 'tràxanh': 434, 'người': 435, 'quản': 436, 'tị': 437, 'ghe': 438, 'mudi': 439, 'sở': 440, 'chính': 441, 'quầy': 442, 'eve': 443, 'steahk': 444, '590': 445, '906': 446, 'ncổ': 447, 'zzuuu': 448, 'd4': 449, 'yaourt': 450, 'nha': 451, 'dam': 452, 'buom': 453, 'oil1': 454, '63': 455, 'gtgt': 456, '010': 457, 'sling': 458, 'ex': 459, '¡rong': 460, 'nho': 461, 'kin': 462, \"o'n\": 463, 'lali': 464, 'viên': 465, 'rưa': 466, 'me': 467, 'cừng': 468, '00u': 469, 'lạnh': 470, '2000': 471, '3000': 472, 'heo': 473, 'rừng': 474, 'èpudding': 475, 'lar': 476, 'f7': 477, '3x': 478, 'suan': 479, 'ma': 480, 'he': 481, '1122271042015': 482, 'freeh': 483, 'mocals': 484, 'rats': 485, '115': 486, 'lê': 487, 'sỹ': 488, 'nhuận': 489, 'tol': 490, '4395': 491, 'fax': 492, '4305': 493, '78': 494, 'lò': 495, 'đúc': 496, 'bà': 497, 'bóng': 498, 'tay': 499, '360': 500, 'magarla': 501, 'hoàn': 502, 'kiếm': 503, 'hn': 504, 'fc': 505, 'good': 506, 'cofee': 507, 'doi': 508, 'usn': 509, 'viet': 510, '0982': 511, '434': 512, '830': 513, '5cl': 514, 'uv': 515, '680': 516, 'nhì': 517, '57': 518, 'am': 519, 's6ct': 520, '0856393': 521, 'niềm': 522, 'hy': 523, 'vọng': 524, 'sub': 525, '———': 526, 'là': 527, '700': 528, '“sở': 529, \"'tiên\": 530, 'thôi': 531, '198': 532, '31000': 533, 'ttiên': 534, '67': 535, 'nguyễm': 536, 'phì': 537, 'lũ': 538, 'strictly': 539, 'refund': 540, 'den': 541, 'to': 542, 'tha': 543, 'daie': 544, 'pr': 545, 'gộng': 546, 'đongiá': 547, 'khánh': 548, 'câu': 549, 'giây': 550, '0934145879': 551, 'ta': 552, 'fay': 553, 'đn': 554, 'sð': 555, 'g2aa': 556, 'gắn': 557, 'ý': 558, '243': 559, 'vi': 560, 'suý': 561, 'lien': 562, 'quốc': 563, 'cang': 564, 'nấm': 565, 'quần': 566, 'nhậu': 567, 'dẫn': 568, 'mi': 569, 'bò': 570, '53': 571, 'nôi': 572, '165': 573, 'chua': 574, 'rounding': 575, 'the': 576, 'opera': 577, 'na': 578, '48': 579, '0903144': 580, '0163': 581, '897': 582, '2711': 583, '0865': 584, '571': 585, '195': 586, 'dine': 587, 'isl': 588, 'ò': 589, '12000': 590, 'tcong': 591, '‘change': 592, '124': 593, 'phs': 594, 'tâm': 595, '88603': 596, '“vinntaba': 597, 'skycoffee': 598, 'mo': 599, 'free': 600, 'lininn': 601, 'tầng': 602, '22000': 603, '522': 604, 'f13q4': 605, 'nba': 606, 'mugi': 607, 'po': 608, 'sụn': 609, 'mạm': 610, 'prawns': 611, 'pov': 612, 'cim': 613, 'va': 614, 'khác': 615, 'thử': 616, 'ngẩn': 617, 'suong': 618, '780000': 619, 'tính': 620, 'bidalö': 621, 'tret1': 622, '0994': 623, '0s7': 624, '2m': 625, 'du': 626, 'ail': 627, '7000': 628, '20141017': 629, '20141016': 630, 'ổi': 631, 'gloevaox': 632, '20141': 633, '00118a': 634, '601': 635, '2€0': 636, '6493': 637, 'or': 638, '6012': 639, '286': 640, '8193': 641, '110': 642, 'rounidng': 643, '09033d4': 644, 'itens': 645, 'haineken': 646, 'suổi': 647, 'aqua': 648, '750ml': 649, '¢': 650, 'hỏng': 651, '0905': 652, '933': 653, '159': 654, '0976': 655, '941': 656, 'uỳnh': 657, 'phát': 658, 'chấu': 659, 'địi': 660, 'nông': 661, 'b4n': 662, 'tram': 663, 'mirot': 664, 'dang': 665, 'dr': 666, '†': 667, 'đua': 668, 'sẽ': 669, '181210': 670, 'khu': 671, 'san': 672, 'vườn': 673, '0902096': 674, 'dau': 675, 'phụ': 676, 'rem': 677, 'bluate': 678, 'thăng': 679, 'long': 680, 'bien': 681, 'go': 682, 'sầu': 683, 'riêng': 684, 'tong': 685, 'lbàn': 686, '81100': 687, 'bahru': 688, '3005': 689, '102613': 690, 'phúc': 691, 'bồn': 692, 'tử': 693, 'hạ': 694, 'tiueen': 695, 'change': 696, 'vietnam': 697, '031900002': 698, '5128': 699, '4851': 700, '2118': 701, '091800001': 702, 'rồng': 703, 'há': 704, 'mềm': 705, '128': 706, 'đg': 707, 'socola': 708, 'cây': 709, 'hòa': 710, 'xúc': 711, 'xích': 712, 'cái': 713, 'khagh': 714, 'cuộncángừ': 715, 'tel’': 716, '269': 717, '3597': 718, '1b': 719, 'naay': 720, '02020001': 721, 'thachtréicay': 722, 'nưäc': 723, 'chal': 724, 'puddlngtiủng': 725, 'bảy': 726, 'chú': 727, 'lùn': 728, 'chim': 729, '0168': 730, '966': 731, '6486': 732, 'phieu': 733, 'snn': 734, 'longleiani': 735, 'phuong': 736, 'hoang': 737, 'kết': 738, 'table': 739, 'pax': 740, 'í131a': 741, 'bá»hxègsze': 742, '79003': 743, '“giờ': 744, 'giờra': 745, 'ebdng': 746, 'jj5io': 747, 'cua': 748, 'việt': 749, 'dằm': 750, '0u': 751, '883a': 752, 'pho': 753, '2¬': 754, 'ms': 755, 'bó': 756, 'la': 757, 'cải': 758, 'lắc': 759, 'xoáy': 760, 'ðe': 761, 'nguy': 762, 'nga': 763, 'hanh': 764, 'ct': 765, '085639': 766, '8970669': 767, 'veg': 768, 'thai': 769, 'ati': 770, '88': 771, 'matcha': 772, 'ad': 773, 'boom': 774, 'bái': 775, '350': 776, 'rounded': 777, '3003': 778, 'rén': 779, 'giữ': 780, '14101': 781, 'gias': 782, 'ed': 783, '——': 784, '“6': 785, '144': 786, 'chân': 787, 'handmade': 788, '012018': 789, 'jÿ1l3đường': 790, 'ghẹ': 791, 'muối': 792, 'duong': 793, '54': 794, '„„j5': 795, 'bec': 796, 'siu': 797, 'bal': 798, 'nong': 799, '75': 800, 'address': 801, '414': 802, 'bàn01': 803, '59h': 804, '771': 805, 'summary': 806, 'âmount': 807, 'taxrm': 808, 'khoaimôn': 809, '742': 810, '310': 811, 'tênhànsg': 812, 'tiàhươngv': 813, 'thiet': 814, 'j‡l3đường': 815, 'eee': 816, 'tuoi': 817, 'nad': 818, '162': 819, 'tel': 820, 'd8': 821, '84': 822, '0967041111': 823, 'thán': 824, 'ñ5': 825, 'dây': 826, 'trên': 827, 'chừa': 828, 'baø': 829, 'gỏmi': 830, 'ìh18': 831, 'chánh': 832, 'thịfräm': 833, 'mặn': 834, '720': 835, '6684': 836, 'sen': 837, '091554': 838, 'ký': 839, 'ức': 840, 'ngào': 841, '‘tran': 842, 'b0001': 843, 'chỉ': 844, 'mp': 845, 're3': 846, 'ne': 847, '926627': 848, 'uỏng': 849, 'thach': 850, 'tênhàng': 851, 'đðđg': 852, 'lot': 853, 'jalan': 854, 'kpb': 855, 'ran': 856, \"'\": 857, '8b': 858, 'giamitien': 859, 'rok': 860, 'and': 861, 'leather': 862, 'zfamawisncoan': 863, '2d': 864, '280g7': 865, 'mantis': 866, '2026': 867, '03109a': 868, 'lẻ': 869, 'vnb': 870, 'soh': 871, '00001': 872, '20102014601': 873, 'tràôlong': 874, 'vien': 875, 'gàm': 876, \"'øn\": 877, 'bàp': 878, 'lail': 879, 'sitring': 880, 'cake': 881, 'tran': 882, '0444654': 883, 'hũ': 884, 'giấy': 885, 'tin': 886, 'mũi': 887, 'hương': 888, 'station': 889, 'heniken': 890, '36100311': 891, 'steak': 892, '380000': 893, 'trứng': 894, 'a1': 895, 'shisha': 896, 'vip': 897, '126': 898, 'hùng': 899, 'cường': 900, 'vĩnh': 901, 'lọc': 902, '151': 903, 'f': 904, 'thừa': 905, 'giỏ': 906, 'nâng': 907, 'bạchtuyếtvà': 908, 'rh': 909, '33': 910, '96': 911, 'tốt': 912, 'tuyết': 913, '43pm': 914, 'd2': 915, 'remebrulae': 916, '114019': 917, '4103106': 918, 'mười': 919, 'đồng': 920, 'ttem': 921, 'dứa': 922, 'hé': 923, '50000': 924, 'ngần': 925, 'đĩahoaquàtt': 926, 'vinntaba': 927, 'điên': 928, 'thoai': 929, 'göi': 930, 'súa': 931, '89': 932, '056100311': 933, 'thạchtráicây': 934, '£5': 935, 'closed': 936, '51': 937, 'merci': 938, 'duflicated': 939, 'exchangeable': 940, 'tương': 941, '294': 942, '452': 943, 'trúng': 944, 'chiến': 945, 'canh': 946, 'chủamnghêu': 947, '450': 948, 'hỗ': 949, 'chfíminh': 950, 'tv': 951, 'dường': 952, 'cuối': 953, 'tuần': 954, 'đĩa': 955, 'kho': 956, '8cm': 957, '289': 958, '075': 959, 'capheren': 960, '13000': 961, 'bắt': 962, 'đầu': 963, '41': 964, 'bon': 965, '“nưếc': 966, '12015': 967, '1424727': 968, 'g8000': 969, 'amapny': 970, 'selangor': 971, 'thối': 972, 'returnable': 973, 'lavie': 974, '430': 975, '121': 976, 'phở': 977, 'tôm': 978, 'phố': 979, 'mới': 980, 'quảnly': 981, '112017': 982, '180415': 983, '3q': 984, 'chúc': 985, 'vui': 986, 'về': 987, 'bẹt': 988, 'igiam': 989, 'namu': 990, 'y': 991, 'bk': 992, '7w': 993, 'ww': 994, 'led': 995, 'track': 996, 'lighf': 997, 'reg': 998, '0008': 999, '3385': 1000, '3536': 1001, 'sản': 1002, 'phầm': 1003, 'digia': 1004, 'draught': 1005, 'halds': 1006, 'www': 1007, 'mtv': 1008, 'org': 1009, 'vn': 1010, '47': 1011, 'f13': 1012, 'q4': 1013, 'woe': 1014, 'chỉn': 1015, 'tám': 1016, 'măt': 1017, 'dongid': 1018, 'ttién': 1019, 'nơ': 1020, 'đai': 1021, 'đường': 1022, 'kdc': 1023, '1385': 1024, 'bên': 1025, 'lư': 1026, 'băp': 1027, 'non': 1028, '23112015': 1029, '124727': 1030, 'năm': 1031, 'mốt': 1032, 'bệnh': 1033, 'viện': 1034, '108': 1035, '1ran': 1036, 'hưng': 1037, 'amimi': 1038, 'nat': 1039, 'goi': 1040, 'tring': 1041, 'vanila': 1042, 'vnd': 1043, 'thời': 1044, 'gian': 1045, 'phút': 1046, 'thuốc': 1047, 'lá': 1048, '4l': 1049, 'azteen': 1050, 'giấc': 1051, 'mơ': 1052, 'hồng': 1053, 'pon': 1054, 'thuy': 1055, '‘gold': 1056, 'khoa': 1057, 'oua': 1058, \"jmụ'c\": 1059, '5626': 1060, '4732': 1061, '1744': 1062, 'service': 1063, 'charge': 1064, 'trắng': 1065, 'niở': 1066, 'nlờ': 1067, '34': 1068, '118': 1069, 'khăn': 1070, '“tổng': 1071, 'dịch': 1072, 'vụ': 1073, '125': 1074, 'quá': 1075, '4629719': 1076, 'crfeuceiriglce': 1077, '52001': 1078, '“tax': 1079, 'invoice': 1080, 'tr': 1081, 'cc': 1082, '428': 1083, 'ot': 1084, 'hia': 1085, 'aon': 1086, 'chưa': 1087, 'dầm': 1088, 'son': 1089, 'fashion': 1090, 'wifi': 1091, 'book': 1092, 'téng': 1093, 'nhấn': 1094, 'bg': 1095, '59ch': 1096, 'ibank': 1097, 'ambank': 1098, '888': 1099, '123': 1100, '3706': 1101, '093': 1102, 'vy': 1103, 'km': 1104, 'jin': 1105, 'ampang': 1106, 'hulu': 1107, 'langat': 1108, 'dĩa': 1109, '55000': 1110, 'that': 1111, 'o00': 1112, 'hat': 1113, 'close': 1114, 'bụếa': 1115, 'náo': 1116, 'sz': 1117, '5c': 1118, '395': 1119, '51c44458': 1120, 'hàn': 1121, 'exchange': 1122, 'allowed': 1123, 'within': 1124, 'phác': 1125, '020': 1126, 'trâu': 1127, 'lẫu': 1128, 'luc': 1129, 'ie': 1130, 'hha': 1131, 'ch': 1132, 'mm': 1133, 'it': 1134, 'lcốc': 1135, 'tỷ': 1136, 'caphesuada': 1137, 'tho': 1138, '880': 1139, 'con': 1140, 'chivas': 1141, '900': 1142, '161': 1143, 'phé': 1144, '35000': 1145, '112': 1146, 'start': 1147, 'py': 1148, 'mocha': 1149, '‹jc': 1150, 'eitnidl': 1151, 'eo': 1152, '23ll5í': 1153, 'ngoài': 1154, 'trời': 1155, 'mã': 1156, 'thơm': 1157, 'tang': 1158, '2q': 1159, '6000': 1160, 'tx': 1161, 'nghĩa': 1162, 'lộ': 1163, '4462164665498': 1164, '489': 1165, 'mc': 1166, '00098': 1167, 'khuyến': 1168, 'mãi': 1169, 'phan': 1170, 'châu': 1171, 'trinh': 1172, 'xuân': 1173, 'phưởng': 1174, 'thảo': 1175, 'điển': 1176, 'mẻci': 1177, '71': 1178, '131': 1179, 'xèo': 1180, 'size': 1181, 'trích': 1182, 'sài': 1183, 's1': 1184, 'duck': 1185, 'dừa': 1186, 'ngọc': 1187, 'vân': 1188, 'cone': 1189, 'agains': 1190, 'coke': 1191, '260': 1192, 'come': 1193, 'tax': 1194, '6a': 1195, 'frequilasunce': 1196, 'te': 1197, 'muỗi': 1198, 'bll': 1199, 'sso': 1200, 'sn': 1201, '1e': 1202, 'aif': 1203, 'chin': 1204, 'muoi': 1205, 'lim': 1206, 'dong': 1207, 'hẽn': 1208, 'ên': 1209, '0902018996': 1210, '540000': 1211, 'qua': 1212, 'dic': 1213, 'biét': 1214, '999': 1215, '009': 1216, '540': 1217, 'hằng': 1218, '458001': 1219, 'ptt': 1220, '00000066': 1221, '11720': 1222, 'prowct': 1223, 'qty': 1224, 'u': 1225, 'price': 1226, 'bst': 1227, 'bè': 1228, 'xào': 1229, 'củ': 1230, 'hành': 1231, 'đài': 1232, 'lương': 1233, 'gọng': 1234, '398': 1235, 'joint': 1236, '2dbtn': 1237, '2bðggq': 1238, '0971': 1239, '1989': 1240, '604': 1241, 'trần': 1242, 'bạch': 1243, 'đằng': 1244, 'đà': 1245, 'nẵng': 1246, 'cuộn': 1247, 'cá': 1248, 'ngừ': 1249}\n"
     ]
    }
   ],
   "source": [
    "print(X_train[2])\n",
    "print(X_train_encoded_words[2])\n",
    "print(Tokenizer.word_index)"
   ]
  },
  {
   "cell_type": "code",
   "execution_count": 196,
   "metadata": {},
   "outputs": [
    {
     "data": {
      "text/plain": [
       "45"
      ]
     },
     "execution_count": 196,
     "metadata": {},
     "output_type": "execute_result"
    }
   ],
   "source": [
    "# print(calculate_word(X_train,'tổng'))\n",
    "len(max(X_train,key=len))"
   ]
  },
  {
   "cell_type": "code",
   "execution_count": 197,
   "metadata": {},
   "outputs": [
    {
     "name": "stdout",
     "output_type": "stream",
     "text": [
      "(output->Labels) Length of Y_train: (541, 6)\n"
     ]
    }
   ],
   "source": [
    "print(\"(output->Labels) Length of Y_train:\",Y_train.shape) # output -> Labelsprint(\"(Input->Sentence)"
   ]
  },
  {
   "cell_type": "code",
   "execution_count": 198,
   "metadata": {},
   "outputs": [],
   "source": [
    "maxWordCount= 800\n",
    "maxDictionary_size=Tokenizer_vocab_size\n",
    "X_train_encoded_padded_words = sequence.pad_sequences(X_train_encoded_words, maxlen=maxWordCount)\n",
    "X_val_encoded_padded_words = sequence.pad_sequences(X_val_encoded_words, maxlen=maxWordCount)"
   ]
  },
  {
   "cell_type": "code",
   "execution_count": 199,
   "metadata": {},
   "outputs": [
    {
     "name": "stdout",
     "output_type": "stream",
     "text": [
      "(Input->Sentence) Length of X_train: (541, 800)\n",
      "(output->Labels) Length of Y_train: (541, 6)\n"
     ]
    }
   ],
   "source": [
    "print(\"(Input->Sentence) Length of X_train:\",X_train_encoded_padded_words.shape) # Input -> Input\n",
    "print(\"(output->Labels) Length of Y_train:\",Y_train.shape) # output -> Labels"
   ]
  },
  {
   "cell_type": "code",
   "execution_count": 200,
   "metadata": {},
   "outputs": [
    {
     "name": "stdout",
     "output_type": "stream",
     "text": [
      "(541, 6)\n",
      "(136, 6)\n"
     ]
    }
   ],
   "source": [
    "print(Y_train.shape)\n",
    "print(Y_val.shape)"
   ]
  },
  {
   "cell_type": "code",
   "execution_count": 213,
   "metadata": {},
   "outputs": [
    {
     "name": "stdout",
     "output_type": "stream",
     "text": [
      "_________________________________________________________________\n",
      "Layer (type)                 Output Shape              Param #   \n",
      "=================================================================\n",
      "embedding_8 (Embedding)      (None, 800, 32)           40000     \n",
      "_________________________________________________________________\n",
      "lstm_8 (LSTM)                (None, 10)                1720      \n",
      "_________________________________________________________________\n",
      "dropout_9 (Dropout)          (None, 10)                0         \n",
      "_________________________________________________________________\n",
      "dense_22 (Dense)             (None, 1200)              13200     \n",
      "_________________________________________________________________\n",
      "dense_23 (Dense)             (None, 500)               600500    \n",
      "_________________________________________________________________\n",
      "dense_24 (Dense)             (None, 6)                 3006      \n",
      "=================================================================\n",
      "Total params: 658,426\n",
      "Trainable params: 658,426\n",
      "Non-trainable params: 0\n",
      "_________________________________________________________________\n"
     ]
    },
    {
     "name": "stderr",
     "output_type": "stream",
     "text": [
      "/Library/Frameworks/Python.framework/Versions/3.7/lib/python3.7/site-packages/ipykernel_launcher.py:15: UserWarning: Update your `Dense` call to the Keras 2 API: `Dense(1200, activation=\"relu\", kernel_constraint=<keras.con...)`\n",
      "  from ipykernel import kernelapp as app\n",
      "/Library/Frameworks/Python.framework/Versions/3.7/lib/python3.7/site-packages/ipykernel_launcher.py:17: UserWarning: Update your `Dense` call to the Keras 2 API: `Dense(500, activation=\"relu\", kernel_constraint=<keras.con...)`\n"
     ]
    }
   ],
   "source": [
    "# Model\n",
    "\n",
    "model = Sequential()\n",
    "\n",
    "model.add(Embedding(maxDictionary_size, 32, input_length=maxWordCount)) #to change words to ints\n",
    "# model.add(Conv1D(filters=32, kernel_size=3, padding='same', activation='relu'))\n",
    "# model.add(MaxPooling1D(pool_size=2))\n",
    "# model.add(Dropout(0.5))\n",
    "# model.add(Conv1D(filters=32, kernel_size=2, padding='same', activation='relu'))\n",
    "# model.add(MaxPooling1D(pool_size=2))\n",
    " #hidden layers\n",
    "model.add(LSTM(10))\n",
    "# model.add(Flatten())\n",
    "model.add(Dropout(0.6))\n",
    "model.add(Dense(1200, activation='relu',W_constraint=maxnorm(1)))\n",
    "# model.add(Dropout(0.6))\n",
    "model.add(Dense(500, activation='relu',W_constraint=maxnorm(1)))\n",
    "\n",
    "# model.add(Dropout(0.5))\n",
    " #output layer\n",
    "model.add(Dense(6, activation='softmax'))\n",
    "\n",
    "# Compile model\n",
    "# adam=Adam(lr=learning_rate, beta_1=0.7, beta_2=0.999, epsilon=1e-08, decay=0.0000001)\n",
    "\n",
    "model.summary()"
   ]
  },
  {
   "cell_type": "code",
   "execution_count": 214,
   "metadata": {},
   "outputs": [],
   "source": [
    "learning_rate=0.0001\n",
    "epochs = 15\n",
    "batch_size = 32 #32\n",
    "sgd = SGD(lr=learning_rate, nesterov=True, momentum=0.7, decay=1e-4)\n",
    "Nadam = keras.optimizers.Nadam(lr=0.002, beta_1=0.9, beta_2=0.999, epsilon=1e-08, schedule_decay=0.004)\n",
    "model.compile(loss='categorical_crossentropy', optimizer=Nadam, metrics=['accuracy'])"
   ]
  },
  {
   "cell_type": "code",
   "execution_count": 215,
   "metadata": {},
   "outputs": [
    {
     "name": "stdout",
     "output_type": "stream",
     "text": [
      "(541, 800)\n",
      "(541, 6)\n",
      "(136, 800)\n",
      "(136, 6)\n"
     ]
    }
   ],
   "source": [
    "print(X_train_encoded_padded_words.shape)\n",
    "print(Y_train.shape)\n",
    "\n",
    "print(X_val_encoded_padded_words.shape)\n",
    "print(Y_val.shape)"
   ]
  },
  {
   "cell_type": "code",
   "execution_count": 216,
   "metadata": {},
   "outputs": [
    {
     "name": "stdout",
     "output_type": "stream",
     "text": [
      "Train on 541 samples, validate on 136 samples\n",
      "Epoch 1/15\n",
      "541/541 [==============================] - 9s 16ms/step - loss: 1.5786 - acc: 0.3512 - val_loss: 1.3903 - val_acc: 0.4926\n",
      "Epoch 2/15\n",
      "541/541 [==============================] - 6s 12ms/step - loss: 1.2619 - acc: 0.4806 - val_loss: 1.0824 - val_acc: 0.5956\n",
      "Epoch 3/15\n",
      "541/541 [==============================] - 6s 12ms/step - loss: 0.9880 - acc: 0.5767 - val_loss: 0.9372 - val_acc: 0.5882\n",
      "Epoch 4/15\n",
      "541/541 [==============================] - 6s 12ms/step - loss: 0.7464 - acc: 0.6876 - val_loss: 0.9558 - val_acc: 0.5882\n",
      "Epoch 5/15\n",
      "541/541 [==============================] - 6s 12ms/step - loss: 0.6136 - acc: 0.7671 - val_loss: 0.9523 - val_acc: 0.6618\n",
      "Epoch 6/15\n",
      "541/541 [==============================] - 6s 12ms/step - loss: 0.4537 - acc: 0.8022 - val_loss: 1.0120 - val_acc: 0.6324\n",
      "Epoch 7/15\n",
      "541/541 [==============================] - 6s 12ms/step - loss: 0.3800 - acc: 0.8540 - val_loss: 1.1012 - val_acc: 0.6029\n",
      "Epoch 8/15\n",
      "541/541 [==============================] - 6s 12ms/step - loss: 0.4025 - acc: 0.8373 - val_loss: 1.0752 - val_acc: 0.6838\n",
      "Epoch 9/15\n",
      "541/541 [==============================] - 6s 12ms/step - loss: 0.3412 - acc: 0.8558 - val_loss: 1.1005 - val_acc: 0.6471\n",
      "Epoch 10/15\n",
      "541/541 [==============================] - 7s 12ms/step - loss: 0.3193 - acc: 0.8799 - val_loss: 1.1382 - val_acc: 0.6765\n",
      "Epoch 11/15\n",
      "541/541 [==============================] - 8s 15ms/step - loss: 0.3234 - acc: 0.8651 - val_loss: 1.2484 - val_acc: 0.6324\n",
      "Epoch 12/15\n",
      "541/541 [==============================] - 7s 14ms/step - loss: 0.2557 - acc: 0.9039 - val_loss: 1.2095 - val_acc: 0.6544\n",
      "Epoch 13/15\n",
      "541/541 [==============================] - 7s 12ms/step - loss: 0.2492 - acc: 0.9094 - val_loss: 1.3435 - val_acc: 0.6544\n",
      "Epoch 14/15\n",
      "541/541 [==============================] - 6s 12ms/step - loss: 0.3073 - acc: 0.8909 - val_loss: 1.2170 - val_acc: 0.6397\n",
      "Epoch 15/15\n",
      "541/541 [==============================] - 6s 12ms/step - loss: 0.2192 - acc: 0.9205 - val_loss: 1.2881 - val_acc: 0.6471\n"
     ]
    }
   ],
   "source": [
    "history  = model.fit(X_train_encoded_padded_words,Y_train, epochs = epochs, batch_size=batch_size, verbose=1,\n",
    "validation_data=(X_val_encoded_padded_words, Y_val))"
   ]
  },
  {
   "cell_type": "code",
   "execution_count": 217,
   "metadata": {},
   "outputs": [
    {
     "name": "stdout",
     "output_type": "stream",
     "text": [
      "136/136 [==============================] - 0s 2ms/step\n",
      "Test accuracy: 0.6470588235294118 %\n"
     ]
    }
   ],
   "source": [
    "score = model.evaluate(X_val_encoded_padded_words, Y_val, verbose=1)\n",
    "print('Test accuracy:', score[1],'%')"
   ]
  },
  {
   "cell_type": "code",
   "execution_count": 218,
   "metadata": {},
   "outputs": [
    {
     "data": {
      "image/png": "[encoded data removed]",
      "text/plain": [
       "<Figure size 640x480 with 1 Axes>"
      ]
     },
     "metadata": {},
     "output_type": "display_data"
    },
    {
     "data": {
      "image/png": "[encoded data removed]",
      "text/plain": [
       "<Figure size 640x480 with 1 Axes>"
      ]
     },
     "metadata": {},
     "output_type": "display_data"
    }
   ],
   "source": [
    "accuracy = history.history['acc']\n",
    "val_accuracy = history.history['val_acc']\n",
    "loss = history.history['loss']\n",
    "val_loss = history.history['val_loss']\n",
    "epochs = range(len(accuracy))\n",
    "plt.plot(epochs, accuracy, 'bo', label='Training accuracy')\n",
    "plt.plot(epochs, val_accuracy, 'b', label='Validation accuracy')\n",
    "plt.title('Training and validation accuracy')\n",
    "plt.legend()\n",
    "plt.figure()\n",
    "plt.plot(epochs, loss, 'bo', label='Training loss')\n",
    "plt.plot(epochs, val_loss, 'b', label='Validation loss')\n",
    "plt.title('Training and validation loss')\n",
    "plt.legend()\n",
    "plt.show()"
   ]
  },
  {
   "cell_type": "code",
   "execution_count": 219,
   "metadata": {},
   "outputs": [
    {
     "ename": "ValueError",
     "evalue": "Error when checking input: expected embedding_8_input to have shape (800,) but got array with shape (450,)",
     "output_type": "error",
     "traceback": [
      "\u001b[0;31m---------------------------------------------------------------------------\u001b[0m",
      "\u001b[0;31mValueError\u001b[0m                                Traceback (most recent call last)",
      "\u001b[0;32m<ipython-input-219-a585e7e2af1d>\u001b[0m in \u001b[0;36m<module>\u001b[0;34m\u001b[0m\n\u001b[1;32m      2\u001b[0m \u001b[0mtokens\u001b[0m \u001b[0;34m=\u001b[0m \u001b[0mTokenizer\u001b[0m\u001b[0;34m.\u001b[0m\u001b[0mtexts_to_sequences\u001b[0m\u001b[0;34m(\u001b[0m\u001b[0;34m[\u001b[0m\u001b[0mphrase\u001b[0m\u001b[0;34m]\u001b[0m\u001b[0;34m)\u001b[0m\u001b[0;34m\u001b[0m\u001b[0;34m\u001b[0m\u001b[0m\n\u001b[1;32m      3\u001b[0m \u001b[0mtokens\u001b[0m \u001b[0;34m=\u001b[0m \u001b[0mpad_sequences\u001b[0m\u001b[0;34m(\u001b[0m\u001b[0mtokens\u001b[0m\u001b[0;34m,\u001b[0m \u001b[0mmaxlen\u001b[0m\u001b[0;34m=\u001b[0m\u001b[0;36m450\u001b[0m\u001b[0;34m)\u001b[0m\u001b[0;34m\u001b[0m\u001b[0;34m\u001b[0m\u001b[0m\n\u001b[0;32m----> 4\u001b[0;31m \u001b[0mprediction\u001b[0m \u001b[0;34m=\u001b[0m \u001b[0mmodel\u001b[0m\u001b[0;34m.\u001b[0m\u001b[0mpredict\u001b[0m\u001b[0;34m(\u001b[0m\u001b[0mnp\u001b[0m\u001b[0;34m.\u001b[0m\u001b[0marray\u001b[0m\u001b[0;34m(\u001b[0m\u001b[0mtokens\u001b[0m\u001b[0;34m)\u001b[0m\u001b[0;34m)\u001b[0m\u001b[0;34m\u001b[0m\u001b[0;34m\u001b[0m\u001b[0m\n\u001b[0m\u001b[1;32m      5\u001b[0m \u001b[0mi_raw\u001b[0m\u001b[0;34m,\u001b[0m\u001b[0mj_raw\u001b[0m \u001b[0;34m=\u001b[0m \u001b[0mnp\u001b[0m\u001b[0;34m.\u001b[0m\u001b[0mwhere\u001b[0m\u001b[0;34m(\u001b[0m\u001b[0mprediction\u001b[0m \u001b[0;34m==\u001b[0m \u001b[0mprediction\u001b[0m\u001b[0;34m.\u001b[0m\u001b[0mmax\u001b[0m\u001b[0;34m(\u001b[0m\u001b[0;34m)\u001b[0m\u001b[0;34m)\u001b[0m \u001b[0;31m#calculates the index of the maximum element of the array across all axis\u001b[0m\u001b[0;34m\u001b[0m\u001b[0;34m\u001b[0m\u001b[0m\n\u001b[1;32m      6\u001b[0m \u001b[0;31m# i->rows, j->columns\u001b[0m\u001b[0;34m\u001b[0m\u001b[0;34m\u001b[0m\u001b[0;34m\u001b[0m\u001b[0m\n",
      "\u001b[0;32m/Library/Frameworks/Python.framework/Versions/3.7/lib/python3.7/site-packages/keras/engine/training.py\u001b[0m in \u001b[0;36mpredict\u001b[0;34m(self, x, batch_size, verbose, steps)\u001b[0m\n\u001b[1;32m   1147\u001b[0m                              'argument.')\n\u001b[1;32m   1148\u001b[0m         \u001b[0;31m# Validate user data.\u001b[0m\u001b[0;34m\u001b[0m\u001b[0;34m\u001b[0m\u001b[0;34m\u001b[0m\u001b[0m\n\u001b[0;32m-> 1149\u001b[0;31m         \u001b[0mx\u001b[0m\u001b[0;34m,\u001b[0m \u001b[0m_\u001b[0m\u001b[0;34m,\u001b[0m \u001b[0m_\u001b[0m \u001b[0;34m=\u001b[0m \u001b[0mself\u001b[0m\u001b[0;34m.\u001b[0m\u001b[0m_standardize_user_data\u001b[0m\u001b[0;34m(\u001b[0m\u001b[0mx\u001b[0m\u001b[0;34m)\u001b[0m\u001b[0;34m\u001b[0m\u001b[0;34m\u001b[0m\u001b[0m\n\u001b[0m\u001b[1;32m   1150\u001b[0m         \u001b[0;32mif\u001b[0m \u001b[0mself\u001b[0m\u001b[0;34m.\u001b[0m\u001b[0mstateful\u001b[0m\u001b[0;34m:\u001b[0m\u001b[0;34m\u001b[0m\u001b[0;34m\u001b[0m\u001b[0m\n\u001b[1;32m   1151\u001b[0m             \u001b[0;32mif\u001b[0m \u001b[0mx\u001b[0m\u001b[0;34m[\u001b[0m\u001b[0;36m0\u001b[0m\u001b[0;34m]\u001b[0m\u001b[0;34m.\u001b[0m\u001b[0mshape\u001b[0m\u001b[0;34m[\u001b[0m\u001b[0;36m0\u001b[0m\u001b[0;34m]\u001b[0m \u001b[0;34m>\u001b[0m \u001b[0mbatch_size\u001b[0m \u001b[0;32mand\u001b[0m \u001b[0mx\u001b[0m\u001b[0;34m[\u001b[0m\u001b[0;36m0\u001b[0m\u001b[0;34m]\u001b[0m\u001b[0;34m.\u001b[0m\u001b[0mshape\u001b[0m\u001b[0;34m[\u001b[0m\u001b[0;36m0\u001b[0m\u001b[0;34m]\u001b[0m \u001b[0;34m%\u001b[0m \u001b[0mbatch_size\u001b[0m \u001b[0;34m!=\u001b[0m \u001b[0;36m0\u001b[0m\u001b[0;34m:\u001b[0m\u001b[0;34m\u001b[0m\u001b[0;34m\u001b[0m\u001b[0m\n",
      "\u001b[0;32m/Library/Frameworks/Python.framework/Versions/3.7/lib/python3.7/site-packages/keras/engine/training.py\u001b[0m in \u001b[0;36m_standardize_user_data\u001b[0;34m(self, x, y, sample_weight, class_weight, check_array_lengths, batch_size)\u001b[0m\n\u001b[1;32m    749\u001b[0m             \u001b[0mfeed_input_shapes\u001b[0m\u001b[0;34m,\u001b[0m\u001b[0;34m\u001b[0m\u001b[0;34m\u001b[0m\u001b[0m\n\u001b[1;32m    750\u001b[0m             \u001b[0mcheck_batch_axis\u001b[0m\u001b[0;34m=\u001b[0m\u001b[0;32mFalse\u001b[0m\u001b[0;34m,\u001b[0m  \u001b[0;31m# Don't enforce the batch size.\u001b[0m\u001b[0;34m\u001b[0m\u001b[0;34m\u001b[0m\u001b[0m\n\u001b[0;32m--> 751\u001b[0;31m             exception_prefix='input')\n\u001b[0m\u001b[1;32m    752\u001b[0m \u001b[0;34m\u001b[0m\u001b[0m\n\u001b[1;32m    753\u001b[0m         \u001b[0;32mif\u001b[0m \u001b[0my\u001b[0m \u001b[0;32mis\u001b[0m \u001b[0;32mnot\u001b[0m \u001b[0;32mNone\u001b[0m\u001b[0;34m:\u001b[0m\u001b[0;34m\u001b[0m\u001b[0;34m\u001b[0m\u001b[0m\n",
      "\u001b[0;32m/Library/Frameworks/Python.framework/Versions/3.7/lib/python3.7/site-packages/keras/engine/training_utils.py\u001b[0m in \u001b[0;36mstandardize_input_data\u001b[0;34m(data, names, shapes, check_batch_axis, exception_prefix)\u001b[0m\n\u001b[1;32m    136\u001b[0m                             \u001b[0;34m': expected '\u001b[0m \u001b[0;34m+\u001b[0m \u001b[0mnames\u001b[0m\u001b[0;34m[\u001b[0m\u001b[0mi\u001b[0m\u001b[0;34m]\u001b[0m \u001b[0;34m+\u001b[0m \u001b[0;34m' to have shape '\u001b[0m \u001b[0;34m+\u001b[0m\u001b[0;34m\u001b[0m\u001b[0;34m\u001b[0m\u001b[0m\n\u001b[1;32m    137\u001b[0m                             \u001b[0mstr\u001b[0m\u001b[0;34m(\u001b[0m\u001b[0mshape\u001b[0m\u001b[0;34m)\u001b[0m \u001b[0;34m+\u001b[0m \u001b[0;34m' but got array with shape '\u001b[0m \u001b[0;34m+\u001b[0m\u001b[0;34m\u001b[0m\u001b[0;34m\u001b[0m\u001b[0m\n\u001b[0;32m--> 138\u001b[0;31m                             str(data_shape))\n\u001b[0m\u001b[1;32m    139\u001b[0m     \u001b[0;32mreturn\u001b[0m \u001b[0mdata\u001b[0m\u001b[0;34m\u001b[0m\u001b[0;34m\u001b[0m\u001b[0m\n\u001b[1;32m    140\u001b[0m \u001b[0;34m\u001b[0m\u001b[0m\n",
      "\u001b[0;31mValueError\u001b[0m: Error when checking input: expected embedding_8_input to have shape (800,) but got array with shape (450,)"
     ]
    }
   ],
   "source": [
    "phrase = \"3T: 0902018996\"\n",
    "tokens = Tokenizer.texts_to_sequences([phrase])\n",
    "tokens = pad_sequences(tokens, maxlen=450)\n",
    "prediction = model.predict(np.array(tokens))\n",
    "i_raw,j_raw = np.where(prediction == prediction.max()) #calculates the index of the maximum element of the array across all axis\n",
    "# i->rows, j->columns\n",
    "i = int(i_raw)\n",
    "j = int(j_raw)\n",
    "print(prediction[0][j])\n",
    "print(j_raw)\n",
    "total_possible_outcomes = ['brand_name', 'info', 'index', 'content', 'total', 'thank_you']\n",
    "print(\"Result:\",total_possible_outcomes[j])"
   ]
  },
  {
   "cell_type": "code",
   "execution_count": null,
   "metadata": {},
   "outputs": [],
   "source": [
    "# # serialize model to JSON\n",
    "# model_json = model.to_json()\n",
    "# with open(\"model.json\", \"w\") as json_file:\n",
    "#     json_file.write(model_json)\n",
    "\n",
    "# # serialize weights to HDF5\n",
    "# model.save_weights(\"model.h5\")\n",
    "# print(\"Saved model to disk\")\n",
    "\n",
    "# with open('tokenizer.pickle', 'wb') as handle:\n",
    "#     pickle.dump(Tokenizer, handle, protocol=pickle.HIGHEST_PROTOCOL)"
   ]
  },
  {
   "cell_type": "code",
   "execution_count": null,
   "metadata": {},
   "outputs": [],
   "source": []
  }
 ],
 "metadata": {
  "kernelspec": {
   "display_name": "Python 3",
   "language": "python",
   "name": "python3"
  },
  "language_info": {
   "codemirror_mode": {
    "name": "ipython",
    "version": 3
   },
   "file_extension": ".py",
   "mimetype": "text/x-python",
   "name": "python",
   "nbconvert_exporter": "python",
   "pygments_lexer": "ipython3",
   "version": "3.7.1"
  }
 },
 "nbformat": 4,
 "nbformat_minor": 2
}
