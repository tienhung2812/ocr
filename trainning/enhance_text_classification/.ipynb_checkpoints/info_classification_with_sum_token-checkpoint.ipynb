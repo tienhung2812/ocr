{
 "cells": [
  {
   "cell_type": "code",
   "execution_count": 8,
   "metadata": {},
   "outputs": [],
   "source": [
    "import pandas as pd\n",
    "import matplotlib.pyplot as plt\n",
    "import numpy as np\n",
    "df_col = [\"sentence\",\"title\",\"address\",\"phone\",\"datetime\",\"other\"]\n",
    "raw_y_col = [\"title\",\"address\",\"phone\",\"datetime\",\"table\",\"client_no\",\"cashier\"]\n",
    "y_col = [\"title\",\"address\",\"phone\",\"datetime\",\"other\"]\n",
    "merge_col = [\"table\",\"client_no\",\"cashier\"]"
   ]
  },
  {
   "cell_type": "code",
   "execution_count": 3,
   "metadata": {},
   "outputs": [
    {
     "data": {
      "text/html": [
       "<div>\n",
       "<style scoped>\n",
       "    .dataframe tbody tr th:only-of-type {\n",
       "        vertical-align: middle;\n",
       "    }\n",
       "\n",
       "    .dataframe tbody tr th {\n",
       "        vertical-align: top;\n",
       "    }\n",
       "\n",
       "    .dataframe thead th {\n",
       "        text-align: right;\n",
       "    }\n",
       "</style>\n",
       "<table border=\"1\" class=\"dataframe\">\n",
       "  <thead>\n",
       "    <tr style=\"text-align: right;\">\n",
       "      <th></th>\n",
       "      <th>sentence</th>\n",
       "      <th>title</th>\n",
       "      <th>address</th>\n",
       "      <th>phone</th>\n",
       "      <th>datetime</th>\n",
       "      <th>table</th>\n",
       "      <th>client_no</th>\n",
       "      <th>cashier</th>\n",
       "      <th>website</th>\n",
       "    </tr>\n",
       "  </thead>\n",
       "  <tbody>\n",
       "    <tr>\n",
       "      <th>0</th>\n",
       "      <td>DT: 0903915144</td>\n",
       "      <td>0</td>\n",
       "      <td>0</td>\n",
       "      <td>1</td>\n",
       "      <td>0</td>\n",
       "      <td>0</td>\n",
       "      <td>0</td>\n",
       "      <td>0</td>\n",
       "      <td>0</td>\n",
       "    </tr>\n",
       "    <tr>\n",
       "      <th>1</th>\n",
       "      <td>ĐC: 126 Lai Hùng Cường, Vĩnh Lọc B,</td>\n",
       "      <td>0</td>\n",
       "      <td>1</td>\n",
       "      <td>0</td>\n",
       "      <td>0</td>\n",
       "      <td>0</td>\n",
       "      <td>0</td>\n",
       "      <td>0</td>\n",
       "      <td>0</td>\n",
       "    </tr>\n",
       "    <tr>\n",
       "      <th>2</th>\n",
       "      <td>Bình Chánh, TpHCM</td>\n",
       "      <td>0</td>\n",
       "      <td>1</td>\n",
       "      <td>0</td>\n",
       "      <td>0</td>\n",
       "      <td>0</td>\n",
       "      <td>0</td>\n",
       "      <td>0</td>\n",
       "      <td>0</td>\n",
       "    </tr>\n",
       "    <tr>\n",
       "      <th>3</th>\n",
       "      <td>ĐT: 0934145879</td>\n",
       "      <td>0</td>\n",
       "      <td>0</td>\n",
       "      <td>1</td>\n",
       "      <td>0</td>\n",
       "      <td>0</td>\n",
       "      <td>0</td>\n",
       "      <td>0</td>\n",
       "      <td>0</td>\n",
       "    </tr>\n",
       "    <tr>\n",
       "      <th>4</th>\n",
       "      <td>Ngày: 25/03/2019 Số: 031900002</td>\n",
       "      <td>0</td>\n",
       "      <td>0</td>\n",
       "      <td>0</td>\n",
       "      <td>1</td>\n",
       "      <td>0</td>\n",
       "      <td>0</td>\n",
       "      <td>0</td>\n",
       "      <td>0</td>\n",
       "    </tr>\n",
       "  </tbody>\n",
       "</table>\n",
       "</div>"
      ],
      "text/plain": [
       "                              sentence  title  address  phone  datetime  \\\n",
       "0                       DT: 0903915144      0        0      1         0   \n",
       "1  ĐC: 126 Lai Hùng Cường, Vĩnh Lọc B,      0        1      0         0   \n",
       "2                    Bình Chánh, TpHCM      0        1      0         0   \n",
       "3                       ĐT: 0934145879      0        0      1         0   \n",
       "4       Ngày: 25/03/2019 Số: 031900002      0        0      0         1   \n",
       "\n",
       "   table  client_no  cashier  website  \n",
       "0      0          0        0        0  \n",
       "1      0          0        0        0  \n",
       "2      0          0        0        0  \n",
       "3      0          0        0        0  \n",
       "4      0          0        0        0  "
      ]
     },
     "execution_count": 3,
     "metadata": {},
     "output_type": "execute_result"
    }
   ],
   "source": [
    "raw_train_df = pd.read_csv('../text_classification/info_df.csv',   encoding='utf-8')\n",
    "raw_train_df.head()"
   ]
  },
  {
   "cell_type": "code",
   "execution_count": 5,
   "metadata": {},
   "outputs": [],
   "source": [
    "def count_pandas(df,row):\n",
    "    count = 0\n",
    "    for index,data in df.iterrows():\n",
    "        if data[row] > 0:\n",
    "            count+= 1\n",
    "    return count\n",
    "#     new_pandas = df.query(row+\">0\")\n",
    "#     return new_pandas.shape[0]\n",
    "\n",
    "# count_pandas(train_df,\"info\")"
   ]
  },
  {
   "cell_type": "code",
   "execution_count": 13,
   "metadata": {},
   "outputs": [],
   "source": [
    "# Merge data\n",
    "train_df = pd.DataFrame(columns = df_col)\n",
    "for index, row in raw_train_df.iterrows():\n",
    "    for col in df_col:\n",
    "        if col != 'other':\n",
    "            train_df.loc[index,col] = row[col]\n",
    "        else:\n",
    "            other = 0\n",
    "            for mcol in merge_col:\n",
    "                if row[mcol] == 1:\n",
    "                    other = 1\n",
    "\n",
    "            train_df.loc[index,'other'] = other\n",
    "    "
   ]
  },
  {
   "cell_type": "code",
   "execution_count": 14,
   "metadata": {},
   "outputs": [
    {
     "data": {
      "text/html": [
       "<div>\n",
       "<style scoped>\n",
       "    .dataframe tbody tr th:only-of-type {\n",
       "        vertical-align: middle;\n",
       "    }\n",
       "\n",
       "    .dataframe tbody tr th {\n",
       "        vertical-align: top;\n",
       "    }\n",
       "\n",
       "    .dataframe thead th {\n",
       "        text-align: right;\n",
       "    }\n",
       "</style>\n",
       "<table border=\"1\" class=\"dataframe\">\n",
       "  <thead>\n",
       "    <tr style=\"text-align: right;\">\n",
       "      <th></th>\n",
       "      <th>sentence</th>\n",
       "      <th>title</th>\n",
       "      <th>address</th>\n",
       "      <th>phone</th>\n",
       "      <th>datetime</th>\n",
       "      <th>other</th>\n",
       "    </tr>\n",
       "  </thead>\n",
       "  <tbody>\n",
       "    <tr>\n",
       "      <th>0</th>\n",
       "      <td>DT: 0903915144</td>\n",
       "      <td>0</td>\n",
       "      <td>0</td>\n",
       "      <td>1</td>\n",
       "      <td>0</td>\n",
       "      <td>0</td>\n",
       "    </tr>\n",
       "    <tr>\n",
       "      <th>1</th>\n",
       "      <td>ĐC: 126 Lai Hùng Cường, Vĩnh Lọc B,</td>\n",
       "      <td>0</td>\n",
       "      <td>1</td>\n",
       "      <td>0</td>\n",
       "      <td>0</td>\n",
       "      <td>0</td>\n",
       "    </tr>\n",
       "    <tr>\n",
       "      <th>2</th>\n",
       "      <td>Bình Chánh, TpHCM</td>\n",
       "      <td>0</td>\n",
       "      <td>1</td>\n",
       "      <td>0</td>\n",
       "      <td>0</td>\n",
       "      <td>0</td>\n",
       "    </tr>\n",
       "    <tr>\n",
       "      <th>3</th>\n",
       "      <td>ĐT: 0934145879</td>\n",
       "      <td>0</td>\n",
       "      <td>0</td>\n",
       "      <td>1</td>\n",
       "      <td>0</td>\n",
       "      <td>0</td>\n",
       "    </tr>\n",
       "    <tr>\n",
       "      <th>4</th>\n",
       "      <td>Ngày: 25/03/2019 Số: 031900002</td>\n",
       "      <td>0</td>\n",
       "      <td>0</td>\n",
       "      <td>0</td>\n",
       "      <td>1</td>\n",
       "      <td>0</td>\n",
       "    </tr>\n",
       "  </tbody>\n",
       "</table>\n",
       "</div>"
      ],
      "text/plain": [
       "                              sentence title address phone datetime other\n",
       "0                       DT: 0903915144     0       0     1        0     0\n",
       "1  ĐC: 126 Lai Hùng Cường, Vĩnh Lọc B,     0       1     0        0     0\n",
       "2                    Bình Chánh, TpHCM     0       1     0        0     0\n",
       "3                       ĐT: 0934145879     0       0     1        0     0\n",
       "4       Ngày: 25/03/2019 Số: 031900002     0       0     0        1     0"
      ]
     },
     "execution_count": 14,
     "metadata": {},
     "output_type": "execute_result"
    }
   ],
   "source": [
    "train_df.head()"
   ]
  },
  {
   "cell_type": "code",
   "execution_count": 302,
   "metadata": {},
   "outputs": [],
   "source": [
    "# train_df.to_csv(\"31-07-vigroupped.csv\", index = False,  encoding='utf-8')"
   ]
  },
  {
   "cell_type": "code",
   "execution_count": 303,
   "metadata": {},
   "outputs": [],
   "source": [
    "# df.query(\"brand_name>0\")"
   ]
  },
  {
   "cell_type": "code",
   "execution_count": 15,
   "metadata": {},
   "outputs": [
    {
     "name": "stdout",
     "output_type": "stream",
     "text": [
      "[21, 35, 30, 35, 33]\n"
     ]
    },
    {
     "data": {
      "image/png": "[encoded data removed]",
      "text/plain": [
       "<Figure size 640x480 with 1 Axes>"
      ]
     },
     "metadata": {},
     "output_type": "display_data"
    }
   ],
   "source": [
    "# Explore data\n",
    "plt.rcdefaults()\n",
    "fig, ax = plt.subplots()\n",
    "# Example data\n",
    "\n",
    "y_pos = np.arange(len(y_col))\n",
    "performance = []\n",
    "\n",
    "for col in y_col:\n",
    "    performance.append(count_pandas(train_df,col))\n",
    "\n",
    "print(performance)\n",
    "error = np.random.rand(len(y_col))\n",
    "\n",
    "ax.barh(y_col, performance, align='center')\n",
    "ax.set_yticks(y_pos)\n",
    "ax.set_yticklabels(y_col)\n",
    "ax.invert_yaxis()  # labels read top-to-bottom\n",
    "ax.set_xlabel('Number of appear')\n",
    "ax.set_title('Bla bla bla')\n",
    "\n",
    "plt.show()"
   ]
  },
  {
   "cell_type": "code",
   "execution_count": 16,
   "metadata": {},
   "outputs": [
    {
     "name": "stderr",
     "output_type": "stream",
     "text": [
      "Using TensorFlow backend.\n"
     ]
    }
   ],
   "source": [
    "import numpy as np\n",
    "import os\n",
    "import pickle\n",
    "from keras.optimizers import SGD, Adam, Nadam, RMSprop\n",
    "from keras.preprocessing.text import Tokenizer\n",
    "from keras.preprocessing.sequence import pad_sequences\n",
    "from keras.utils.np_utils import to_categorical\n",
    "from keras.preprocessing import sequence\n",
    "from keras.models import Sequential,Model,load_model\n",
    "from keras.layers import Embedding,Conv1D,MaxPooling1D\n",
    "from keras.layers.core import Dense, Activation,Dropout ,Flatten\n",
    "from keras.layers.recurrent import LSTM\n",
    "from keras.utils import np_utils\n",
    "from keras.preprocessing.image import ImageDataGenerator\n",
    "from keras.preprocessing import sequence\n",
    "from keras.preprocessing.text import text_to_word_sequence,one_hot,Tokenizer\n",
    "from keras.constraints import maxnorm\n",
    "from keras.callbacks import ModelCheckpoint,TensorBoard, ReduceLROnPlateau,EarlyStopping\n",
    "from keras.applications import Xception\n",
    "from keras import regularizers\n",
    "from keras import backend as K\n",
    "import keras\n",
    "import numpy as np\n",
    "import pandas as pd\n",
    "import cv2\n",
    "import os\n",
    "import glob\n",
    "import math\n",
    "import matplotlib.pyplot as plt\n",
    "from sklearn.utils import shuffle\n",
    "from sklearn.model_selection import train_test_split"
   ]
  },
  {
   "cell_type": "code",
   "execution_count": 17,
   "metadata": {},
   "outputs": [
    {
     "data": {
      "text/html": [
       "<div>\n",
       "<style scoped>\n",
       "    .dataframe tbody tr th:only-of-type {\n",
       "        vertical-align: middle;\n",
       "    }\n",
       "\n",
       "    .dataframe tbody tr th {\n",
       "        vertical-align: top;\n",
       "    }\n",
       "\n",
       "    .dataframe thead th {\n",
       "        text-align: right;\n",
       "    }\n",
       "</style>\n",
       "<table border=\"1\" class=\"dataframe\">\n",
       "  <thead>\n",
       "    <tr style=\"text-align: right;\">\n",
       "      <th></th>\n",
       "      <th>sentence</th>\n",
       "      <th>title</th>\n",
       "      <th>address</th>\n",
       "      <th>phone</th>\n",
       "      <th>datetime</th>\n",
       "      <th>other</th>\n",
       "    </tr>\n",
       "  </thead>\n",
       "  <tbody>\n",
       "    <tr>\n",
       "      <th>30</th>\n",
       "      <td>DT: 09033d4</td>\n",
       "      <td>0</td>\n",
       "      <td>0</td>\n",
       "      <td>1</td>\n",
       "      <td>0</td>\n",
       "      <td>0</td>\n",
       "    </tr>\n",
       "    <tr>\n",
       "      <th>13</th>\n",
       "      <td>SOH.DON;, 00001-20102014601</td>\n",
       "      <td>0</td>\n",
       "      <td>0</td>\n",
       "      <td>0</td>\n",
       "      <td>0</td>\n",
       "      <td>1</td>\n",
       "    </tr>\n",
       "    <tr>\n",
       "      <th>93</th>\n",
       "      <td>Thái Học - TX.Nghĩa Lộ -</td>\n",
       "      <td>0</td>\n",
       "      <td>1</td>\n",
       "      <td>0</td>\n",
       "      <td>0</td>\n",
       "      <td>0</td>\n",
       "    </tr>\n",
       "    <tr>\n",
       "      <th>154</th>\n",
       "      <td>0994 0s7 2m +</td>\n",
       "      <td>0</td>\n",
       "      <td>0</td>\n",
       "      <td>1</td>\n",
       "      <td>0</td>\n",
       "      <td>0</td>\n",
       "    </tr>\n",
       "    <tr>\n",
       "      <th>92</th>\n",
       "      <td>44 Dao Duy Tu, Hoan Kiem, Ha Noi Viet nam</td>\n",
       "      <td>0</td>\n",
       "      <td>1</td>\n",
       "      <td>0</td>\n",
       "      <td>0</td>\n",
       "      <td>0</td>\n",
       "    </tr>\n",
       "  </tbody>\n",
       "</table>\n",
       "</div>"
      ],
      "text/plain": [
       "                                      sentence title address phone datetime  \\\n",
       "30                                 DT: 09033d4     0       0     1        0   \n",
       "13                 SOH.DON;, 00001-20102014601     0       0     0        0   \n",
       "93                    Thái Học - TX.Nghĩa Lộ -     0       1     0        0   \n",
       "154                              0994 0s7 2m +     0       0     1        0   \n",
       "92   44 Dao Duy Tu, Hoan Kiem, Ha Noi Viet nam     0       1     0        0   \n",
       "\n",
       "    other  \n",
       "30      0  \n",
       "13      1  \n",
       "93      0  \n",
       "154     0  \n",
       "92      0  "
      ]
     },
     "execution_count": 17,
     "metadata": {},
     "output_type": "execute_result"
    }
   ],
   "source": [
    "seed = 120\n",
    "np.random.seed(seed)\n",
    "train_df = shuffle(train_df)\n",
    "train_df.head()"
   ]
  },
  {
   "cell_type": "code",
   "execution_count": 18,
   "metadata": {},
   "outputs": [],
   "source": [
    "X_train = train_df[\"sentence\"].fillna(\"fillna\").values\n",
    "Y_train = train_df[y_col].values"
   ]
  },
  {
   "cell_type": "code",
   "execution_count": 19,
   "metadata": {},
   "outputs": [
    {
     "name": "stdout",
     "output_type": "stream",
     "text": [
      "Shape of X_train: (173,)\n",
      "Shape of Y_train: (173, 5)\n"
     ]
    }
   ],
   "source": [
    "print(\"Shape of X_train:\",X_train.shape)\n",
    "print(\"Shape of Y_train:\",Y_train.shape)"
   ]
  },
  {
   "cell_type": "code",
   "execution_count": 20,
   "metadata": {},
   "outputs": [
    {
     "name": "stdout",
     "output_type": "stream",
     "text": [
      "DT: 09033d4\n",
      "(Input->Sentence) Length of X_train: (173,)\n",
      "(output->Labels) Length of Y_train: (173, 5)\n",
      "SOH.DON;, 00001-20102014601\n"
     ]
    }
   ],
   "source": [
    "Tokenizer = Tokenizer()\n",
    "print(X_train[0])\n",
    "print(\"(Input->Sentence) Length of X_train:\",X_train.shape) # Input -> Input\n",
    "print(\"(output->Labels) Length of Y_train:\",Y_train.shape) # output -> Labels\n",
    "texts = X_train\n",
    "print(texts[1])"
   ]
  },
  {
   "cell_type": "code",
   "execution_count": 21,
   "metadata": {},
   "outputs": [
    {
     "name": "stdout",
     "output_type": "stream",
     "text": [
      "Tokenizer vocabulary size: 503\n"
     ]
    },
    {
     "data": {
      "text/plain": [
       "43"
      ]
     },
     "execution_count": 21,
     "metadata": {},
     "output_type": "execute_result"
    }
   ],
   "source": [
    "Tokenizer.fit_on_texts(texts) \n",
    "Tokenizer_vocab_size = len(Tokenizer.word_index) + 1\n",
    "print(\"Tokenizer vocabulary size:\",Tokenizer_vocab_size)\n",
    "len(max(X_train,key=len))\n"
   ]
  },
  {
   "cell_type": "code",
   "execution_count": 22,
   "metadata": {},
   "outputs": [
    {
     "name": "stdout",
     "output_type": "stream",
     "text": [
      "(Input->Sentence) Length of X_train: (138,)\n",
      "(output->Labels) Length of Y_train: (138, 5)\n"
     ]
    }
   ],
   "source": [
    "X_train, X_val, Y_train, Y_val = train_test_split(X_train, Y_train, test_size=0.2)\n",
    "print(\"(Input->Sentence) Length of X_train:\",X_train.shape) # Input -> Input\n",
    "print(\"(output->Labels) Length of Y_train:\",Y_train.shape) # output -> Labels"
   ]
  },
  {
   "cell_type": "code",
   "execution_count": 23,
   "metadata": {},
   "outputs": [],
   "source": [
    "X_train_encoded_words = Tokenizer.texts_to_sequences(X_train)\n",
    "X_val_encoded_words = Tokenizer.texts_to_sequences(X_val)"
   ]
  },
  {
   "cell_type": "code",
   "execution_count": 24,
   "metadata": {},
   "outputs": [
    {
     "name": "stdout",
     "output_type": "stream",
     "text": [
      "Mocha ‹Jc<Eitnidl TU: eo  23LL5Í\n",
      "[164, 165, 166, 43, 167, 168]\n",
      "{'giờ': 1, 'ngày': 2, '17': 3, '12': 4, 'hoa': 5, '1': 6, 'số': 7, '01': 8, 'hà': 9, 'dt': 10, 'don': 11, '2017': 12, '13': 13, 'ban': 14, 'thu': 15, '19': 16, '05': 17, 'administrator': 18, '36': 19, '2018': 20, 'nam': 21, '10': 22, '15': 23, 'thanh': 24, '25': 25, '11': 26, 'vào': 27, 'khách': 28, '28': 29, 'nguyễn': 30, '23': 31, '04': 32, '24': 33, '2': 34, 'ra': 35, '03': 36, 'cashier': 37, 'tp': 38, '18': 39, 'toán': 40, 'hai': 41, 'a': 42, 'tu': 43, 'ha': 44, '26': 45, 'hàng': 46, 'acc': 47, 'bình': 48, 'tphcm': 49, 'bill': 50, '20': 51, '07': 52, 'lúc': 53, '38': 54, 'ngân': 55, 'dương': 56, 'phiếu': 57, '2014': 58, '8': 59, '49': 60, 'tt': 61, 'hotline': 62, '—': 63, 'hang': 64, '02': 65, 'đt': 66, '0': 67, '5': 68, 'đc': 69, 'b': 70, '66': 71, '44': 72, 'dao': 73, 'duy': 74, 'hoan': 75, 'kiem': 76, 'noi': 77, 'johor': 78, '30': 79, 'admin': 80, '151104': 81, 'pm': 82, 'bàn': 83, 'ngan': 84, 'in': 85, '1n': 86, 'đơn': 87, '2015': 88, '09': 89, 'sá': 90, 'gio': 91, \"do'n\": 92, '14': 93, '0984': 94, '087': 95, 'ca': 96, 'ton': 97, 'dan': 98, 'so': 99, '272': 100, 'huy': 101, 'tập': 102, 'tĩnh': 103, 'quận': 104, 'sao': 105, 'hung': 106, 'bao': 107, 'sách': 108, 't': 109, 'no': 110, '39': 111, 'tao': 112, 'trưng': 113, 'yên': 114, 'ngõ': 115, '3t': 116, 'hd': 117, '0002': 118, '01⁄2018': 119, 'bản': 120, '08': 121, '1111': 122, '886': 123, '1851': 124, '6': 125, 'đại': 126, '0902': 127, '869': 128, '579': 129, 'sơn': 130, '2016': 131, 'bank': 132, 'mbb': 133, 'văn': 134, '2019': 135, '50': 136, '3362': 137, '0903915144': 138, 'hđ': 139, '0001': 140, 'nội': 141, '06': 142, '09033d4': 143, 'soh': 144, '00001': 145, '20102014601': 146, 'thái': 147, 'học': 148, 'tx': 149, 'nghĩa': 150, 'lộ': 151, '0994': 152, '0s7': 153, '2m': 154, 'viet': 155, 'ct': 156, '085639': 157, 'ibank': 158, 'ambank': 159, '888': 160, '100': 161, '123': 162, '3706': 163, 'mocha': 164, '‹jc': 165, 'eitnidl': 166, 'eo': 167, '23ll5í': 168, 'chánh': 169, 'closed': 170, '51': 171, 'a1': 172, '0903144': 173, 'ati': 174, '88': 175, '31': 176, 'naan': 177, '0905': 178, '933': 179, '159': 180, '0976': 181, '941': 182, '404': 183, 'người': 184, 'quản': 185, 'tị': 186, 'hóa': 187, 'phố': 188, 'mới': 189, '112017': 190, '180415': 191, 'sð': 192, 'g2aa': 193, 'khánh': 194, 'toàn': 195, 'câu': 196, 'giây': 197, 'luc': 198, 'bắt': 199, 'đầu': 200, '41': 201, '27': 202, '54': 203, 'bàn01': 204, '59h': 205, 'ˆ': 206, 'đường': 207, 'kdc': 208, '1385': 209, 'bên': 210, 'lư': 211, 'kho': 212, '8cm': 213, 'con': 214, 'vao': 215, '3005': 216, '102613': 217, 'na': 218, 'n': 219, '48': 220, '43pm': 221, '22': 222, 'fay': 223, 'mc': 224, '00098': 225, 'ncổ': 226, 'zzuuu': 227, 'd4': 228, 'address': 229, 'hỗ': 230, 'chfíminh': 231, '12015': 232, '1424727': 233, 'km': 234, '4': 235, 'jin': 236, 'ampang': 237, 'hulu': 238, 'langat': 239, '81100': 240, 'bahru': 241, 'nba': 242, 'mugi': 243, 'po': 244, '0168': 245, '966': 246, '6486': 247, 'ngần': 248, 'f13q4': 249, '4462164665498': 250, 'ran': 251, \"'\": 252, '8b': 253, 'mantis': 254, 'xuân': 255, 'thủy': 256, 'phưởng': 257, 'thảo': 258, 'điển': 259, '0934145879': 260, '0971': 261, '1989': 262, '604': 263, 'tam': 264, 'tinh': 265, '‘tran': 266, 'thời': 267, 'gian': 268, 'phút': 269, '59ch': 270, 'gst': 271, 'reg': 272, '0008': 273, '3385': 274, '3536': 275, '00': 276, 'quần': 277, 'nhậu': 278, 'dẫn': 279, '120': 280, '3': 281, '67': 282, 'nguyễm': 283, '0902018996': 284, '40': 285, 'bon': 286, 'tính': 287, 'tien': 288, 'bidalö': 289, 'phú': 290, '6684': 291, 'vietnam': 292, 'thủ': 293, 'mo': 294, 'nv': 295, '136': 296, '800': 297, 'hé': 298, '4629719': 299, 'tret1': 300, '126': 301, 'lai': 302, 'hùng': 303, 'cường': 304, 'vĩnh': 305, 'lọc': 306, 'lot': 307, 'jalan': 308, 'kpb': 309, '0444654': 310, '601': 311, '2€0': 312, '6493': 313, 'or': 314, '6012': 315, '286': 316, '8193': 317, '36100311': 318, '47': 319, 'f13': 320, 'q4': 321, 'chỉ': 322, 'só': 323, '16': 324, '4103106': 325, 'điên': 326, 'thoai': 327, 'hat': 328, 'close': 329, 'on': 330, 'bụếa': 331, 'náo': 332, 'sz': 333, 'station': 334, 'trần': 335, 'bạch': 336, 'đằng': 337, 'đà': 338, 'nẵng': 339, '925': 340, 'âu': 341, 'cơ': 342, 'p': 343, 'tân': 344, 'nhì': 345, 'q': 346, 'tan': 347, '21': 348, '57': 349, 'am': 350, 'ie': 351, 'hha': 352, 'ch': 353, 'mm': 354, 'it': 355, 'tel': 356, 'd8': 357, '84': 358, '0967041111': 359, '091800001': 360, 'tel’': 361, '269': 362, '3597': 363, '“giờ': 364, 'giờra': 365, 'joint': 366, '2dbtn': 367, '2bðggq': 368, 'sr': 369, '5626': 370, '4732': 371, '1744': 372, 'ma': 373, 'he': 374, '1122271042015': 375, 'ðe': 376, 'nguy': 377, 'nga': 378, 'hanh': 379, '———': 380, 'hb': 381, 'www': 382, 'mtv': 383, 'org': 384, 'vn': 385, '031900002': 386, '5128': 387, '4851': 388, '2118': 389, 'nôi': 390, '56100311': 391, 'veg': 392, 'fish': 393, 'farm': 394, 'thai': 395, 'restaurant': 396, 's': 397, 'tiên': 398, 'niở': 399, '000': 400, 'đ': 401, 'nlờ': 402, '093': 403, 'tran': 404, '7': 405, 'quốc': 406, 'cang': 407, '“tax': 408, 'invoice': 409, 'tol': 410, '4395': 411, 'fax': 412, '4305': 413, '0982': 414, '434': 415, '830': 416, '0163': 417, '897': 418, '2711': 419, '0865': 420, '571': 421, '195': 422, 'mp': 423, 're3': 424, 'ne': 425, '926627': 426, 'v': 427, 'oua': 428, 'g8000': 429, 'amapny': 430, 'selangor': 431, 'ngoài': 432, 'trời': 433, 'mã': 434, 'cua': 435, 'việt': 436, 'bh': 437, '20141017': 438, '006': 439, 'hđb': 440, '20141016': 441, 'nhãn': 442, 'viên': 443, 'giỏ': 444, 'ptt': 445, '00000066': 446, '11720': 447, 'bái': 448, '87': 449, 'trích': 450, 'sài': 451, 'tây': 452, 'hồ': 453, 'hoàn': 454, 'kiếm': 455, 'hn': 456, 'uỳnh': 457, 'tấn': 458, 'phát': 459, 'chấu': 460, 'địi': 461, 'nông': 462, 'kết': 463, 'thúc': 464, '¢': 465, '012018': 466, 'lẻ': 467, 'hòa': 468, '0902096': 469, 'bệnh': 470, 'viện': 471, '108': 472, '1ran': 473, 'hưng': 474, 'matcha': 475, 'ad': 476, 's6ct': 477, '0856393': 478, 'naay': 479, '02020001': 480, '0003': 481, '78': 482, 'lò': 483, 'đúc': 484, 'bà': 485, '114019': 486, '23112015': 487, 'gi': 488, '124727': 489, 'te': 490, 'muỗi': 491, 'bll': 492, 'sso': 493, 'sn': 494, 'duflicated': 495, '51c44458': 496, '091554': 497, 'daie': 498, '32': 499, 'pr': 500, 'start': 501, 'py': 502}\n"
     ]
    }
   ],
   "source": [
    "print(X_train[2])\n",
    "print(X_train_encoded_words[2])\n",
    "print(Tokenizer.word_index)"
   ]
  },
  {
   "cell_type": "code",
   "execution_count": 25,
   "metadata": {},
   "outputs": [
    {
     "name": "stdout",
     "output_type": "stream",
     "text": [
      "(output->Labels) Length of Y_train: (138, 5)\n"
     ]
    }
   ],
   "source": [
    "print(\"(output->Labels) Length of Y_train:\",Y_train.shape) # output -> Labelsprint(\"(Input->Sentence)"
   ]
  },
  {
   "cell_type": "code",
   "execution_count": 26,
   "metadata": {},
   "outputs": [],
   "source": [
    "maxWordCount= 450\n",
    "maxDictionary_size=Tokenizer_vocab_size\n",
    "X_train_encoded_padded_words = sequence.pad_sequences(X_train_encoded_words, maxlen=maxWordCount)\n",
    "X_val_encoded_padded_words = sequence.pad_sequences(X_val_encoded_words, maxlen=maxWordCount)"
   ]
  },
  {
   "cell_type": "code",
   "execution_count": 27,
   "metadata": {},
   "outputs": [
    {
     "name": "stdout",
     "output_type": "stream",
     "text": [
      "(Input->Sentence) Length of X_train: (138, 450)\n",
      "(output->Labels) Length of Y_train: (138, 5)\n"
     ]
    }
   ],
   "source": [
    "print(\"(Input->Sentence) Length of X_train:\",X_train_encoded_padded_words.shape) # Input -> Input\n",
    "print(\"(output->Labels) Length of Y_train:\",Y_train.shape) # output -> Labels"
   ]
  },
  {
   "cell_type": "code",
   "execution_count": 28,
   "metadata": {},
   "outputs": [
    {
     "name": "stdout",
     "output_type": "stream",
     "text": [
      "(138, 5)\n",
      "(35, 5)\n"
     ]
    }
   ],
   "source": [
    "print(Y_train.shape)\n",
    "print(Y_val.shape)"
   ]
  },
  {
   "cell_type": "code",
   "execution_count": 29,
   "metadata": {},
   "outputs": [
    {
     "name": "stdout",
     "output_type": "stream",
     "text": [
      "WARNING:tensorflow:From /home/hung/.local/lib/python3.6/site-packages/tensorflow/python/framework/op_def_library.py:263: colocate_with (from tensorflow.python.framework.ops) is deprecated and will be removed in a future version.\n",
      "Instructions for updating:\n",
      "Colocations handled automatically by placer.\n",
      "WARNING:tensorflow:From /home/hung/.local/lib/python3.6/site-packages/keras/backend/tensorflow_backend.py:3445: calling dropout (from tensorflow.python.ops.nn_ops) with keep_prob is deprecated and will be removed in a future version.\n",
      "Instructions for updating:\n",
      "Please use `rate` instead of `keep_prob`. Rate should be set to `rate = 1 - keep_prob`.\n",
      "_________________________________________________________________\n",
      "Layer (type)                 Output Shape              Param #   \n",
      "=================================================================\n",
      "embedding_1 (Embedding)      (None, 450, 32)           16096     \n",
      "_________________________________________________________________\n",
      "lstm_1 (LSTM)                (None, 10)                1720      \n",
      "_________________________________________________________________\n",
      "dropout_1 (Dropout)          (None, 10)                0         \n",
      "_________________________________________________________________\n",
      "dense_1 (Dense)              (None, 1200)              13200     \n",
      "_________________________________________________________________\n",
      "dense_2 (Dense)              (None, 500)               600500    \n",
      "_________________________________________________________________\n",
      "dense_3 (Dense)              (None, 5)                 2505      \n",
      "=================================================================\n",
      "Total params: 634,021\n",
      "Trainable params: 634,021\n",
      "Non-trainable params: 0\n",
      "_________________________________________________________________\n"
     ]
    },
    {
     "name": "stderr",
     "output_type": "stream",
     "text": [
      "/home/hung/.local/lib/python3.6/site-packages/ipykernel_launcher.py:15: UserWarning: Update your `Dense` call to the Keras 2 API: `Dense(1200, activation=\"relu\", kernel_constraint=<keras.con...)`\n",
      "  from ipykernel import kernelapp as app\n",
      "/home/hung/.local/lib/python3.6/site-packages/ipykernel_launcher.py:17: UserWarning: Update your `Dense` call to the Keras 2 API: `Dense(500, activation=\"relu\", kernel_constraint=<keras.con...)`\n"
     ]
    }
   ],
   "source": [
    "# Model\n",
    "\n",
    "model = Sequential()\n",
    "\n",
    "model.add(Embedding(maxDictionary_size, 32, input_length=maxWordCount)) #to change words to ints\n",
    "# model.add(Conv1D(filters=32, kernel_size=3, padding='same', activation='relu'))\n",
    "# model.add(MaxPooling1D(pool_size=2))\n",
    "# model.add(Dropout(0.5))\n",
    "# model.add(Conv1D(filters=32, kernel_size=2, padding='same', activation='relu'))\n",
    "# model.add(MaxPooling1D(pool_size=2))\n",
    " #hidden layers\n",
    "model.add(LSTM(10))\n",
    "# model.add(Flatten())\n",
    "model.add(Dropout(0.6))\n",
    "model.add(Dense(1200, activation='relu',W_constraint=maxnorm(1)))\n",
    "# model.add(Dropout(0.6))\n",
    "model.add(Dense(500, activation='relu',W_constraint=maxnorm(1)))\n",
    "\n",
    "# model.add(Dropout(0.5))\n",
    " #output layer\n",
    "model.add(Dense(5, activation='softmax'))\n",
    "\n",
    "# Compile model\n",
    "# adam=Adam(lr=learning_rate, beta_1=0.7, beta_2=0.999, epsilon=1e-08, decay=0.0000001)\n",
    "\n",
    "model.summary()"
   ]
  },
  {
   "cell_type": "code",
   "execution_count": 30,
   "metadata": {},
   "outputs": [],
   "source": [
    "learning_rate=0.0001\n",
    "epochs = 25\n",
    "batch_size = 32 #32\n",
    "sgd = SGD(lr=learning_rate, nesterov=True, momentum=0.7, decay=1e-4)\n",
    "Nadam = keras.optimizers.Nadam(lr=0.002, beta_1=0.9, beta_2=0.999, epsilon=1e-08, schedule_decay=0.004)\n",
    "model.compile(loss='categorical_crossentropy', optimizer=Nadam, metrics=['accuracy'])"
   ]
  },
  {
   "cell_type": "code",
   "execution_count": 31,
   "metadata": {},
   "outputs": [
    {
     "name": "stdout",
     "output_type": "stream",
     "text": [
      "(138, 450)\n",
      "(138, 5)\n",
      "(35, 450)\n",
      "(35, 5)\n"
     ]
    }
   ],
   "source": [
    "print(X_train_encoded_padded_words.shape)\n",
    "print(Y_train.shape)\n",
    "\n",
    "print(X_val_encoded_padded_words.shape)\n",
    "print(Y_val.shape)"
   ]
  },
  {
   "cell_type": "code",
   "execution_count": 32,
   "metadata": {},
   "outputs": [
    {
     "name": "stdout",
     "output_type": "stream",
     "text": [
      "WARNING:tensorflow:From /home/hung/.local/lib/python3.6/site-packages/tensorflow/python/ops/math_ops.py:3066: to_int32 (from tensorflow.python.ops.math_ops) is deprecated and will be removed in a future version.\n",
      "Instructions for updating:\n",
      "Use tf.cast instead.\n",
      "Train on 138 samples, validate on 35 samples\n",
      "Epoch 1/25\n",
      "138/138 [==============================] - 3s 25ms/step - loss: 1.4190 - acc: 0.1812 - val_loss: 1.4803 - val_acc: 0.1429\n",
      "Epoch 2/25\n",
      "138/138 [==============================] - 1s 5ms/step - loss: 1.3975 - acc: 0.2464 - val_loss: 1.4614 - val_acc: 0.2571\n",
      "Epoch 3/25\n",
      "138/138 [==============================] - 1s 5ms/step - loss: 1.3406 - acc: 0.2754 - val_loss: 1.4995 - val_acc: 0.2000\n",
      "Epoch 4/25\n",
      "138/138 [==============================] - 1s 5ms/step - loss: 1.1949 - acc: 0.3623 - val_loss: 1.4188 - val_acc: 0.2571\n",
      "Epoch 5/25\n",
      "138/138 [==============================] - 1s 5ms/step - loss: 1.0400 - acc: 0.4203 - val_loss: 1.2588 - val_acc: 0.2286\n",
      "Epoch 6/25\n",
      "138/138 [==============================] - 1s 5ms/step - loss: 0.8983 - acc: 0.5000 - val_loss: 1.3393 - val_acc: 0.2571\n",
      "Epoch 7/25\n",
      "138/138 [==============================] - 1s 5ms/step - loss: 0.8313 - acc: 0.4710 - val_loss: 1.0982 - val_acc: 0.2857\n",
      "Epoch 8/25\n",
      "138/138 [==============================] - 1s 5ms/step - loss: 0.7961 - acc: 0.5217 - val_loss: 0.9883 - val_acc: 0.4857\n",
      "Epoch 9/25\n",
      "138/138 [==============================] - 1s 5ms/step - loss: 0.6026 - acc: 0.6159 - val_loss: 0.9051 - val_acc: 0.5429\n",
      "Epoch 10/25\n",
      "138/138 [==============================] - 1s 5ms/step - loss: 0.5227 - acc: 0.6667 - val_loss: 1.0396 - val_acc: 0.5429\n",
      "Epoch 11/25\n",
      "138/138 [==============================] - 1s 5ms/step - loss: 0.4477 - acc: 0.7319 - val_loss: 1.3797 - val_acc: 0.4857\n",
      "Epoch 12/25\n",
      "138/138 [==============================] - 1s 6ms/step - loss: 0.3899 - acc: 0.7246 - val_loss: 1.0040 - val_acc: 0.5714\n",
      "Epoch 13/25\n",
      "138/138 [==============================] - 1s 6ms/step - loss: 0.4369 - acc: 0.6884 - val_loss: 1.1207 - val_acc: 0.5143\n",
      "Epoch 14/25\n",
      "138/138 [==============================] - 1s 6ms/step - loss: 0.2864 - acc: 0.7681 - val_loss: 0.9267 - val_acc: 0.5714\n",
      "Epoch 15/25\n",
      "138/138 [==============================] - 1s 5ms/step - loss: 0.2739 - acc: 0.7971 - val_loss: 0.9870 - val_acc: 0.6000\n",
      "Epoch 16/25\n",
      "138/138 [==============================] - 1s 6ms/step - loss: 0.3380 - acc: 0.7536 - val_loss: 1.1956 - val_acc: 0.4571\n",
      "Epoch 17/25\n",
      "138/138 [==============================] - 1s 6ms/step - loss: 0.2365 - acc: 0.8116 - val_loss: 1.6446 - val_acc: 0.5143\n",
      "Epoch 18/25\n",
      "138/138 [==============================] - 1s 6ms/step - loss: 0.2260 - acc: 0.8043 - val_loss: 1.2465 - val_acc: 0.5143\n",
      "Epoch 19/25\n",
      "138/138 [==============================] - 1s 5ms/step - loss: 0.2497 - acc: 0.7826 - val_loss: 0.9776 - val_acc: 0.5143\n",
      "Epoch 20/25\n",
      "138/138 [==============================] - 1s 6ms/step - loss: 0.2301 - acc: 0.7826 - val_loss: 1.4068 - val_acc: 0.4857\n",
      "Epoch 21/25\n",
      "138/138 [==============================] - 1s 5ms/step - loss: 0.1766 - acc: 0.8188 - val_loss: 1.1601 - val_acc: 0.5429\n",
      "Epoch 22/25\n",
      "138/138 [==============================] - 1s 6ms/step - loss: 0.2659 - acc: 0.7971 - val_loss: 1.5932 - val_acc: 0.4857\n",
      "Epoch 23/25\n",
      "138/138 [==============================] - 1s 5ms/step - loss: 0.2032 - acc: 0.8116 - val_loss: 2.0113 - val_acc: 0.5429\n",
      "Epoch 24/25\n",
      "138/138 [==============================] - 1s 6ms/step - loss: 0.3085 - acc: 0.7536 - val_loss: 1.4475 - val_acc: 0.4857\n",
      "Epoch 25/25\n",
      "138/138 [==============================] - 1s 6ms/step - loss: 0.2861 - acc: 0.7899 - val_loss: 1.1175 - val_acc: 0.5714\n"
     ]
    }
   ],
   "source": [
    "history  = model.fit(X_train_encoded_padded_words,Y_train, epochs = epochs, batch_size=batch_size, verbose=1,\n",
    "validation_data=(X_val_encoded_padded_words, Y_val))"
   ]
  },
  {
   "cell_type": "code",
   "execution_count": 33,
   "metadata": {},
   "outputs": [
    {
     "name": "stdout",
     "output_type": "stream",
     "text": [
      "35/35 [==============================] - 0s 2ms/step\n",
      "Test accuracy: 0.5714285731315613 %\n"
     ]
    }
   ],
   "source": [
    "score = model.evaluate(X_val_encoded_padded_words, Y_val, verbose=1)\n",
    "print('Test accuracy:', score[1],'%')"
   ]
  },
  {
   "cell_type": "code",
   "execution_count": 34,
   "metadata": {},
   "outputs": [
    {
     "data": {
      "image/png": "[encoded data removed]",
      "text/plain": [
       "<Figure size 640x480 with 1 Axes>"
      ]
     },
     "metadata": {},
     "output_type": "display_data"
    },
    {
     "data": {
      "image/png": "[encoded data removed]",
      "text/plain": [
       "<Figure size 640x480 with 1 Axes>"
      ]
     },
     "metadata": {},
     "output_type": "display_data"
    }
   ],
   "source": [
    "accuracy = history.history['acc']\n",
    "val_accuracy = history.history['val_acc']\n",
    "loss = history.history['loss']\n",
    "val_loss = history.history['val_loss']\n",
    "epochs = range(len(accuracy))\n",
    "plt.plot(epochs, accuracy, 'bo', label='Training accuracy')\n",
    "plt.plot(epochs, val_accuracy, 'b', label='Validation accuracy')\n",
    "plt.title('Training and validation accuracy')\n",
    "plt.legend()\n",
    "plt.figure()\n",
    "plt.plot(epochs, loss, 'bo', label='Training loss')\n",
    "plt.plot(epochs, val_loss, 'b', label='Validation loss')\n",
    "plt.title('Training and validation loss')\n",
    "plt.legend()\n",
    "plt.show()"
   ]
  },
  {
   "cell_type": "code",
   "execution_count": 39,
   "metadata": {},
   "outputs": [
    {
     "name": "stdout",
     "output_type": "stream",
     "text": [
      "[[]]\n",
      "0.8166434\n",
      "[2]\n",
      "Result: phone\n"
     ]
    }
   ],
   "source": [
    "phrase = \"Thank you\"\n",
    "tokens = Tokenizer.texts_to_sequences([phrase])\n",
    "print(tokens)\n",
    "tokens = pad_sequences(tokens, maxlen=450)\n",
    "prediction = model.predict(np.array(tokens))\n",
    "i_raw,j_raw = np.where(prediction == prediction.max()) #calculates the index of the maximum element of the array across all axis\n",
    "# i->rows, j->columns\n",
    "i = int(i_raw)\n",
    "j = int(j_raw)\n",
    "print(prediction[0][j])\n",
    "print(j_raw)\n",
    "total_possible_outcomes = y_col\n",
    "print(\"Result:\",total_possible_outcomes[j])"
   ]
  },
  {
   "cell_type": "code",
   "execution_count": 40,
   "metadata": {},
   "outputs": [
    {
     "name": "stdout",
     "output_type": "stream",
     "text": [
      "Saved model to disk\n"
     ]
    }
   ],
   "source": [
    "# serialize model to JSON\n",
    "# model_json = model.to_json()\n",
    "# with open(\"info_model.json\", \"w\") as json_file:\n",
    "#     json_file.write(model_json)\n",
    "\n",
    "# # serialize weights to HDF5\n",
    "# model.save_weights(\"info_model.h5\")\n",
    "# print(\"Saved model to disk\")\n",
    "\n",
    "# with open('info_tokenizer.pickle', 'wb') as handle:\n",
    "#     pickle.dump(Tokenizer, handle, protocol=pickle.HIGHEST_PROTOCOL)"
   ]
  },
  {
   "cell_type": "code",
   "execution_count": null,
   "metadata": {},
   "outputs": [],
   "source": []
  }
 ],
 "metadata": {
  "kernelspec": {
   "display_name": "Python 3",
   "language": "python",
   "name": "python3"
  },
  "language_info": {
   "codemirror_mode": {
    "name": "ipython",
    "version": 3
   },
   "file_extension": ".py",
   "mimetype": "text/x-python",
   "name": "python",
   "nbconvert_exporter": "python",
   "pygments_lexer": "ipython3",
   "version": "3.6.8"
  }
 },
 "nbformat": 4,
 "nbformat_minor": 2
}
