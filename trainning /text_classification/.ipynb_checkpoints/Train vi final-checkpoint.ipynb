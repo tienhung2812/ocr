{
 "cells": [
  {
   "cell_type": "code",
   "execution_count": 297,
   "metadata": {},
   "outputs": [],
   "source": [
    "import pandas as pd\n",
    "import matplotlib.pyplot as plt\n",
    "import numpy as np\n",
    "df_col = [\"sentence\",\"brand_name\",\"info\",\"index\",\"content\",\"total\",\"thank_you\"]\n",
    "y_col = [\"brand_name\",\"info\",\"index\",\"content\",\"total\",\"thank_you\"]\n"
   ]
  },
  {
   "cell_type": "code",
   "execution_count": 298,
   "metadata": {},
   "outputs": [
    {
     "data": {
      "text/html": [
       "<div>\n",
       "<style scoped>\n",
       "    .dataframe tbody tr th:only-of-type {\n",
       "        vertical-align: middle;\n",
       "    }\n",
       "\n",
       "    .dataframe tbody tr th {\n",
       "        vertical-align: top;\n",
       "    }\n",
       "\n",
       "    .dataframe thead th {\n",
       "        text-align: right;\n",
       "    }\n",
       "</style>\n",
       "<table border=\"1\" class=\"dataframe\">\n",
       "  <thead>\n",
       "    <tr style=\"text-align: right;\">\n",
       "      <th></th>\n",
       "      <th>sentence</th>\n",
       "      <th>brand_name</th>\n",
       "      <th>info</th>\n",
       "      <th>index</th>\n",
       "      <th>content</th>\n",
       "      <th>total</th>\n",
       "      <th>thank_you</th>\n",
       "    </tr>\n",
       "  </thead>\n",
       "  <tbody>\n",
       "    <tr>\n",
       "      <th>0</th>\n",
       "      <td>DT: 0903915144</td>\n",
       "      <td>0</td>\n",
       "      <td>1</td>\n",
       "      <td>0</td>\n",
       "      <td>0</td>\n",
       "      <td>0</td>\n",
       "      <td>0</td>\n",
       "    </tr>\n",
       "    <tr>\n",
       "      <th>1</th>\n",
       "      <td>FC GOOD COFEE</td>\n",
       "      <td>1</td>\n",
       "      <td>0</td>\n",
       "      <td>0</td>\n",
       "      <td>0</td>\n",
       "      <td>0</td>\n",
       "      <td>0</td>\n",
       "    </tr>\n",
       "    <tr>\n",
       "      <th>2</th>\n",
       "      <td>ĐC: 126 Lai Hùng Cường, Vĩnh Lọc B,</td>\n",
       "      <td>0</td>\n",
       "      <td>1</td>\n",
       "      <td>0</td>\n",
       "      <td>0</td>\n",
       "      <td>0</td>\n",
       "      <td>0</td>\n",
       "    </tr>\n",
       "    <tr>\n",
       "      <th>3</th>\n",
       "      <td>Bình Chánh, TpHCM</td>\n",
       "      <td>0</td>\n",
       "      <td>1</td>\n",
       "      <td>0</td>\n",
       "      <td>0</td>\n",
       "      <td>0</td>\n",
       "      <td>0</td>\n",
       "    </tr>\n",
       "    <tr>\n",
       "      <th>4</th>\n",
       "      <td>ĐT: 0934145879</td>\n",
       "      <td>0</td>\n",
       "      <td>1</td>\n",
       "      <td>0</td>\n",
       "      <td>0</td>\n",
       "      <td>0</td>\n",
       "      <td>0</td>\n",
       "    </tr>\n",
       "  </tbody>\n",
       "</table>\n",
       "</div>"
      ],
      "text/plain": [
       "                              sentence  brand_name  info  index  content  \\\n",
       "0                       DT: 0903915144           0     1      0        0   \n",
       "1                        FC GOOD COFEE           1     0      0        0   \n",
       "2  ĐC: 126 Lai Hùng Cường, Vĩnh Lọc B,           0     1      0        0   \n",
       "3                    Bình Chánh, TpHCM           0     1      0        0   \n",
       "4                       ĐT: 0934145879           0     1      0        0   \n",
       "\n",
       "   total  thank_you  \n",
       "0      0          0  \n",
       "1      0          0  \n",
       "2      0          0  \n",
       "3      0          0  \n",
       "4      0          0  "
      ]
     },
     "execution_count": 298,
     "metadata": {},
     "output_type": "execute_result"
    }
   ],
   "source": [
    "train_df = pd.read_csv('31-07-vigroupped.csv',   encoding='utf-8')\n",
    "train_df.head()"
   ]
  },
  {
   "cell_type": "code",
   "execution_count": 299,
   "metadata": {},
   "outputs": [],
   "source": [
    "def count_pandas(df,row):\n",
    "    new_pandas = df.query(row+\">0\")\n",
    "    return new_pandas.shape[0]\n",
    "\n",
    "# count_pandas(train_df,\"info\")"
   ]
  },
  {
   "cell_type": "code",
   "execution_count": 300,
   "metadata": {},
   "outputs": [],
   "source": [
    "# Delete same data\n",
    "# delete_data = []\n",
    "# for index, row in train_df.iterrows():\n",
    "#     sentence = row['sentence']\n",
    "#     for i,r in train_df.iterrows():\n",
    "#         if i!= index:\n",
    "#             if r['sentence'] == sentence:\n",
    "#                 delete_data.append(i)\n",
    "#                 print(\"=====\")\n",
    "#                 print(row['sentence'])\n",
    "#                 print(r['sentence'])"
   ]
  },
  {
   "cell_type": "code",
   "execution_count": 301,
   "metadata": {},
   "outputs": [],
   "source": [
    "# # delete data\n",
    "# delete_data = list(set(delete_data))\n",
    "\n",
    "# org_train_df = train_df\n",
    "# org_delete_data = delete_data\n",
    "# delete_data = []\n",
    "# for i in org_delete_data:\n",
    "#     delete_data.append(int(i))\n",
    "# # for index in delete_data:\n",
    "# #     train_df.drop[train_df.loc(int(index))]\n",
    "# # print(len(delete_data))\n",
    "# # print(delete_data)\n",
    "# train_df = train_df.drop(delete_data)"
   ]
  },
  {
   "cell_type": "code",
   "execution_count": 302,
   "metadata": {},
   "outputs": [],
   "source": [
    "# train_df.to_csv(\"31-07-vigroupped.csv\", index = False,  encoding='utf-8')"
   ]
  },
  {
   "cell_type": "code",
   "execution_count": 303,
   "metadata": {},
   "outputs": [],
   "source": [
    "# df.query(\"brand_name>0\")"
   ]
  },
  {
   "cell_type": "code",
   "execution_count": 304,
   "metadata": {},
   "outputs": [
    {
     "name": "stdout",
     "output_type": "stream",
     "text": [
      "[31, 172, 59, 214, 129, 39]\n"
     ]
    },
    {
     "data": {
      "image/png": "[encoded data removed]",
      "text/plain": [
       "<Figure size 640x480 with 1 Axes>"
      ]
     },
     "metadata": {},
     "output_type": "display_data"
    }
   ],
   "source": [
    "# Explore data\n",
    "plt.rcdefaults()\n",
    "fig, ax = plt.subplots()\n",
    "# Example data\n",
    "\n",
    "y_pos = np.arange(len(y_col))\n",
    "performance = []\n",
    "\n",
    "for col in y_col:\n",
    "    performance.append(count_pandas(train_df,col))\n",
    "\n",
    "print(performance)\n",
    "error = np.random.rand(len(y_col))\n",
    "\n",
    "ax.barh(y_col, performance, align='center')\n",
    "ax.set_yticks(y_pos)\n",
    "ax.set_yticklabels(y_col)\n",
    "ax.invert_yaxis()  # labels read top-to-bottom\n",
    "ax.set_xlabel('Number of appear')\n",
    "ax.set_title('Bla bla bla')\n",
    "\n",
    "plt.show()"
   ]
  },
  {
   "cell_type": "code",
   "execution_count": 305,
   "metadata": {},
   "outputs": [],
   "source": [
    "import numpy as np\n",
    "import os\n",
    "import pickle\n",
    "from keras.optimizers import SGD, Adam, Nadam, RMSprop\n",
    "from keras.preprocessing.text import Tokenizer\n",
    "from keras.preprocessing.sequence import pad_sequences\n",
    "from keras.utils.np_utils import to_categorical\n",
    "from keras.preprocessing import sequence\n",
    "from keras.models import Sequential,Model,load_model\n",
    "from keras.layers import Embedding,Conv1D,MaxPooling1D\n",
    "from keras.layers.core import Dense, Activation,Dropout ,Flatten\n",
    "from keras.layers.recurrent import LSTM\n",
    "from keras.utils import np_utils\n",
    "from keras.preprocessing.image import ImageDataGenerator\n",
    "from keras.preprocessing import sequence\n",
    "from keras.preprocessing.text import text_to_word_sequence,one_hot,Tokenizer\n",
    "from keras.constraints import maxnorm\n",
    "from keras.callbacks import ModelCheckpoint,TensorBoard, ReduceLROnPlateau,EarlyStopping\n",
    "from keras.applications import Xception\n",
    "from keras import regularizers\n",
    "from keras import backend as K\n",
    "import keras\n",
    "import numpy as np\n",
    "import pandas as pd\n",
    "import cv2\n",
    "import os\n",
    "import glob\n",
    "import math\n",
    "import matplotlib.pyplot as plt\n",
    "from sklearn.utils import shuffle\n",
    "from sklearn.model_selection import train_test_split"
   ]
  },
  {
   "cell_type": "code",
   "execution_count": 306,
   "metadata": {},
   "outputs": [
    {
     "data": {
      "text/html": [
       "<div>\n",
       "<style scoped>\n",
       "    .dataframe tbody tr th:only-of-type {\n",
       "        vertical-align: middle;\n",
       "    }\n",
       "\n",
       "    .dataframe tbody tr th {\n",
       "        vertical-align: top;\n",
       "    }\n",
       "\n",
       "    .dataframe thead th {\n",
       "        text-align: right;\n",
       "    }\n",
       "</style>\n",
       "<table border=\"1\" class=\"dataframe\">\n",
       "  <thead>\n",
       "    <tr style=\"text-align: right;\">\n",
       "      <th></th>\n",
       "      <th>sentence</th>\n",
       "      <th>brand_name</th>\n",
       "      <th>info</th>\n",
       "      <th>index</th>\n",
       "      <th>content</th>\n",
       "      <th>total</th>\n",
       "      <th>thank_you</th>\n",
       "    </tr>\n",
       "  </thead>\n",
       "  <tbody>\n",
       "    <tr>\n",
       "      <th>71</th>\n",
       "      <td>T.CỘNG 5 58,000</td>\n",
       "      <td>0</td>\n",
       "      <td>0</td>\n",
       "      <td>0</td>\n",
       "      <td>0</td>\n",
       "      <td>1</td>\n",
       "      <td>0</td>\n",
       "    </tr>\n",
       "    <tr>\n",
       "      <th>477</th>\n",
       "      <td>|Sitring cake</td>\n",
       "      <td>0</td>\n",
       "      <td>0</td>\n",
       "      <td>0</td>\n",
       "      <td>1</td>\n",
       "      <td>0</td>\n",
       "      <td>0</td>\n",
       "    </tr>\n",
       "    <tr>\n",
       "      <th>187</th>\n",
       "      <td>0982 434 830</td>\n",
       "      <td>0</td>\n",
       "      <td>1</td>\n",
       "      <td>0</td>\n",
       "      <td>0</td>\n",
       "      <td>0</td>\n",
       "      <td>0</td>\n",
       "    </tr>\n",
       "    <tr>\n",
       "      <th>381</th>\n",
       "      <td>Tiên hàng: 95.000</td>\n",
       "      <td>0</td>\n",
       "      <td>0</td>\n",
       "      <td>0</td>\n",
       "      <td>1</td>\n",
       "      <td>0</td>\n",
       "      <td>0</td>\n",
       "    </tr>\n",
       "    <tr>\n",
       "      <th>39</th>\n",
       "      <td>3x 2,000,000 6,000,000</td>\n",
       "      <td>0</td>\n",
       "      <td>0</td>\n",
       "      <td>0</td>\n",
       "      <td>1</td>\n",
       "      <td>0</td>\n",
       "      <td>0</td>\n",
       "    </tr>\n",
       "  </tbody>\n",
       "</table>\n",
       "</div>"
      ],
      "text/plain": [
       "                   sentence  brand_name  info  index  content  total  \\\n",
       "71          T.CỘNG 5 58,000           0     0      0        0      1   \n",
       "477           |Sitring cake           0     0      0        1      0   \n",
       "187            0982 434 830           0     1      0        0      0   \n",
       "381       Tiên hàng: 95.000           0     0      0        1      0   \n",
       "39   3x 2,000,000 6,000,000           0     0      0        1      0   \n",
       "\n",
       "     thank_you  \n",
       "71           0  \n",
       "477          0  \n",
       "187          0  \n",
       "381          0  \n",
       "39           0  "
      ]
     },
     "execution_count": 306,
     "metadata": {},
     "output_type": "execute_result"
    }
   ],
   "source": [
    "seed = 120\n",
    "np.random.seed(seed)\n",
    "train_df = shuffle(train_df)\n",
    "train_df.head()"
   ]
  },
  {
   "cell_type": "code",
   "execution_count": 307,
   "metadata": {},
   "outputs": [],
   "source": [
    "X_train = train_df[\"sentence\"].fillna(\"fillna\").values\n",
    "Y_train = train_df[['brand_name', 'info', 'index', 'content', 'total', 'thank_you']].values"
   ]
  },
  {
   "cell_type": "code",
   "execution_count": 308,
   "metadata": {},
   "outputs": [
    {
     "name": "stdout",
     "output_type": "stream",
     "text": [
      "Shape of X_train: (644,)\n",
      "Shape of Y_train: (644, 6)\n"
     ]
    }
   ],
   "source": [
    "print(\"Shape of X_train:\",X_train.shape)\n",
    "print(\"Shape of Y_train:\",Y_train.shape)"
   ]
  },
  {
   "cell_type": "code",
   "execution_count": 309,
   "metadata": {},
   "outputs": [
    {
     "name": "stdout",
     "output_type": "stream",
     "text": [
      "T.CỘNG 5 58,000\n",
      "(Input->Sentence) Length of X_train: (644,)\n",
      "(output->Labels) Length of Y_train: (644, 6)\n",
      "|Sitring cake\n"
     ]
    }
   ],
   "source": [
    "Tokenizer = Tokenizer()\n",
    "print(X_train[0])\n",
    "print(\"(Input->Sentence) Length of X_train:\",X_train.shape) # Input -> Input\n",
    "print(\"(output->Labels) Length of Y_train:\",Y_train.shape) # output -> Labels\n",
    "texts = X_train\n",
    "print(texts[1])"
   ]
  },
  {
   "cell_type": "code",
   "execution_count": 310,
   "metadata": {},
   "outputs": [
    {
     "name": "stdout",
     "output_type": "stream",
     "text": [
      "Tokenizer vocabulary size: 1196\n"
     ]
    },
    {
     "data": {
      "text/plain": [
       "45"
      ]
     },
     "execution_count": 310,
     "metadata": {},
     "output_type": "execute_result"
    }
   ],
   "source": [
    "Tokenizer.fit_on_texts(texts) \n",
    "Tokenizer_vocab_size = len(Tokenizer.word_index) + 1\n",
    "print(\"Tokenizer vocabulary size:\",Tokenizer_vocab_size)\n",
    "len(max(X_train,key=len))"
   ]
  },
  {
   "cell_type": "code",
   "execution_count": 311,
   "metadata": {},
   "outputs": [
    {
     "name": "stdout",
     "output_type": "stream",
     "text": [
      "(Input->Sentence) Length of X_train: (515,)\n",
      "(output->Labels) Length of Y_train: (515, 6)\n"
     ]
    }
   ],
   "source": [
    "X_train, X_val, Y_train, Y_val = train_test_split(X_train, Y_train, test_size=0.2)\n",
    "print(\"(Input->Sentence) Length of X_train:\",X_train.shape) # Input -> Input\n",
    "print(\"(output->Labels) Length of Y_train:\",Y_train.shape) # output -> Labels"
   ]
  },
  {
   "cell_type": "code",
   "execution_count": 312,
   "metadata": {},
   "outputs": [],
   "source": [
    "X_train_encoded_words = Tokenizer.texts_to_sequences(X_train)\n",
    "X_val_encoded_words = Tokenizer.texts_to_sequences(X_val)"
   ]
  },
  {
   "cell_type": "code",
   "execution_count": 313,
   "metadata": {},
   "outputs": [
    {
     "name": "stdout",
     "output_type": "stream",
     "text": [
      "(output->Labels) Length of Y_train: (515, 6)\n"
     ]
    }
   ],
   "source": [
    "print(\"(output->Labels) Length of Y_train:\",Y_train.shape) # output -> Labelsprint(\"(Input->Sentence)"
   ]
  },
  {
   "cell_type": "code",
   "execution_count": 314,
   "metadata": {},
   "outputs": [],
   "source": [
    "maxWordCount= 450\n",
    "maxDictionary_size=Tokenizer_vocab_size\n",
    "X_train_encoded_padded_words = sequence.pad_sequences(X_train_encoded_words, maxlen=maxWordCount)\n",
    "X_val_encoded_padded_words = sequence.pad_sequences(X_val_encoded_words, maxlen=maxWordCount)"
   ]
  },
  {
   "cell_type": "code",
   "execution_count": 315,
   "metadata": {},
   "outputs": [
    {
     "name": "stdout",
     "output_type": "stream",
     "text": [
      "(Input->Sentence) Length of X_train: (515, 450)\n",
      "(output->Labels) Length of Y_train: (515, 6)\n"
     ]
    }
   ],
   "source": [
    "print(\"(Input->Sentence) Length of X_train:\",X_train_encoded_padded_words.shape) # Input -> Input\n",
    "print(\"(output->Labels) Length of Y_train:\",Y_train.shape) # output -> Labels"
   ]
  },
  {
   "cell_type": "code",
   "execution_count": 316,
   "metadata": {},
   "outputs": [
    {
     "name": "stdout",
     "output_type": "stream",
     "text": [
      "(515, 6)\n",
      "(129, 6)\n"
     ]
    }
   ],
   "source": [
    "print(Y_train.shape)\n",
    "print(Y_val.shape)"
   ]
  },
  {
   "cell_type": "code",
   "execution_count": 317,
   "metadata": {},
   "outputs": [
    {
     "name": "stdout",
     "output_type": "stream",
     "text": [
      "_________________________________________________________________\n",
      "Layer (type)                 Output Shape              Param #   \n",
      "=================================================================\n",
      "embedding_12 (Embedding)     (None, 450, 32)           38272     \n",
      "_________________________________________________________________\n",
      "lstm_12 (LSTM)               (None, 10)                1720      \n",
      "_________________________________________________________________\n",
      "dropout_12 (Dropout)         (None, 10)                0         \n",
      "_________________________________________________________________\n",
      "dense_34 (Dense)             (None, 1200)              13200     \n",
      "_________________________________________________________________\n",
      "dense_35 (Dense)             (None, 500)               600500    \n",
      "_________________________________________________________________\n",
      "dense_36 (Dense)             (None, 6)                 3006      \n",
      "=================================================================\n",
      "Total params: 656,698\n",
      "Trainable params: 656,698\n",
      "Non-trainable params: 0\n",
      "_________________________________________________________________\n"
     ]
    },
    {
     "name": "stderr",
     "output_type": "stream",
     "text": [
      "/home/hung/.local/lib/python3.6/site-packages/ipykernel_launcher.py:15: UserWarning: Update your `Dense` call to the Keras 2 API: `Dense(1200, activation=\"relu\", kernel_constraint=<keras.con...)`\n",
      "  from ipykernel import kernelapp as app\n",
      "/home/hung/.local/lib/python3.6/site-packages/ipykernel_launcher.py:17: UserWarning: Update your `Dense` call to the Keras 2 API: `Dense(500, activation=\"relu\", kernel_constraint=<keras.con...)`\n"
     ]
    }
   ],
   "source": [
    "# Model\n",
    "\n",
    "model = Sequential()\n",
    "\n",
    "model.add(Embedding(maxDictionary_size, 32, input_length=maxWordCount)) #to change words to ints\n",
    "# model.add(Conv1D(filters=32, kernel_size=3, padding='same', activation='relu'))\n",
    "# model.add(MaxPooling1D(pool_size=2))\n",
    "# model.add(Dropout(0.5))\n",
    "# model.add(Conv1D(filters=32, kernel_size=2, padding='same', activation='relu'))\n",
    "# model.add(MaxPooling1D(pool_size=2))\n",
    " #hidden layers\n",
    "model.add(LSTM(10))\n",
    "# model.add(Flatten())\n",
    "model.add(Dropout(0.6))\n",
    "model.add(Dense(1200, activation='relu',W_constraint=maxnorm(1)))\n",
    "# model.add(Dropout(0.6))\n",
    "model.add(Dense(500, activation='relu',W_constraint=maxnorm(1)))\n",
    "\n",
    "# model.add(Dropout(0.5))\n",
    " #output layer\n",
    "model.add(Dense(6, activation='softmax'))\n",
    "\n",
    "# Compile model\n",
    "# adam=Adam(lr=learning_rate, beta_1=0.7, beta_2=0.999, epsilon=1e-08, decay=0.0000001)\n",
    "\n",
    "model.summary()"
   ]
  },
  {
   "cell_type": "code",
   "execution_count": 318,
   "metadata": {},
   "outputs": [],
   "source": [
    "learning_rate=0.0001\n",
    "epochs = 25\n",
    "batch_size = 32 #32\n",
    "sgd = SGD(lr=learning_rate, nesterov=True, momentum=0.7, decay=1e-4)\n",
    "Nadam = keras.optimizers.Nadam(lr=0.002, beta_1=0.9, beta_2=0.999, epsilon=1e-08, schedule_decay=0.004)\n",
    "model.compile(loss='categorical_crossentropy', optimizer=Nadam, metrics=['accuracy'])"
   ]
  },
  {
   "cell_type": "code",
   "execution_count": 319,
   "metadata": {},
   "outputs": [
    {
     "name": "stdout",
     "output_type": "stream",
     "text": [
      "(515, 450)\n",
      "(515, 6)\n",
      "(129, 450)\n",
      "(129, 6)\n"
     ]
    }
   ],
   "source": [
    "print(X_train_encoded_padded_words.shape)\n",
    "print(Y_train.shape)\n",
    "\n",
    "print(X_val_encoded_padded_words.shape)\n",
    "print(Y_val.shape)"
   ]
  },
  {
   "cell_type": "code",
   "execution_count": 320,
   "metadata": {},
   "outputs": [
    {
     "name": "stdout",
     "output_type": "stream",
     "text": [
      "Train on 515 samples, validate on 129 samples\n",
      "Epoch 1/25\n",
      "515/515 [==============================] - 4s 8ms/step - loss: 1.6113 - acc: 0.3126 - val_loss: 1.4142 - val_acc: 0.3101\n",
      "Epoch 2/25\n",
      "515/515 [==============================] - 2s 4ms/step - loss: 1.2613 - acc: 0.4757 - val_loss: 1.3037 - val_acc: 0.3876\n",
      "Epoch 3/25\n",
      "515/515 [==============================] - 2s 4ms/step - loss: 1.0015 - acc: 0.5922 - val_loss: 0.9457 - val_acc: 0.5891\n",
      "Epoch 4/25\n",
      "515/515 [==============================] - 2s 4ms/step - loss: 0.7679 - acc: 0.6718 - val_loss: 1.1866 - val_acc: 0.5969\n",
      "Epoch 5/25\n",
      "515/515 [==============================] - 2s 4ms/step - loss: 0.5934 - acc: 0.7845 - val_loss: 0.8185 - val_acc: 0.7132\n",
      "Epoch 6/25\n",
      "515/515 [==============================] - 2s 4ms/step - loss: 0.4918 - acc: 0.7942 - val_loss: 0.6997 - val_acc: 0.7519\n",
      "Epoch 7/25\n",
      "515/515 [==============================] - 2s 4ms/step - loss: 0.4054 - acc: 0.8388 - val_loss: 0.7382 - val_acc: 0.7132\n",
      "Epoch 8/25\n",
      "515/515 [==============================] - 2s 4ms/step - loss: 0.3867 - acc: 0.8602 - val_loss: 1.0445 - val_acc: 0.6822\n",
      "Epoch 9/25\n",
      "515/515 [==============================] - 2s 4ms/step - loss: 0.3988 - acc: 0.8680 - val_loss: 0.9258 - val_acc: 0.7442\n",
      "Epoch 10/25\n",
      "515/515 [==============================] - 2s 4ms/step - loss: 0.3317 - acc: 0.8641 - val_loss: 0.8699 - val_acc: 0.7054\n",
      "Epoch 11/25\n",
      "515/515 [==============================] - 2s 4ms/step - loss: 0.3808 - acc: 0.8660 - val_loss: 0.7320 - val_acc: 0.7442\n",
      "Epoch 12/25\n",
      "515/515 [==============================] - 2s 4ms/step - loss: 0.3534 - acc: 0.8621 - val_loss: 1.8406 - val_acc: 0.6047\n",
      "Epoch 13/25\n",
      "515/515 [==============================] - 2s 4ms/step - loss: 0.3269 - acc: 0.8757 - val_loss: 0.8258 - val_acc: 0.7597\n",
      "Epoch 14/25\n",
      "515/515 [==============================] - 2s 4ms/step - loss: 0.2688 - acc: 0.8874 - val_loss: 0.8836 - val_acc: 0.7364\n",
      "Epoch 15/25\n",
      "515/515 [==============================] - 2s 4ms/step - loss: 0.2587 - acc: 0.9087 - val_loss: 0.9427 - val_acc: 0.7287\n",
      "Epoch 16/25\n",
      "515/515 [==============================] - 2s 4ms/step - loss: 0.2107 - acc: 0.9146 - val_loss: 1.0968 - val_acc: 0.7054\n",
      "Epoch 17/25\n",
      "515/515 [==============================] - 2s 4ms/step - loss: 0.2797 - acc: 0.9087 - val_loss: 1.1702 - val_acc: 0.7054\n",
      "Epoch 18/25\n",
      "515/515 [==============================] - 2s 4ms/step - loss: 0.2547 - acc: 0.8990 - val_loss: 1.9740 - val_acc: 0.6279\n",
      "Epoch 19/25\n",
      "515/515 [==============================] - 2s 4ms/step - loss: 0.2812 - acc: 0.9068 - val_loss: 0.9395 - val_acc: 0.7364\n",
      "Epoch 20/25\n",
      "515/515 [==============================] - 2s 4ms/step - loss: 0.2366 - acc: 0.9087 - val_loss: 1.0997 - val_acc: 0.7287\n",
      "Epoch 21/25\n",
      "515/515 [==============================] - 2s 4ms/step - loss: 0.3211 - acc: 0.8893 - val_loss: 1.1578 - val_acc: 0.6434\n",
      "Epoch 22/25\n",
      "515/515 [==============================] - 2s 4ms/step - loss: 0.2375 - acc: 0.9126 - val_loss: 0.9101 - val_acc: 0.7519\n",
      "Epoch 23/25\n",
      "515/515 [==============================] - 2s 4ms/step - loss: 0.2110 - acc: 0.9223 - val_loss: 1.1770 - val_acc: 0.7364\n",
      "Epoch 24/25\n",
      "515/515 [==============================] - 2s 4ms/step - loss: 0.2733 - acc: 0.9029 - val_loss: 1.1102 - val_acc: 0.7054\n",
      "Epoch 25/25\n",
      "515/515 [==============================] - 2s 4ms/step - loss: 0.2063 - acc: 0.9165 - val_loss: 0.9549 - val_acc: 0.7752\n"
     ]
    }
   ],
   "source": [
    "history  = model.fit(X_train_encoded_padded_words,Y_train, epochs = epochs, batch_size=batch_size, verbose=1,\n",
    "validation_data=(X_val_encoded_padded_words, Y_val))"
   ]
  },
  {
   "cell_type": "code",
   "execution_count": 321,
   "metadata": {},
   "outputs": [
    {
     "name": "stdout",
     "output_type": "stream",
     "text": [
      "129/129 [==============================] - 0s 758us/step\n",
      "Test accuracy: 0.7751937984496124 %\n"
     ]
    }
   ],
   "source": [
    "score = model.evaluate(X_val_encoded_padded_words, Y_val, verbose=1)\n",
    "print('Test accuracy:', score[1],'%')"
   ]
  },
  {
   "cell_type": "code",
   "execution_count": 322,
   "metadata": {},
   "outputs": [
    {
     "data": {
      "image/png": "[encoded data removed]",
      "text/plain": [
       "<Figure size 640x480 with 1 Axes>"
      ]
     },
     "metadata": {},
     "output_type": "display_data"
    },
    {
     "data": {
      "image/png": "[encoded data removed]",
      "text/plain": [
       "<Figure size 640x480 with 1 Axes>"
      ]
     },
     "metadata": {},
     "output_type": "display_data"
    }
   ],
   "source": [
    "accuracy = history.history['acc']\n",
    "val_accuracy = history.history['val_acc']\n",
    "loss = history.history['loss']\n",
    "val_loss = history.history['val_loss']\n",
    "epochs = range(len(accuracy))\n",
    "plt.plot(epochs, accuracy, 'bo', label='Training accuracy')\n",
    "plt.plot(epochs, val_accuracy, 'b', label='Validation accuracy')\n",
    "plt.title('Training and validation accuracy')\n",
    "plt.legend()\n",
    "plt.figure()\n",
    "plt.plot(epochs, loss, 'bo', label='Training loss')\n",
    "plt.plot(epochs, val_loss, 'b', label='Validation loss')\n",
    "plt.title('Training and validation loss')\n",
    "plt.legend()\n",
    "plt.show()"
   ]
  },
  {
   "cell_type": "code",
   "execution_count": 328,
   "metadata": {},
   "outputs": [
    {
     "name": "stdout",
     "output_type": "stream",
     "text": [
      "0.97741\n",
      "[1]\n",
      "Result: info\n"
     ]
    }
   ],
   "source": [
    "phrase = \"3T: 0902018996\"\n",
    "tokens = Tokenizer.texts_to_sequences([phrase])\n",
    "tokens = pad_sequences(tokens, maxlen=450)\n",
    "prediction = model.predict(np.array(tokens))\n",
    "i_raw,j_raw = np.where(prediction == prediction.max()) #calculates the index of the maximum element of the array across all axis\n",
    "# i->rows, j->columns\n",
    "i = int(i_raw)\n",
    "j = int(j_raw)\n",
    "print(prediction[0][j])\n",
    "print(j_raw)\n",
    "total_possible_outcomes = ['brand_name', 'info', 'index', 'content', 'total', 'thank_you']\n",
    "print(\"Result:\",total_possible_outcomes[j])"
   ]
  },
  {
   "cell_type": "code",
   "execution_count": 327,
   "metadata": {},
   "outputs": [
    {
     "name": "stdout",
     "output_type": "stream",
     "text": [
      "Saved model to disk\n"
     ]
    }
   ],
   "source": [
    "# serialize model to JSON\n",
    "model_json = model.to_json()\n",
    "with open(\"model.json\", \"w\") as json_file:\n",
    "    json_file.write(model_json)\n",
    "\n",
    "# serialize weights to HDF5\n",
    "model.save_weights(\"model.h5\")\n",
    "print(\"Saved model to disk\")\n",
    "\n",
    "with open('tokenizer.pickle', 'wb') as handle:\n",
    "    pickle.dump(Tokenizer, handle, protocol=pickle.HIGHEST_PROTOCOL)"
   ]
  },
  {
   "cell_type": "code",
   "execution_count": null,
   "metadata": {},
   "outputs": [],
   "source": []
  }
 ],
 "metadata": {
  "kernelspec": {
   "display_name": "Python 3",
   "language": "python",
   "name": "python3"
  },
  "language_info": {
   "codemirror_mode": {
    "name": "ipython",
    "version": 3
   },
   "file_extension": ".py",
   "mimetype": "text/x-python",
   "name": "python",
   "nbconvert_exporter": "python",
   "pygments_lexer": "ipython3",
   "version": "3.6.8"
  }
 },
 "nbformat": 4,
 "nbformat_minor": 2
}
