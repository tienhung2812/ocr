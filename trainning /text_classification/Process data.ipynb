{
 "cells": [
  {
   "cell_type": "code",
   "execution_count": 22,
   "metadata": {},
   "outputs": [
    {
     "name": "stdout",
     "output_type": "stream",
     "text": [
      "Total transaction:  38\n"
     ]
    }
   ],
   "source": [
    "import os\n",
    "from langdetect import detect\n",
    "import pandas as pd\n",
    "import json\n",
    "\n",
    "MIN_ACCEP_CATE_CONF = 0.52\n",
    "\n",
    "media_path = '../../main/media'\n",
    "\n",
    "total_transaction = len(os.listdir(path=media_path))\n",
    "\n",
    "print(\"Total transaction: \",total_transaction)\n",
    "\n",
    "df_col = [\"sentence\",\"brand_name\",\"info\",\"index\",\"content\",\"total\",\"thank_you\"]\n",
    "y_col = [\"brand_name\",\"info\",\"index\",\"content\",\"total\",\"thank_you\"]"
   ]
  },
  {
   "cell_type": "code",
   "execution_count": 29,
   "metadata": {},
   "outputs": [
    {
     "data": {
      "text/html": [
       "<div>\n",
       "<style scoped>\n",
       "    .dataframe tbody tr th:only-of-type {\n",
       "        vertical-align: middle;\n",
       "    }\n",
       "\n",
       "    .dataframe tbody tr th {\n",
       "        vertical-align: top;\n",
       "    }\n",
       "\n",
       "    .dataframe thead th {\n",
       "        text-align: right;\n",
       "    }\n",
       "</style>\n",
       "<table border=\"1\" class=\"dataframe\">\n",
       "  <thead>\n",
       "    <tr style=\"text-align: right;\">\n",
       "      <th></th>\n",
       "      <th>sentence</th>\n",
       "      <th>brand_name</th>\n",
       "      <th>info</th>\n",
       "      <th>index</th>\n",
       "      <th>content</th>\n",
       "      <th>total</th>\n",
       "      <th>thank_you</th>\n",
       "    </tr>\n",
       "  </thead>\n",
       "  <tbody>\n",
       "    <tr>\n",
       "      <th>0</th>\n",
       "      <td>FC GOOD COFEE</td>\n",
       "      <td>1</td>\n",
       "      <td>0</td>\n",
       "      <td>0</td>\n",
       "      <td>0</td>\n",
       "      <td>0</td>\n",
       "      <td>0</td>\n",
       "    </tr>\n",
       "    <tr>\n",
       "      <th>1</th>\n",
       "      <td>ĐC: 126 Lai Hùng Cường, Vĩnh Lọc B,</td>\n",
       "      <td>0</td>\n",
       "      <td>1</td>\n",
       "      <td>0</td>\n",
       "      <td>0</td>\n",
       "      <td>0</td>\n",
       "      <td>0</td>\n",
       "    </tr>\n",
       "    <tr>\n",
       "      <th>2</th>\n",
       "      <td>Bình Chánh, TpHCM</td>\n",
       "      <td>0</td>\n",
       "      <td>1</td>\n",
       "      <td>0</td>\n",
       "      <td>0</td>\n",
       "      <td>0</td>\n",
       "      <td>0</td>\n",
       "    </tr>\n",
       "    <tr>\n",
       "      <th>3</th>\n",
       "      <td>ĐT: 0934145879</td>\n",
       "      <td>0</td>\n",
       "      <td>1</td>\n",
       "      <td>0</td>\n",
       "      <td>0</td>\n",
       "      <td>0</td>\n",
       "      <td>0</td>\n",
       "    </tr>\n",
       "    <tr>\n",
       "      <th>4</th>\n",
       "      <td>HOA DON BAN HANG</td>\n",
       "      <td>0</td>\n",
       "      <td>1</td>\n",
       "      <td>0</td>\n",
       "      <td>0</td>\n",
       "      <td>0</td>\n",
       "      <td>0</td>\n",
       "    </tr>\n",
       "  </tbody>\n",
       "</table>\n",
       "</div>"
      ],
      "text/plain": [
       "                              sentence brand_name info index content total  \\\n",
       "0                        FC GOOD COFEE          1    0     0       0     0   \n",
       "1  ĐC: 126 Lai Hùng Cường, Vĩnh Lọc B,          0    1     0       0     0   \n",
       "2                    Bình Chánh, TpHCM          0    1     0       0     0   \n",
       "3                       ĐT: 0934145879          0    1     0       0     0   \n",
       "4                     HOA DON BAN HANG          0    1     0       0     0   \n",
       "\n",
       "  thank_you  \n",
       "0         0  \n",
       "1         0  \n",
       "2         0  \n",
       "3         0  \n",
       "4         0  "
      ]
     },
     "execution_count": 29,
     "metadata": {},
     "output_type": "execute_result"
    }
   ],
   "source": [
    "# Find data file\n",
    "train_df = pd.DataFrame(columns=df_col)\n",
    "\n",
    "i = 0\n",
    "for transaction in os.listdir(path=media_path):\n",
    "    data_json_path = media_path+\"/\"+transaction+'/text_detection/data.json'\n",
    "    if os.path.exists(data_json_path):\n",
    "            with open(data_json_path) as f:\n",
    "                current_data = json.load(f)\n",
    "                for index, row in enumerate(current_data):\n",
    "                    usable_data = current_data[row]\n",
    "                    accept_conf = False\n",
    "                    try:\n",
    "                        if float(usable_data['cate_conf'])>= MIN_ACCEP_CATE_CONF and len(usable_data['sentence'])>0:\n",
    "                            accept_conf = True\n",
    "\n",
    "                    except:\n",
    "                        pass\n",
    "                    \n",
    "                    if accept_conf:\n",
    "                        add_data = {\n",
    "                            \"sentence\": usable_data['sentence']\n",
    "                        }\n",
    "                        \n",
    "                        for col in y_col:\n",
    "                            if col==usable_data['cate']:\n",
    "                                add_data[col] = 1\n",
    "                            else:\n",
    "                                add_data[col] = 0\n",
    "                        #Check data\n",
    "                        count =0\n",
    "                        for col in y_col:\n",
    "                            if add_data[col] == 0:\n",
    "                                count+=1\n",
    "                                \n",
    "                        if count == len(y_col):\n",
    "                            print(add_data)\n",
    "\n",
    "                        train_df.loc[i] = add_data\n",
    "                        i+=1\n",
    "                \n",
    "train_df.head()"
   ]
  },
  {
   "cell_type": "code",
   "execution_count": 30,
   "metadata": {},
   "outputs": [
    {
     "name": "stdout",
     "output_type": "stream",
     "text": [
      "731\n"
     ]
    }
   ],
   "source": [
    "print(len(train_df.values))"
   ]
  },
  {
   "cell_type": "code",
   "execution_count": 31,
   "metadata": {},
   "outputs": [],
   "source": [
    "train_df.to_csv('30-07-data.csv', index = False,  encoding='utf-8')"
   ]
  }
 ],
 "metadata": {
  "kernelspec": {
   "display_name": "Python 3",
   "language": "python",
   "name": "python3"
  },
  "language_info": {
   "codemirror_mode": {
    "name": "ipython",
    "version": 3
   },
   "file_extension": ".py",
   "mimetype": "text/x-python",
   "name": "python",
   "nbconvert_exporter": "python",
   "pygments_lexer": "ipython3",
   "version": "3.7.1"
  }
 },
 "nbformat": 4,
 "nbformat_minor": 2
}
